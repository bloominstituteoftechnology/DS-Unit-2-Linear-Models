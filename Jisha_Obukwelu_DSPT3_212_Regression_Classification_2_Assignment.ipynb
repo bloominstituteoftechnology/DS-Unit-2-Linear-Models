{
  "nbformat": 4,
  "nbformat_minor": 0,
  "metadata": {
    "colab": {
      "name": "Jisha Obukwelu_DSPT3_212_Regression_Classification_2_Assignment.ipynb",
      "provenance": [],
      "collapsed_sections": [],
      "include_colab_link": true
    },
    "kernelspec": {
      "display_name": "Python 3",
      "language": "python",
      "name": "python3"
    },
    "language_info": {
      "codemirror_mode": {
        "name": "ipython",
        "version": 3
      },
      "file_extension": ".py",
      "mimetype": "text/x-python",
      "name": "python",
      "nbconvert_exporter": "python",
      "pygments_lexer": "ipython3",
      "version": "3.7.3"
    }
  },
  "cells": [
    {
      "cell_type": "markdown",
      "metadata": {
        "id": "view-in-github",
        "colab_type": "text"
      },
      "source": [
        "<a href=\"https://colab.research.google.com/github/jiobu1/DS-Unit-2-Linear-Models/blob/master/Jisha_Obukwelu_DSPT3_212_Regression_Classification_2_Assignment.ipynb\" target=\"_parent\"><img src=\"https://colab.research.google.com/assets/colab-badge.svg\" alt=\"Open In Colab\"/></a>"
      ]
    },
    {
      "cell_type": "markdown",
      "metadata": {
        "id": "dn1v2gPqrpa5",
        "colab_type": "text"
      },
      "source": [
        "Lambda School Data Science\n",
        "\n",
        "*Unit 2, Sprint 1, Module 2*\n",
        "\n",
        "---"
      ]
    },
    {
      "cell_type": "markdown",
      "metadata": {
        "colab_type": "text",
        "id": "7IXUfiQ2UKj6"
      },
      "source": [
        "# Regression 2\n",
        "\n",
        "## Assignment\n",
        "\n",
        "You'll continue to **predict how much it costs to rent an apartment in NYC,** using the dataset from renthop.com.\n",
        "\n",
        "- [x] Do train/test split. Use data from April & May 2016 to train. Use data from June 2016 to test.\n",
        "- [x] Engineer at least two new features. (See below for explanation & ideas.)\n",
        "- [x] Fit a linear regression model with at least two features.\n",
        "- [x] Get the model's coefficients and intercept.\n",
        "- [x] Get regression metrics RMSE, MAE, and $R^2$, for both the train and test data.\n",
        "- [x] What's the best test MAE you can get? Share your score and features used with your cohort on Slack!\n",
        "- [x] As always, commit your notebook to our fork of the GitHub repo.\n",
        "\n",
        "\n",
        "#### [Feature Engineering](https://en.wikipedia.org/wiki/Feature_engineering)\n",
        "\n",
        "> \"Some machine learning projects succeed and some fail. What makes the difference? Easily the most important factor is the features used.\" — Pedro Domingos, [\"A Few Useful Things to Know about Machine Learning\"](https://homes.cs.washington.edu/~pedrod/papers/cacm12.pdf)\n",
        "\n",
        "> \"Coming up with features is difficult, time-consuming, requires expert knowledge. 'Applied machine learning' is basically feature engineering.\" — Andrew Ng, [Machine Learning and AI via Brain simulations](https://forum.stanford.edu/events/2011/2011slides/plenary/2011plenaryNg.pdf) \n",
        "\n",
        "> Feature engineering is the process of using domain knowledge of the data to create features that make machine learning algorithms work. \n",
        "\n",
        "#### Feature Ideas\n",
        "- Does the apartment have a description?\n",
        "- How long is the description?\n",
        "- How many total perks does each apartment have?\n",
        "- Are cats _or_ dogs allowed?\n",
        "- Are cats _and_ dogs allowed?\n",
        "- Total number of rooms (beds + baths)\n",
        "- Ratio of beds to baths\n",
        "- What's the neighborhood, based on address or latitude & longitude?\n",
        "\n",
        "## Stretch Goals\n",
        "- [x] If you want more math, skim [_An Introduction to Statistical Learning_](http://faculty.marshall.usc.edu/gareth-james/ISL/ISLR%20Seventh%20Printing.pdf),  Chapter 3.1, Simple Linear Regression, & Chapter 3.2, Multiple Linear Regression\n",
        "- [x] If you want more introduction, watch [Brandon Foltz, Statistics 101: Simple Linear Regression](https://www.youtube.com/watch?v=ZkjP5RJLQF4)\n",
        "(20 minutes, over 1 million views)\n",
        "- [x] Add your own stretch goal(s) !\n",
        "- created function to calculate all in 1 step. \n",
        "- try to see visually the boroughs (saw this on a previous video)"
      ]
    },
    {
      "cell_type": "markdown",
      "metadata": {
        "id": "atCuXutDT5vo",
        "colab_type": "text"
      },
      "source": [
        "####Taking care of imports"
      ]
    },
    {
      "cell_type": "code",
      "metadata": {
        "id": "KCIq0s_0T47f",
        "colab_type": "code",
        "colab": {}
      },
      "source": [
        "import numpy as np\n",
        "import pandas as pd\n",
        "\n",
        "import itertools\n",
        "\n",
        "import plotly.graph_objs as go\n",
        "import matplotlib.pyplot as plt\n",
        "import plotly.express as px\n",
        "\n",
        "from sklearn.linear_model import LinearRegression\n",
        "from sklearn.preprocessing import StandardScaler\n",
        "from sklearn.metrics import mean_absolute_error, mean_squared_error, r2_score"
      ],
      "execution_count": 0,
      "outputs": []
    },
    {
      "cell_type": "code",
      "metadata": {
        "colab_type": "code",
        "id": "o9eSnDYhUGD7",
        "colab": {}
      },
      "source": [
        "%%capture\n",
        "import sys\n",
        "\n",
        "# If you're on Colab:\n",
        "if 'google.colab' in sys.modules:\n",
        "    DATA_PATH = 'https://raw.githubusercontent.com/LambdaSchool/DS-Unit-2-Applied-Modeling/master/data/'\n",
        "    !pip install category_encoders==2.*\n",
        "\n",
        "# If you're working locally:\n",
        "else:\n",
        "    DATA_PATH = '../data/'\n",
        "    \n",
        "# Ignore this Numpy warning when using Plotly Express:\n",
        "# FutureWarning: Method .ptp is deprecated and will be removed in a future version. Use numpy.ptp instead.\n",
        "import warnings\n",
        "warnings.filterwarnings(action='ignore', category=FutureWarning, module='numpy')"
      ],
      "execution_count": 0,
      "outputs": []
    },
    {
      "cell_type": "code",
      "metadata": {
        "colab_type": "code",
        "id": "cvrw-T3bZOuW",
        "colab": {}
      },
      "source": [
        "# Read New York City apartment rental listing data\n",
        "df = pd.read_csv(DATA_PATH+'apartments/renthop-nyc.csv')\n",
        "assert df.shape == (49352, 34)\n",
        "\n",
        "# Remove the most extreme 1% prices,\n",
        "# the most extreme .1% latitudes, &\n",
        "# the most extreme .1% longitudes\n",
        "df = df[(df['price'] >= np.percentile(df['price'], 0.5)) & \n",
        "        (df['price'] <= np.percentile(df['price'], 99.5)) & \n",
        "        (df['latitude'] >= np.percentile(df['latitude'], 0.05)) & \n",
        "        (df['latitude'] < np.percentile(df['latitude'], 99.95)) &\n",
        "        (df['longitude'] >= np.percentile(df['longitude'], 0.05)) & \n",
        "        (df['longitude'] <= np.percentile(df['longitude'], 99.95))]"
      ],
      "execution_count": 0,
      "outputs": []
    },
    {
      "cell_type": "markdown",
      "metadata": {
        "id": "Eii3-epP2wio",
        "colab_type": "text"
      },
      "source": [
        "* Data Exploration\n",
        "- what data can be combined and "
      ]
    },
    {
      "cell_type": "code",
      "metadata": {
        "id": "xVr1rmaAr-aN",
        "colab_type": "code",
        "outputId": "20037fed-1931-4026-a5f6-66fced085071",
        "colab": {
          "base_uri": "https://localhost:8080/",
          "height": 487
        }
      },
      "source": [
        "df.head()"
      ],
      "execution_count": 0,
      "outputs": [
        {
          "output_type": "execute_result",
          "data": {
            "text/html": [
              "<div>\n",
              "<style scoped>\n",
              "    .dataframe tbody tr th:only-of-type {\n",
              "        vertical-align: middle;\n",
              "    }\n",
              "\n",
              "    .dataframe tbody tr th {\n",
              "        vertical-align: top;\n",
              "    }\n",
              "\n",
              "    .dataframe thead th {\n",
              "        text-align: right;\n",
              "    }\n",
              "</style>\n",
              "<table border=\"1\" class=\"dataframe\">\n",
              "  <thead>\n",
              "    <tr style=\"text-align: right;\">\n",
              "      <th></th>\n",
              "      <th>bathrooms</th>\n",
              "      <th>bedrooms</th>\n",
              "      <th>created</th>\n",
              "      <th>description</th>\n",
              "      <th>display_address</th>\n",
              "      <th>latitude</th>\n",
              "      <th>longitude</th>\n",
              "      <th>price</th>\n",
              "      <th>street_address</th>\n",
              "      <th>interest_level</th>\n",
              "      <th>elevator</th>\n",
              "      <th>cats_allowed</th>\n",
              "      <th>hardwood_floors</th>\n",
              "      <th>dogs_allowed</th>\n",
              "      <th>doorman</th>\n",
              "      <th>dishwasher</th>\n",
              "      <th>no_fee</th>\n",
              "      <th>laundry_in_building</th>\n",
              "      <th>fitness_center</th>\n",
              "      <th>pre-war</th>\n",
              "      <th>laundry_in_unit</th>\n",
              "      <th>roof_deck</th>\n",
              "      <th>outdoor_space</th>\n",
              "      <th>dining_room</th>\n",
              "      <th>high_speed_internet</th>\n",
              "      <th>balcony</th>\n",
              "      <th>swimming_pool</th>\n",
              "      <th>new_construction</th>\n",
              "      <th>terrace</th>\n",
              "      <th>exclusive</th>\n",
              "      <th>loft</th>\n",
              "      <th>garden_patio</th>\n",
              "      <th>wheelchair_access</th>\n",
              "      <th>common_outdoor_space</th>\n",
              "    </tr>\n",
              "  </thead>\n",
              "  <tbody>\n",
              "    <tr>\n",
              "      <th>0</th>\n",
              "      <td>1.5</td>\n",
              "      <td>3</td>\n",
              "      <td>2016-06-24 07:54:24</td>\n",
              "      <td>A Brand New 3 Bedroom 1.5 bath ApartmentEnjoy ...</td>\n",
              "      <td>Metropolitan Avenue</td>\n",
              "      <td>40.7145</td>\n",
              "      <td>-73.9425</td>\n",
              "      <td>3000</td>\n",
              "      <td>792 Metropolitan Avenue</td>\n",
              "      <td>medium</td>\n",
              "      <td>0</td>\n",
              "      <td>0</td>\n",
              "      <td>0</td>\n",
              "      <td>0</td>\n",
              "      <td>0</td>\n",
              "      <td>0</td>\n",
              "      <td>0</td>\n",
              "      <td>0</td>\n",
              "      <td>0</td>\n",
              "      <td>0</td>\n",
              "      <td>0</td>\n",
              "      <td>0</td>\n",
              "      <td>0</td>\n",
              "      <td>0</td>\n",
              "      <td>0</td>\n",
              "      <td>0</td>\n",
              "      <td>0</td>\n",
              "      <td>0</td>\n",
              "      <td>0</td>\n",
              "      <td>0</td>\n",
              "      <td>0</td>\n",
              "      <td>0</td>\n",
              "      <td>0</td>\n",
              "      <td>0</td>\n",
              "    </tr>\n",
              "    <tr>\n",
              "      <th>1</th>\n",
              "      <td>1.0</td>\n",
              "      <td>2</td>\n",
              "      <td>2016-06-12 12:19:27</td>\n",
              "      <td></td>\n",
              "      <td>Columbus Avenue</td>\n",
              "      <td>40.7947</td>\n",
              "      <td>-73.9667</td>\n",
              "      <td>5465</td>\n",
              "      <td>808 Columbus Avenue</td>\n",
              "      <td>low</td>\n",
              "      <td>1</td>\n",
              "      <td>1</td>\n",
              "      <td>0</td>\n",
              "      <td>1</td>\n",
              "      <td>1</td>\n",
              "      <td>0</td>\n",
              "      <td>0</td>\n",
              "      <td>0</td>\n",
              "      <td>1</td>\n",
              "      <td>0</td>\n",
              "      <td>0</td>\n",
              "      <td>0</td>\n",
              "      <td>0</td>\n",
              "      <td>0</td>\n",
              "      <td>0</td>\n",
              "      <td>0</td>\n",
              "      <td>0</td>\n",
              "      <td>0</td>\n",
              "      <td>0</td>\n",
              "      <td>0</td>\n",
              "      <td>0</td>\n",
              "      <td>0</td>\n",
              "      <td>0</td>\n",
              "      <td>0</td>\n",
              "    </tr>\n",
              "    <tr>\n",
              "      <th>2</th>\n",
              "      <td>1.0</td>\n",
              "      <td>1</td>\n",
              "      <td>2016-04-17 03:26:41</td>\n",
              "      <td>Top Top West Village location, beautiful Pre-w...</td>\n",
              "      <td>W 13 Street</td>\n",
              "      <td>40.7388</td>\n",
              "      <td>-74.0018</td>\n",
              "      <td>2850</td>\n",
              "      <td>241 W 13 Street</td>\n",
              "      <td>high</td>\n",
              "      <td>0</td>\n",
              "      <td>0</td>\n",
              "      <td>1</td>\n",
              "      <td>0</td>\n",
              "      <td>0</td>\n",
              "      <td>1</td>\n",
              "      <td>0</td>\n",
              "      <td>1</td>\n",
              "      <td>0</td>\n",
              "      <td>0</td>\n",
              "      <td>0</td>\n",
              "      <td>0</td>\n",
              "      <td>0</td>\n",
              "      <td>0</td>\n",
              "      <td>0</td>\n",
              "      <td>0</td>\n",
              "      <td>0</td>\n",
              "      <td>0</td>\n",
              "      <td>0</td>\n",
              "      <td>0</td>\n",
              "      <td>0</td>\n",
              "      <td>0</td>\n",
              "      <td>0</td>\n",
              "      <td>0</td>\n",
              "    </tr>\n",
              "    <tr>\n",
              "      <th>3</th>\n",
              "      <td>1.0</td>\n",
              "      <td>1</td>\n",
              "      <td>2016-04-18 02:22:02</td>\n",
              "      <td>Building Amenities - Garage - Garden - fitness...</td>\n",
              "      <td>East 49th Street</td>\n",
              "      <td>40.7539</td>\n",
              "      <td>-73.9677</td>\n",
              "      <td>3275</td>\n",
              "      <td>333 East 49th Street</td>\n",
              "      <td>low</td>\n",
              "      <td>0</td>\n",
              "      <td>0</td>\n",
              "      <td>1</td>\n",
              "      <td>0</td>\n",
              "      <td>0</td>\n",
              "      <td>0</td>\n",
              "      <td>1</td>\n",
              "      <td>0</td>\n",
              "      <td>0</td>\n",
              "      <td>0</td>\n",
              "      <td>0</td>\n",
              "      <td>0</td>\n",
              "      <td>0</td>\n",
              "      <td>0</td>\n",
              "      <td>0</td>\n",
              "      <td>0</td>\n",
              "      <td>0</td>\n",
              "      <td>0</td>\n",
              "      <td>0</td>\n",
              "      <td>0</td>\n",
              "      <td>0</td>\n",
              "      <td>0</td>\n",
              "      <td>0</td>\n",
              "      <td>0</td>\n",
              "    </tr>\n",
              "    <tr>\n",
              "      <th>4</th>\n",
              "      <td>1.0</td>\n",
              "      <td>4</td>\n",
              "      <td>2016-04-28 01:32:41</td>\n",
              "      <td>Beautifully renovated 3 bedroom flex 4 bedroom...</td>\n",
              "      <td>West 143rd Street</td>\n",
              "      <td>40.8241</td>\n",
              "      <td>-73.9493</td>\n",
              "      <td>3350</td>\n",
              "      <td>500 West 143rd Street</td>\n",
              "      <td>low</td>\n",
              "      <td>0</td>\n",
              "      <td>0</td>\n",
              "      <td>0</td>\n",
              "      <td>0</td>\n",
              "      <td>0</td>\n",
              "      <td>0</td>\n",
              "      <td>0</td>\n",
              "      <td>0</td>\n",
              "      <td>0</td>\n",
              "      <td>1</td>\n",
              "      <td>0</td>\n",
              "      <td>0</td>\n",
              "      <td>0</td>\n",
              "      <td>0</td>\n",
              "      <td>0</td>\n",
              "      <td>0</td>\n",
              "      <td>0</td>\n",
              "      <td>0</td>\n",
              "      <td>0</td>\n",
              "      <td>0</td>\n",
              "      <td>0</td>\n",
              "      <td>0</td>\n",
              "      <td>0</td>\n",
              "      <td>0</td>\n",
              "    </tr>\n",
              "  </tbody>\n",
              "</table>\n",
              "</div>"
            ],
            "text/plain": [
              "   bathrooms  bedrooms  ... wheelchair_access common_outdoor_space\n",
              "0        1.5         3  ...                 0                    0\n",
              "1        1.0         2  ...                 0                    0\n",
              "2        1.0         1  ...                 0                    0\n",
              "3        1.0         1  ...                 0                    0\n",
              "4        1.0         4  ...                 0                    0\n",
              "\n",
              "[5 rows x 34 columns]"
            ]
          },
          "metadata": {
            "tags": []
          },
          "execution_count": 116
        }
      ]
    },
    {
      "cell_type": "markdown",
      "metadata": {
        "id": "44wTsnJ5MjJ4",
        "colab_type": "text"
      },
      "source": [
        "#### 1. Engineer at least two new features. \n"
      ]
    },
    {
      "cell_type": "markdown",
      "metadata": {
        "id": "GQNM66gnNBU6",
        "colab_type": "text"
      },
      "source": [
        "\n",
        "\n",
        "* Already engineered one feature in my previous notebook, Haversine point (takes longitude and latitude and maps as a single point taking into account Earth's curvature)\n",
        "* Total number of rooms (beds + baths)\n",
        "* Luxury rentals - How many total perks does each apartment have?\n",
        "* Are cats or dogs allowed?\n",
        "* Ratio of beds to baths\n",
        "* What's the neighborhood, based on address or latitude & longitude?\n",
        "\n",
        "\n"
      ]
    },
    {
      "cell_type": "code",
      "metadata": {
        "id": "scQG7Y6lMiTD",
        "colab_type": "code",
        "colab": {}
      },
      "source": [
        "#Haversine point\n",
        "from math import radians, cos, sin, asin, sqrt\n",
        "\n",
        "def single_pt_haversine(lat, lng, degrees=True):\n",
        "    \"\"\"\n",
        "    'Single-point' Haversine: Calculates the great circle distance\n",
        "    between a point on Earth and the (0, 0) lat-long coordinate\n",
        "    \"\"\"\n",
        "    r = 6371 # Earth's radius (km). Have r = 3956 if you want miles\n",
        "\n",
        "    # Convert decimal degrees to radians\n",
        "    if degrees:\n",
        "        lat, lng = map(radians, [lat, lng])\n",
        "\n",
        "    # 'Single-point' Haversine formula\n",
        "    a = sin(lat/2)**2 + cos(lat) * sin(lng/2)**2\n",
        "    d = 2 * r * asin(sqrt(a)) \n",
        "\n",
        "    return d"
      ],
      "execution_count": 0,
      "outputs": []
    },
    {
      "cell_type": "code",
      "metadata": {
        "id": "C62-c8YkPwtl",
        "colab_type": "code",
        "colab": {}
      },
      "source": [
        "df['haversine'] = [single_pt_haversine(x, y) for x, y in zip(df.latitude, df.longitude)]"
      ],
      "execution_count": 0,
      "outputs": []
    },
    {
      "cell_type": "markdown",
      "metadata": {
        "id": "_UaZO60Z6113",
        "colab_type": "text"
      },
      "source": [
        "##### Adding the number of bathrooms and bedrooms together\n",
        "\n",
        "\n",
        "\n"
      ]
    },
    {
      "cell_type": "code",
      "metadata": {
        "id": "NVQRfXaA48iW",
        "colab_type": "code",
        "colab": {}
      },
      "source": [
        "#Number of rooms\n",
        "df['rooms'] = df['bathrooms'] + df['bedrooms']"
      ],
      "execution_count": 0,
      "outputs": []
    },
    {
      "cell_type": "markdown",
      "metadata": {
        "id": "al_QqPm2AP-r",
        "colab_type": "text"
      },
      "source": [
        "##### Changing interest level to numeric using .replace()"
      ]
    },
    {
      "cell_type": "code",
      "metadata": {
        "id": "MkTF3w92AmEp",
        "colab_type": "code",
        "outputId": "865a8680-c282-4a28-ac91-4ce839e980fb",
        "colab": {
          "base_uri": "https://localhost:8080/",
          "height": 33
        }
      },
      "source": [
        "df['interest_level'].unique()"
      ],
      "execution_count": 0,
      "outputs": [
        {
          "output_type": "execute_result",
          "data": {
            "text/plain": [
              "array(['medium', 'low', 'high'], dtype=object)"
            ]
          },
          "metadata": {
            "tags": []
          },
          "execution_count": 120
        }
      ]
    },
    {
      "cell_type": "code",
      "metadata": {
        "id": "enSXPim3_H8r",
        "colab_type": "code",
        "colab": {}
      },
      "source": [
        "df['interest_level'] = df['interest_level'].replace(['low', 'medium', 'high'], [1, 2, 3])"
      ],
      "execution_count": 0,
      "outputs": []
    },
    {
      "cell_type": "code",
      "metadata": {
        "id": "r05TUuNdA13U",
        "colab_type": "code",
        "outputId": "3cf3fdf2-c651-4927-d782-e13468f7bd7c",
        "colab": {
          "base_uri": "https://localhost:8080/",
          "height": 33
        }
      },
      "source": [
        "df['interest_level'].unique()"
      ],
      "execution_count": 0,
      "outputs": [
        {
          "output_type": "execute_result",
          "data": {
            "text/plain": [
              "array([2, 1, 3])"
            ]
          },
          "metadata": {
            "tags": []
          },
          "execution_count": 122
        }
      ]
    },
    {
      "cell_type": "markdown",
      "metadata": {
        "id": "nJN995YkBBBd",
        "colab_type": "text"
      },
      "source": [
        "#####Are pets allowed \\\n",
        "(I am going to add combine the 2 columns - 1, 0 for whether or not animals are allowed)"
      ]
    },
    {
      "cell_type": "code",
      "metadata": {
        "id": "9LMjM23UA_Fd",
        "colab_type": "code",
        "outputId": "6565a44a-5160-4e03-f9f5-a38f291f6ae6",
        "colab": {
          "base_uri": "https://localhost:8080/",
          "height": 33
        }
      },
      "source": [
        "df['cats_allowed'].sum()"
      ],
      "execution_count": 0,
      "outputs": [
        {
          "output_type": "execute_result",
          "data": {
            "text/plain": [
              "23348"
            ]
          },
          "metadata": {
            "tags": []
          },
          "execution_count": 123
        }
      ]
    },
    {
      "cell_type": "code",
      "metadata": {
        "id": "ooAF7FeOB2SJ",
        "colab_type": "code",
        "outputId": "e6483e3b-fb57-45e8-f775-2c5a161241ad",
        "colab": {
          "base_uri": "https://localhost:8080/",
          "height": 33
        }
      },
      "source": [
        "df['dogs_allowed'].sum()"
      ],
      "execution_count": 0,
      "outputs": [
        {
          "output_type": "execute_result",
          "data": {
            "text/plain": [
              "21852"
            ]
          },
          "metadata": {
            "tags": []
          },
          "execution_count": 124
        }
      ]
    },
    {
      "cell_type": "code",
      "metadata": {
        "id": "G4SMbURwCFjn",
        "colab_type": "code",
        "outputId": "c328bdbd-a2ec-47fd-dc5c-7d0aaeec60c5",
        "colab": {
          "base_uri": "https://localhost:8080/",
          "height": 487
        }
      },
      "source": [
        "def pets_allowed(x):\n",
        "  if x['cats_allowed'] == 1:\n",
        "    return 1\n",
        "  elif x['dogs_allowed'] == 1:\n",
        "    return 1\n",
        "  else:\n",
        "    return 0\n",
        "  \n",
        "df['pets_allowed'] = df.apply(pets_allowed, axis=1)\n",
        "df.head()"
      ],
      "execution_count": 0,
      "outputs": [
        {
          "output_type": "execute_result",
          "data": {
            "text/html": [
              "<div>\n",
              "<style scoped>\n",
              "    .dataframe tbody tr th:only-of-type {\n",
              "        vertical-align: middle;\n",
              "    }\n",
              "\n",
              "    .dataframe tbody tr th {\n",
              "        vertical-align: top;\n",
              "    }\n",
              "\n",
              "    .dataframe thead th {\n",
              "        text-align: right;\n",
              "    }\n",
              "</style>\n",
              "<table border=\"1\" class=\"dataframe\">\n",
              "  <thead>\n",
              "    <tr style=\"text-align: right;\">\n",
              "      <th></th>\n",
              "      <th>bathrooms</th>\n",
              "      <th>bedrooms</th>\n",
              "      <th>created</th>\n",
              "      <th>description</th>\n",
              "      <th>display_address</th>\n",
              "      <th>latitude</th>\n",
              "      <th>longitude</th>\n",
              "      <th>price</th>\n",
              "      <th>street_address</th>\n",
              "      <th>interest_level</th>\n",
              "      <th>elevator</th>\n",
              "      <th>cats_allowed</th>\n",
              "      <th>hardwood_floors</th>\n",
              "      <th>dogs_allowed</th>\n",
              "      <th>doorman</th>\n",
              "      <th>dishwasher</th>\n",
              "      <th>no_fee</th>\n",
              "      <th>laundry_in_building</th>\n",
              "      <th>fitness_center</th>\n",
              "      <th>pre-war</th>\n",
              "      <th>laundry_in_unit</th>\n",
              "      <th>roof_deck</th>\n",
              "      <th>outdoor_space</th>\n",
              "      <th>dining_room</th>\n",
              "      <th>high_speed_internet</th>\n",
              "      <th>balcony</th>\n",
              "      <th>swimming_pool</th>\n",
              "      <th>new_construction</th>\n",
              "      <th>terrace</th>\n",
              "      <th>exclusive</th>\n",
              "      <th>loft</th>\n",
              "      <th>garden_patio</th>\n",
              "      <th>wheelchair_access</th>\n",
              "      <th>common_outdoor_space</th>\n",
              "      <th>haversine</th>\n",
              "      <th>rooms</th>\n",
              "      <th>pets_allowed</th>\n",
              "    </tr>\n",
              "  </thead>\n",
              "  <tbody>\n",
              "    <tr>\n",
              "      <th>0</th>\n",
              "      <td>1.5</td>\n",
              "      <td>3</td>\n",
              "      <td>2016-06-24 07:54:24</td>\n",
              "      <td>A Brand New 3 Bedroom 1.5 bath ApartmentEnjoy ...</td>\n",
              "      <td>Metropolitan Avenue</td>\n",
              "      <td>40.7145</td>\n",
              "      <td>-73.9425</td>\n",
              "      <td>3000</td>\n",
              "      <td>792 Metropolitan Avenue</td>\n",
              "      <td>2</td>\n",
              "      <td>0</td>\n",
              "      <td>0</td>\n",
              "      <td>0</td>\n",
              "      <td>0</td>\n",
              "      <td>0</td>\n",
              "      <td>0</td>\n",
              "      <td>0</td>\n",
              "      <td>0</td>\n",
              "      <td>0</td>\n",
              "      <td>0</td>\n",
              "      <td>0</td>\n",
              "      <td>0</td>\n",
              "      <td>0</td>\n",
              "      <td>0</td>\n",
              "      <td>0</td>\n",
              "      <td>0</td>\n",
              "      <td>0</td>\n",
              "      <td>0</td>\n",
              "      <td>0</td>\n",
              "      <td>0</td>\n",
              "      <td>0</td>\n",
              "      <td>0</td>\n",
              "      <td>0</td>\n",
              "      <td>0</td>\n",
              "      <td>8661.842498</td>\n",
              "      <td>4.5</td>\n",
              "      <td>0</td>\n",
              "    </tr>\n",
              "    <tr>\n",
              "      <th>1</th>\n",
              "      <td>1.0</td>\n",
              "      <td>2</td>\n",
              "      <td>2016-06-12 12:19:27</td>\n",
              "      <td></td>\n",
              "      <td>Columbus Avenue</td>\n",
              "      <td>40.7947</td>\n",
              "      <td>-73.9667</td>\n",
              "      <td>5465</td>\n",
              "      <td>808 Columbus Avenue</td>\n",
              "      <td>1</td>\n",
              "      <td>1</td>\n",
              "      <td>1</td>\n",
              "      <td>0</td>\n",
              "      <td>1</td>\n",
              "      <td>1</td>\n",
              "      <td>0</td>\n",
              "      <td>0</td>\n",
              "      <td>0</td>\n",
              "      <td>1</td>\n",
              "      <td>0</td>\n",
              "      <td>0</td>\n",
              "      <td>0</td>\n",
              "      <td>0</td>\n",
              "      <td>0</td>\n",
              "      <td>0</td>\n",
              "      <td>0</td>\n",
              "      <td>0</td>\n",
              "      <td>0</td>\n",
              "      <td>0</td>\n",
              "      <td>0</td>\n",
              "      <td>0</td>\n",
              "      <td>0</td>\n",
              "      <td>0</td>\n",
              "      <td>0</td>\n",
              "      <td>8665.491494</td>\n",
              "      <td>3.0</td>\n",
              "      <td>1</td>\n",
              "    </tr>\n",
              "    <tr>\n",
              "      <th>2</th>\n",
              "      <td>1.0</td>\n",
              "      <td>1</td>\n",
              "      <td>2016-04-17 03:26:41</td>\n",
              "      <td>Top Top West Village location, beautiful Pre-w...</td>\n",
              "      <td>W 13 Street</td>\n",
              "      <td>40.7388</td>\n",
              "      <td>-74.0018</td>\n",
              "      <td>2850</td>\n",
              "      <td>241 W 13 Street</td>\n",
              "      <td>3</td>\n",
              "      <td>0</td>\n",
              "      <td>0</td>\n",
              "      <td>1</td>\n",
              "      <td>0</td>\n",
              "      <td>0</td>\n",
              "      <td>1</td>\n",
              "      <td>0</td>\n",
              "      <td>1</td>\n",
              "      <td>0</td>\n",
              "      <td>0</td>\n",
              "      <td>0</td>\n",
              "      <td>0</td>\n",
              "      <td>0</td>\n",
              "      <td>0</td>\n",
              "      <td>0</td>\n",
              "      <td>0</td>\n",
              "      <td>0</td>\n",
              "      <td>0</td>\n",
              "      <td>0</td>\n",
              "      <td>0</td>\n",
              "      <td>0</td>\n",
              "      <td>0</td>\n",
              "      <td>0</td>\n",
              "      <td>0</td>\n",
              "      <td>8667.251778</td>\n",
              "      <td>2.0</td>\n",
              "      <td>0</td>\n",
              "    </tr>\n",
              "    <tr>\n",
              "      <th>3</th>\n",
              "      <td>1.0</td>\n",
              "      <td>1</td>\n",
              "      <td>2016-04-18 02:22:02</td>\n",
              "      <td>Building Amenities - Garage - Garden - fitness...</td>\n",
              "      <td>East 49th Street</td>\n",
              "      <td>40.7539</td>\n",
              "      <td>-73.9677</td>\n",
              "      <td>3275</td>\n",
              "      <td>333 East 49th Street</td>\n",
              "      <td>1</td>\n",
              "      <td>0</td>\n",
              "      <td>0</td>\n",
              "      <td>1</td>\n",
              "      <td>0</td>\n",
              "      <td>0</td>\n",
              "      <td>0</td>\n",
              "      <td>1</td>\n",
              "      <td>0</td>\n",
              "      <td>0</td>\n",
              "      <td>0</td>\n",
              "      <td>0</td>\n",
              "      <td>0</td>\n",
              "      <td>0</td>\n",
              "      <td>0</td>\n",
              "      <td>0</td>\n",
              "      <td>0</td>\n",
              "      <td>0</td>\n",
              "      <td>0</td>\n",
              "      <td>0</td>\n",
              "      <td>0</td>\n",
              "      <td>0</td>\n",
              "      <td>0</td>\n",
              "      <td>0</td>\n",
              "      <td>0</td>\n",
              "      <td>8664.737441</td>\n",
              "      <td>2.0</td>\n",
              "      <td>0</td>\n",
              "    </tr>\n",
              "    <tr>\n",
              "      <th>4</th>\n",
              "      <td>1.0</td>\n",
              "      <td>4</td>\n",
              "      <td>2016-04-28 01:32:41</td>\n",
              "      <td>Beautifully renovated 3 bedroom flex 4 bedroom...</td>\n",
              "      <td>West 143rd Street</td>\n",
              "      <td>40.8241</td>\n",
              "      <td>-73.9493</td>\n",
              "      <td>3350</td>\n",
              "      <td>500 West 143rd Street</td>\n",
              "      <td>1</td>\n",
              "      <td>0</td>\n",
              "      <td>0</td>\n",
              "      <td>0</td>\n",
              "      <td>0</td>\n",
              "      <td>0</td>\n",
              "      <td>0</td>\n",
              "      <td>0</td>\n",
              "      <td>0</td>\n",
              "      <td>0</td>\n",
              "      <td>1</td>\n",
              "      <td>0</td>\n",
              "      <td>0</td>\n",
              "      <td>0</td>\n",
              "      <td>0</td>\n",
              "      <td>0</td>\n",
              "      <td>0</td>\n",
              "      <td>0</td>\n",
              "      <td>0</td>\n",
              "      <td>0</td>\n",
              "      <td>0</td>\n",
              "      <td>0</td>\n",
              "      <td>0</td>\n",
              "      <td>0</td>\n",
              "      <td>0</td>\n",
              "      <td>8664.656031</td>\n",
              "      <td>5.0</td>\n",
              "      <td>0</td>\n",
              "    </tr>\n",
              "  </tbody>\n",
              "</table>\n",
              "</div>"
            ],
            "text/plain": [
              "   bathrooms  bedrooms              created  ...    haversine rooms  pets_allowed\n",
              "0        1.5         3  2016-06-24 07:54:24  ...  8661.842498   4.5             0\n",
              "1        1.0         2  2016-06-12 12:19:27  ...  8665.491494   3.0             1\n",
              "2        1.0         1  2016-04-17 03:26:41  ...  8667.251778   2.0             0\n",
              "3        1.0         1  2016-04-18 02:22:02  ...  8664.737441   2.0             0\n",
              "4        1.0         4  2016-04-28 01:32:41  ...  8664.656031   5.0             0\n",
              "\n",
              "[5 rows x 37 columns]"
            ]
          },
          "metadata": {
            "tags": []
          },
          "execution_count": 125
        }
      ]
    },
    {
      "cell_type": "code",
      "metadata": {
        "id": "A4bMb8jtDUuF",
        "colab_type": "code",
        "colab": {}
      },
      "source": [
        "#dropping cats_allowed/dogs_allowed columns\n",
        "df = df.drop(['cats_allowed', 'dogs_allowed'], axis=1)"
      ],
      "execution_count": 0,
      "outputs": []
    },
    {
      "cell_type": "code",
      "metadata": {
        "id": "0widjlUqEQ-q",
        "colab_type": "code",
        "outputId": "e6041326-96fb-4b25-a5e9-7b6981985a08",
        "colab": {
          "base_uri": "https://localhost:8080/",
          "height": 487
        }
      },
      "source": [
        "df.head()"
      ],
      "execution_count": 0,
      "outputs": [
        {
          "output_type": "execute_result",
          "data": {
            "text/html": [
              "<div>\n",
              "<style scoped>\n",
              "    .dataframe tbody tr th:only-of-type {\n",
              "        vertical-align: middle;\n",
              "    }\n",
              "\n",
              "    .dataframe tbody tr th {\n",
              "        vertical-align: top;\n",
              "    }\n",
              "\n",
              "    .dataframe thead th {\n",
              "        text-align: right;\n",
              "    }\n",
              "</style>\n",
              "<table border=\"1\" class=\"dataframe\">\n",
              "  <thead>\n",
              "    <tr style=\"text-align: right;\">\n",
              "      <th></th>\n",
              "      <th>bathrooms</th>\n",
              "      <th>bedrooms</th>\n",
              "      <th>created</th>\n",
              "      <th>description</th>\n",
              "      <th>display_address</th>\n",
              "      <th>latitude</th>\n",
              "      <th>longitude</th>\n",
              "      <th>price</th>\n",
              "      <th>street_address</th>\n",
              "      <th>interest_level</th>\n",
              "      <th>elevator</th>\n",
              "      <th>hardwood_floors</th>\n",
              "      <th>doorman</th>\n",
              "      <th>dishwasher</th>\n",
              "      <th>no_fee</th>\n",
              "      <th>laundry_in_building</th>\n",
              "      <th>fitness_center</th>\n",
              "      <th>pre-war</th>\n",
              "      <th>laundry_in_unit</th>\n",
              "      <th>roof_deck</th>\n",
              "      <th>outdoor_space</th>\n",
              "      <th>dining_room</th>\n",
              "      <th>high_speed_internet</th>\n",
              "      <th>balcony</th>\n",
              "      <th>swimming_pool</th>\n",
              "      <th>new_construction</th>\n",
              "      <th>terrace</th>\n",
              "      <th>exclusive</th>\n",
              "      <th>loft</th>\n",
              "      <th>garden_patio</th>\n",
              "      <th>wheelchair_access</th>\n",
              "      <th>common_outdoor_space</th>\n",
              "      <th>haversine</th>\n",
              "      <th>rooms</th>\n",
              "      <th>pets_allowed</th>\n",
              "    </tr>\n",
              "  </thead>\n",
              "  <tbody>\n",
              "    <tr>\n",
              "      <th>0</th>\n",
              "      <td>1.5</td>\n",
              "      <td>3</td>\n",
              "      <td>2016-06-24 07:54:24</td>\n",
              "      <td>A Brand New 3 Bedroom 1.5 bath ApartmentEnjoy ...</td>\n",
              "      <td>Metropolitan Avenue</td>\n",
              "      <td>40.7145</td>\n",
              "      <td>-73.9425</td>\n",
              "      <td>3000</td>\n",
              "      <td>792 Metropolitan Avenue</td>\n",
              "      <td>2</td>\n",
              "      <td>0</td>\n",
              "      <td>0</td>\n",
              "      <td>0</td>\n",
              "      <td>0</td>\n",
              "      <td>0</td>\n",
              "      <td>0</td>\n",
              "      <td>0</td>\n",
              "      <td>0</td>\n",
              "      <td>0</td>\n",
              "      <td>0</td>\n",
              "      <td>0</td>\n",
              "      <td>0</td>\n",
              "      <td>0</td>\n",
              "      <td>0</td>\n",
              "      <td>0</td>\n",
              "      <td>0</td>\n",
              "      <td>0</td>\n",
              "      <td>0</td>\n",
              "      <td>0</td>\n",
              "      <td>0</td>\n",
              "      <td>0</td>\n",
              "      <td>0</td>\n",
              "      <td>8661.842498</td>\n",
              "      <td>4.5</td>\n",
              "      <td>0</td>\n",
              "    </tr>\n",
              "    <tr>\n",
              "      <th>1</th>\n",
              "      <td>1.0</td>\n",
              "      <td>2</td>\n",
              "      <td>2016-06-12 12:19:27</td>\n",
              "      <td></td>\n",
              "      <td>Columbus Avenue</td>\n",
              "      <td>40.7947</td>\n",
              "      <td>-73.9667</td>\n",
              "      <td>5465</td>\n",
              "      <td>808 Columbus Avenue</td>\n",
              "      <td>1</td>\n",
              "      <td>1</td>\n",
              "      <td>0</td>\n",
              "      <td>1</td>\n",
              "      <td>0</td>\n",
              "      <td>0</td>\n",
              "      <td>0</td>\n",
              "      <td>1</td>\n",
              "      <td>0</td>\n",
              "      <td>0</td>\n",
              "      <td>0</td>\n",
              "      <td>0</td>\n",
              "      <td>0</td>\n",
              "      <td>0</td>\n",
              "      <td>0</td>\n",
              "      <td>0</td>\n",
              "      <td>0</td>\n",
              "      <td>0</td>\n",
              "      <td>0</td>\n",
              "      <td>0</td>\n",
              "      <td>0</td>\n",
              "      <td>0</td>\n",
              "      <td>0</td>\n",
              "      <td>8665.491494</td>\n",
              "      <td>3.0</td>\n",
              "      <td>1</td>\n",
              "    </tr>\n",
              "    <tr>\n",
              "      <th>2</th>\n",
              "      <td>1.0</td>\n",
              "      <td>1</td>\n",
              "      <td>2016-04-17 03:26:41</td>\n",
              "      <td>Top Top West Village location, beautiful Pre-w...</td>\n",
              "      <td>W 13 Street</td>\n",
              "      <td>40.7388</td>\n",
              "      <td>-74.0018</td>\n",
              "      <td>2850</td>\n",
              "      <td>241 W 13 Street</td>\n",
              "      <td>3</td>\n",
              "      <td>0</td>\n",
              "      <td>1</td>\n",
              "      <td>0</td>\n",
              "      <td>1</td>\n",
              "      <td>0</td>\n",
              "      <td>1</td>\n",
              "      <td>0</td>\n",
              "      <td>0</td>\n",
              "      <td>0</td>\n",
              "      <td>0</td>\n",
              "      <td>0</td>\n",
              "      <td>0</td>\n",
              "      <td>0</td>\n",
              "      <td>0</td>\n",
              "      <td>0</td>\n",
              "      <td>0</td>\n",
              "      <td>0</td>\n",
              "      <td>0</td>\n",
              "      <td>0</td>\n",
              "      <td>0</td>\n",
              "      <td>0</td>\n",
              "      <td>0</td>\n",
              "      <td>8667.251778</td>\n",
              "      <td>2.0</td>\n",
              "      <td>0</td>\n",
              "    </tr>\n",
              "    <tr>\n",
              "      <th>3</th>\n",
              "      <td>1.0</td>\n",
              "      <td>1</td>\n",
              "      <td>2016-04-18 02:22:02</td>\n",
              "      <td>Building Amenities - Garage - Garden - fitness...</td>\n",
              "      <td>East 49th Street</td>\n",
              "      <td>40.7539</td>\n",
              "      <td>-73.9677</td>\n",
              "      <td>3275</td>\n",
              "      <td>333 East 49th Street</td>\n",
              "      <td>1</td>\n",
              "      <td>0</td>\n",
              "      <td>1</td>\n",
              "      <td>0</td>\n",
              "      <td>0</td>\n",
              "      <td>1</td>\n",
              "      <td>0</td>\n",
              "      <td>0</td>\n",
              "      <td>0</td>\n",
              "      <td>0</td>\n",
              "      <td>0</td>\n",
              "      <td>0</td>\n",
              "      <td>0</td>\n",
              "      <td>0</td>\n",
              "      <td>0</td>\n",
              "      <td>0</td>\n",
              "      <td>0</td>\n",
              "      <td>0</td>\n",
              "      <td>0</td>\n",
              "      <td>0</td>\n",
              "      <td>0</td>\n",
              "      <td>0</td>\n",
              "      <td>0</td>\n",
              "      <td>8664.737441</td>\n",
              "      <td>2.0</td>\n",
              "      <td>0</td>\n",
              "    </tr>\n",
              "    <tr>\n",
              "      <th>4</th>\n",
              "      <td>1.0</td>\n",
              "      <td>4</td>\n",
              "      <td>2016-04-28 01:32:41</td>\n",
              "      <td>Beautifully renovated 3 bedroom flex 4 bedroom...</td>\n",
              "      <td>West 143rd Street</td>\n",
              "      <td>40.8241</td>\n",
              "      <td>-73.9493</td>\n",
              "      <td>3350</td>\n",
              "      <td>500 West 143rd Street</td>\n",
              "      <td>1</td>\n",
              "      <td>0</td>\n",
              "      <td>0</td>\n",
              "      <td>0</td>\n",
              "      <td>0</td>\n",
              "      <td>0</td>\n",
              "      <td>0</td>\n",
              "      <td>0</td>\n",
              "      <td>1</td>\n",
              "      <td>0</td>\n",
              "      <td>0</td>\n",
              "      <td>0</td>\n",
              "      <td>0</td>\n",
              "      <td>0</td>\n",
              "      <td>0</td>\n",
              "      <td>0</td>\n",
              "      <td>0</td>\n",
              "      <td>0</td>\n",
              "      <td>0</td>\n",
              "      <td>0</td>\n",
              "      <td>0</td>\n",
              "      <td>0</td>\n",
              "      <td>0</td>\n",
              "      <td>8664.656031</td>\n",
              "      <td>5.0</td>\n",
              "      <td>0</td>\n",
              "    </tr>\n",
              "  </tbody>\n",
              "</table>\n",
              "</div>"
            ],
            "text/plain": [
              "   bathrooms  bedrooms              created  ...    haversine rooms  pets_allowed\n",
              "0        1.5         3  2016-06-24 07:54:24  ...  8661.842498   4.5             0\n",
              "1        1.0         2  2016-06-12 12:19:27  ...  8665.491494   3.0             1\n",
              "2        1.0         1  2016-04-17 03:26:41  ...  8667.251778   2.0             0\n",
              "3        1.0         1  2016-04-18 02:22:02  ...  8664.737441   2.0             0\n",
              "4        1.0         4  2016-04-28 01:32:41  ...  8664.656031   5.0             0\n",
              "\n",
              "[5 rows x 35 columns]"
            ]
          },
          "metadata": {
            "tags": []
          },
          "execution_count": 127
        }
      ]
    },
    {
      "cell_type": "markdown",
      "metadata": {
        "id": "crGMkxhqBUJq",
        "colab_type": "text"
      },
      "source": [
        "##### Creating a luxury rating scale - adding all the features available to get a scale for ammenities"
      ]
    },
    {
      "cell_type": "code",
      "metadata": {
        "id": "-QZY27-et9wa",
        "colab_type": "code",
        "outputId": "6e0ab85e-c04e-4689-dd62-762309295ff4",
        "colab": {
          "base_uri": "https://localhost:8080/",
          "height": 163
        }
      },
      "source": [
        "#looking at what features I want to include in the luxury rating\n",
        "df.columns"
      ],
      "execution_count": 0,
      "outputs": [
        {
          "output_type": "execute_result",
          "data": {
            "text/plain": [
              "Index(['bathrooms', 'bedrooms', 'created', 'description', 'display_address',\n",
              "       'latitude', 'longitude', 'price', 'street_address', 'interest_level',\n",
              "       'elevator', 'hardwood_floors', 'doorman', 'dishwasher', 'no_fee',\n",
              "       'laundry_in_building', 'fitness_center', 'pre-war', 'laundry_in_unit',\n",
              "       'roof_deck', 'outdoor_space', 'dining_room', 'high_speed_internet',\n",
              "       'balcony', 'swimming_pool', 'new_construction', 'terrace', 'exclusive',\n",
              "       'loft', 'garden_patio', 'wheelchair_access', 'common_outdoor_space',\n",
              "       'haversine', 'rooms', 'pets_allowed'],\n",
              "      dtype='object')"
            ]
          },
          "metadata": {
            "tags": []
          },
          "execution_count": 128
        }
      ]
    },
    {
      "cell_type": "code",
      "metadata": {
        "id": "-y1pqNqkv91Z",
        "colab_type": "code",
        "colab": {}
      },
      "source": [
        "#going to reorder the columns to make addition easier. \n",
        "#also, I am unsure what exclusive mean - you're the only one with access to your apartment?\n",
        "#dropping display address - it seems street address is more informative\n",
        "df = df[['created', 'street_address', 'description', \n",
        "         'latitude', 'longitude', 'haversine',\n",
        "         'price', 'interest_level', \n",
        "         'no_fee', 'exclusive', \n",
        "         'bathrooms', 'bedrooms',\n",
        "         'pre-war', 'new_construction','loft',\n",
        "         'pets_allowed', 'hardwood_floors','dining_room','laundry_in_unit', \n",
        "         'dishwasher', 'high_speed_internet', 'balcony','terrace',\n",
        "         'elevator', 'doorman', 'laundry_in_building',\n",
        "         'fitness_center', 'swimming_pool',\n",
        "         'roof_deck', 'outdoor_space', 'garden_patio',\n",
        "         'common_outdoor_space', 'wheelchair_access','rooms']]"
      ],
      "execution_count": 0,
      "outputs": []
    },
    {
      "cell_type": "code",
      "metadata": {
        "id": "MmZ8TPmm1wgV",
        "colab_type": "code",
        "outputId": "5dd79940-6053-4b11-b0e2-3d445abf553f",
        "colab": {
          "base_uri": "https://localhost:8080/",
          "height": 487
        }
      },
      "source": [
        "#checking it is in the right order\n",
        "df.head()"
      ],
      "execution_count": 0,
      "outputs": [
        {
          "output_type": "execute_result",
          "data": {
            "text/html": [
              "<div>\n",
              "<style scoped>\n",
              "    .dataframe tbody tr th:only-of-type {\n",
              "        vertical-align: middle;\n",
              "    }\n",
              "\n",
              "    .dataframe tbody tr th {\n",
              "        vertical-align: top;\n",
              "    }\n",
              "\n",
              "    .dataframe thead th {\n",
              "        text-align: right;\n",
              "    }\n",
              "</style>\n",
              "<table border=\"1\" class=\"dataframe\">\n",
              "  <thead>\n",
              "    <tr style=\"text-align: right;\">\n",
              "      <th></th>\n",
              "      <th>created</th>\n",
              "      <th>street_address</th>\n",
              "      <th>description</th>\n",
              "      <th>latitude</th>\n",
              "      <th>longitude</th>\n",
              "      <th>haversine</th>\n",
              "      <th>price</th>\n",
              "      <th>interest_level</th>\n",
              "      <th>no_fee</th>\n",
              "      <th>exclusive</th>\n",
              "      <th>bathrooms</th>\n",
              "      <th>bedrooms</th>\n",
              "      <th>pre-war</th>\n",
              "      <th>new_construction</th>\n",
              "      <th>loft</th>\n",
              "      <th>pets_allowed</th>\n",
              "      <th>hardwood_floors</th>\n",
              "      <th>dining_room</th>\n",
              "      <th>laundry_in_unit</th>\n",
              "      <th>dishwasher</th>\n",
              "      <th>high_speed_internet</th>\n",
              "      <th>balcony</th>\n",
              "      <th>terrace</th>\n",
              "      <th>elevator</th>\n",
              "      <th>doorman</th>\n",
              "      <th>laundry_in_building</th>\n",
              "      <th>fitness_center</th>\n",
              "      <th>swimming_pool</th>\n",
              "      <th>roof_deck</th>\n",
              "      <th>outdoor_space</th>\n",
              "      <th>garden_patio</th>\n",
              "      <th>common_outdoor_space</th>\n",
              "      <th>wheelchair_access</th>\n",
              "      <th>rooms</th>\n",
              "    </tr>\n",
              "  </thead>\n",
              "  <tbody>\n",
              "    <tr>\n",
              "      <th>0</th>\n",
              "      <td>2016-06-24 07:54:24</td>\n",
              "      <td>792 Metropolitan Avenue</td>\n",
              "      <td>A Brand New 3 Bedroom 1.5 bath ApartmentEnjoy ...</td>\n",
              "      <td>40.7145</td>\n",
              "      <td>-73.9425</td>\n",
              "      <td>8661.842498</td>\n",
              "      <td>3000</td>\n",
              "      <td>2</td>\n",
              "      <td>0</td>\n",
              "      <td>0</td>\n",
              "      <td>1.5</td>\n",
              "      <td>3</td>\n",
              "      <td>0</td>\n",
              "      <td>0</td>\n",
              "      <td>0</td>\n",
              "      <td>0</td>\n",
              "      <td>0</td>\n",
              "      <td>0</td>\n",
              "      <td>0</td>\n",
              "      <td>0</td>\n",
              "      <td>0</td>\n",
              "      <td>0</td>\n",
              "      <td>0</td>\n",
              "      <td>0</td>\n",
              "      <td>0</td>\n",
              "      <td>0</td>\n",
              "      <td>0</td>\n",
              "      <td>0</td>\n",
              "      <td>0</td>\n",
              "      <td>0</td>\n",
              "      <td>0</td>\n",
              "      <td>0</td>\n",
              "      <td>0</td>\n",
              "      <td>4.5</td>\n",
              "    </tr>\n",
              "    <tr>\n",
              "      <th>1</th>\n",
              "      <td>2016-06-12 12:19:27</td>\n",
              "      <td>808 Columbus Avenue</td>\n",
              "      <td></td>\n",
              "      <td>40.7947</td>\n",
              "      <td>-73.9667</td>\n",
              "      <td>8665.491494</td>\n",
              "      <td>5465</td>\n",
              "      <td>1</td>\n",
              "      <td>0</td>\n",
              "      <td>0</td>\n",
              "      <td>1.0</td>\n",
              "      <td>2</td>\n",
              "      <td>0</td>\n",
              "      <td>0</td>\n",
              "      <td>0</td>\n",
              "      <td>1</td>\n",
              "      <td>0</td>\n",
              "      <td>0</td>\n",
              "      <td>0</td>\n",
              "      <td>0</td>\n",
              "      <td>0</td>\n",
              "      <td>0</td>\n",
              "      <td>0</td>\n",
              "      <td>1</td>\n",
              "      <td>1</td>\n",
              "      <td>0</td>\n",
              "      <td>1</td>\n",
              "      <td>0</td>\n",
              "      <td>0</td>\n",
              "      <td>0</td>\n",
              "      <td>0</td>\n",
              "      <td>0</td>\n",
              "      <td>0</td>\n",
              "      <td>3.0</td>\n",
              "    </tr>\n",
              "    <tr>\n",
              "      <th>2</th>\n",
              "      <td>2016-04-17 03:26:41</td>\n",
              "      <td>241 W 13 Street</td>\n",
              "      <td>Top Top West Village location, beautiful Pre-w...</td>\n",
              "      <td>40.7388</td>\n",
              "      <td>-74.0018</td>\n",
              "      <td>8667.251778</td>\n",
              "      <td>2850</td>\n",
              "      <td>3</td>\n",
              "      <td>0</td>\n",
              "      <td>0</td>\n",
              "      <td>1.0</td>\n",
              "      <td>1</td>\n",
              "      <td>0</td>\n",
              "      <td>0</td>\n",
              "      <td>0</td>\n",
              "      <td>0</td>\n",
              "      <td>1</td>\n",
              "      <td>0</td>\n",
              "      <td>0</td>\n",
              "      <td>1</td>\n",
              "      <td>0</td>\n",
              "      <td>0</td>\n",
              "      <td>0</td>\n",
              "      <td>0</td>\n",
              "      <td>0</td>\n",
              "      <td>1</td>\n",
              "      <td>0</td>\n",
              "      <td>0</td>\n",
              "      <td>0</td>\n",
              "      <td>0</td>\n",
              "      <td>0</td>\n",
              "      <td>0</td>\n",
              "      <td>0</td>\n",
              "      <td>2.0</td>\n",
              "    </tr>\n",
              "    <tr>\n",
              "      <th>3</th>\n",
              "      <td>2016-04-18 02:22:02</td>\n",
              "      <td>333 East 49th Street</td>\n",
              "      <td>Building Amenities - Garage - Garden - fitness...</td>\n",
              "      <td>40.7539</td>\n",
              "      <td>-73.9677</td>\n",
              "      <td>8664.737441</td>\n",
              "      <td>3275</td>\n",
              "      <td>1</td>\n",
              "      <td>1</td>\n",
              "      <td>0</td>\n",
              "      <td>1.0</td>\n",
              "      <td>1</td>\n",
              "      <td>0</td>\n",
              "      <td>0</td>\n",
              "      <td>0</td>\n",
              "      <td>0</td>\n",
              "      <td>1</td>\n",
              "      <td>0</td>\n",
              "      <td>0</td>\n",
              "      <td>0</td>\n",
              "      <td>0</td>\n",
              "      <td>0</td>\n",
              "      <td>0</td>\n",
              "      <td>0</td>\n",
              "      <td>0</td>\n",
              "      <td>0</td>\n",
              "      <td>0</td>\n",
              "      <td>0</td>\n",
              "      <td>0</td>\n",
              "      <td>0</td>\n",
              "      <td>0</td>\n",
              "      <td>0</td>\n",
              "      <td>0</td>\n",
              "      <td>2.0</td>\n",
              "    </tr>\n",
              "    <tr>\n",
              "      <th>4</th>\n",
              "      <td>2016-04-28 01:32:41</td>\n",
              "      <td>500 West 143rd Street</td>\n",
              "      <td>Beautifully renovated 3 bedroom flex 4 bedroom...</td>\n",
              "      <td>40.8241</td>\n",
              "      <td>-73.9493</td>\n",
              "      <td>8664.656031</td>\n",
              "      <td>3350</td>\n",
              "      <td>1</td>\n",
              "      <td>0</td>\n",
              "      <td>0</td>\n",
              "      <td>1.0</td>\n",
              "      <td>4</td>\n",
              "      <td>1</td>\n",
              "      <td>0</td>\n",
              "      <td>0</td>\n",
              "      <td>0</td>\n",
              "      <td>0</td>\n",
              "      <td>0</td>\n",
              "      <td>0</td>\n",
              "      <td>0</td>\n",
              "      <td>0</td>\n",
              "      <td>0</td>\n",
              "      <td>0</td>\n",
              "      <td>0</td>\n",
              "      <td>0</td>\n",
              "      <td>0</td>\n",
              "      <td>0</td>\n",
              "      <td>0</td>\n",
              "      <td>0</td>\n",
              "      <td>0</td>\n",
              "      <td>0</td>\n",
              "      <td>0</td>\n",
              "      <td>0</td>\n",
              "      <td>5.0</td>\n",
              "    </tr>\n",
              "  </tbody>\n",
              "</table>\n",
              "</div>"
            ],
            "text/plain": [
              "               created           street_address  ... wheelchair_access  rooms\n",
              "0  2016-06-24 07:54:24  792 Metropolitan Avenue  ...                 0    4.5\n",
              "1  2016-06-12 12:19:27      808 Columbus Avenue  ...                 0    3.0\n",
              "2  2016-04-17 03:26:41          241 W 13 Street  ...                 0    2.0\n",
              "3  2016-04-18 02:22:02     333 East 49th Street  ...                 0    2.0\n",
              "4  2016-04-28 01:32:41    500 West 143rd Street  ...                 0    5.0\n",
              "\n",
              "[5 rows x 34 columns]"
            ]
          },
          "metadata": {
            "tags": []
          },
          "execution_count": 130
        }
      ]
    },
    {
      "cell_type": "code",
      "metadata": {
        "id": "XAUMeHWPRdCW",
        "colab_type": "code",
        "outputId": "500d5946-ccc7-44df-a1e6-6e68f47be65b",
        "colab": {
          "base_uri": "https://localhost:8080/",
          "height": 33
        }
      },
      "source": [
        "df.shape"
      ],
      "execution_count": 0,
      "outputs": [
        {
          "output_type": "execute_result",
          "data": {
            "text/plain": [
              "(48817, 34)"
            ]
          },
          "metadata": {
            "tags": []
          },
          "execution_count": 131
        }
      ]
    },
    {
      "cell_type": "code",
      "metadata": {
        "id": "Bnvn-v3k2C4p",
        "colab_type": "code",
        "colab": {}
      },
      "source": [
        "#Luxury score - this includes interest level and bathroom/bedroom\n",
        "df['luxury_rating'] = sum(df.iloc[:,7:33].values.T)"
      ],
      "execution_count": 0,
      "outputs": []
    },
    {
      "cell_type": "code",
      "metadata": {
        "id": "fzaWNtW532gn",
        "colab_type": "code",
        "outputId": "8f11df3f-9ec9-43ac-92d5-e654b8f185f4",
        "colab": {
          "base_uri": "https://localhost:8080/",
          "height": 115
        }
      },
      "source": [
        "df.luxury_rating.head()"
      ],
      "execution_count": 0,
      "outputs": [
        {
          "output_type": "execute_result",
          "data": {
            "text/plain": [
              "0    6.5\n",
              "1    8.0\n",
              "2    8.0\n",
              "3    5.0\n",
              "4    7.0\n",
              "Name: luxury_rating, dtype: float64"
            ]
          },
          "metadata": {
            "tags": []
          },
          "execution_count": 133
        }
      ]
    },
    {
      "cell_type": "code",
      "metadata": {
        "id": "iEg06b6V3_Sy",
        "colab_type": "code",
        "outputId": "06daa34e-7a18-45d5-f132-ae0f2be7f13f",
        "colab": {
          "base_uri": "https://localhost:8080/",
          "height": 33
        }
      },
      "source": [
        "#what are the different scores\n",
        "min(df['luxury_rating']), max(df['luxury_rating'])"
      ],
      "execution_count": 0,
      "outputs": [
        {
          "output_type": "execute_result",
          "data": {
            "text/plain": [
              "(1.0, 26.0)"
            ]
          },
          "metadata": {
            "tags": []
          },
          "execution_count": 134
        }
      ]
    },
    {
      "cell_type": "markdown",
      "metadata": {
        "id": "3d4SoQRbJGSr",
        "colab_type": "text"
      },
      "source": [
        "##### Checking if there are null values"
      ]
    },
    {
      "cell_type": "code",
      "metadata": {
        "id": "dUydrMldJChj",
        "colab_type": "code",
        "outputId": "f6a9dfba-1162-4c10-f50f-855426600b52",
        "colab": {
          "base_uri": "https://localhost:8080/",
          "height": 602
        }
      },
      "source": [
        "df.isnull().sum()"
      ],
      "execution_count": 0,
      "outputs": [
        {
          "output_type": "execute_result",
          "data": {
            "text/plain": [
              "created                    0\n",
              "street_address            10\n",
              "description             1425\n",
              "latitude                   0\n",
              "longitude                  0\n",
              "haversine                  0\n",
              "price                      0\n",
              "interest_level             0\n",
              "no_fee                     0\n",
              "exclusive                  0\n",
              "bathrooms                  0\n",
              "bedrooms                   0\n",
              "pre-war                    0\n",
              "new_construction           0\n",
              "loft                       0\n",
              "pets_allowed               0\n",
              "hardwood_floors            0\n",
              "dining_room                0\n",
              "laundry_in_unit            0\n",
              "dishwasher                 0\n",
              "high_speed_internet        0\n",
              "balcony                    0\n",
              "terrace                    0\n",
              "elevator                   0\n",
              "doorman                    0\n",
              "laundry_in_building        0\n",
              "fitness_center             0\n",
              "swimming_pool              0\n",
              "roof_deck                  0\n",
              "outdoor_space              0\n",
              "garden_patio               0\n",
              "common_outdoor_space       0\n",
              "wheelchair_access          0\n",
              "rooms                      0\n",
              "luxury_rating              0\n",
              "dtype: int64"
            ]
          },
          "metadata": {
            "tags": []
          },
          "execution_count": 135
        }
      ]
    },
    {
      "cell_type": "markdown",
      "metadata": {
        "id": "eMbDFDdHhpAu",
        "colab_type": "text"
      },
      "source": [
        "#### Checking the correlation matrix to see what features most affect price."
      ]
    },
    {
      "cell_type": "code",
      "metadata": {
        "id": "JnV0AEukhnV9",
        "colab_type": "code",
        "outputId": "364c7b23-4c94-45a8-a555-f220fbef47d2",
        "colab": {
          "base_uri": "https://localhost:8080/",
          "height": 553
        }
      },
      "source": [
        "corr_matrix=df.corr()\n",
        "corr_matrix['price'].sort_values(ascending=False)"
      ],
      "execution_count": 0,
      "outputs": [
        {
          "output_type": "execute_result",
          "data": {
            "text/plain": [
              "price                   1.000000\n",
              "bathrooms               0.687296\n",
              "rooms                   0.649097\n",
              "bedrooms                0.535503\n",
              "luxury_rating           0.464329\n",
              "doorman                 0.276215\n",
              "laundry_in_unit         0.271195\n",
              "haversine               0.252851\n",
              "dining_room             0.242911\n",
              "fitness_center          0.228775\n",
              "dishwasher              0.223899\n",
              "elevator                0.207169\n",
              "terrace                 0.145973\n",
              "outdoor_space           0.142146\n",
              "balcony                 0.139140\n",
              "swimming_pool           0.134513\n",
              "no_fee                  0.132240\n",
              "roof_deck               0.122929\n",
              "garden_patio            0.103672\n",
              "hardwood_floors         0.101503\n",
              "high_speed_internet     0.090269\n",
              "wheelchair_access       0.072517\n",
              "new_construction        0.071431\n",
              "pets_allowed            0.050989\n",
              "common_outdoor_space    0.011517\n",
              "loft                    0.007100\n",
              "exclusive              -0.013251\n",
              "laundry_in_building    -0.019417\n",
              "pre-war                -0.029122\n",
              "latitude               -0.036286\n",
              "interest_level         -0.203596\n",
              "longitude              -0.251004\n",
              "Name: price, dtype: float64"
            ]
          },
          "metadata": {
            "tags": []
          },
          "execution_count": 136
        }
      ]
    },
    {
      "cell_type": "markdown",
      "metadata": {
        "id": "oORMeWv_E0CI",
        "colab_type": "text"
      },
      "source": [
        "#### 2. Do train/test split. Use data from April & May 2016 to train. Use data from June 2016 to test.\n",
        "\n"
      ]
    },
    {
      "cell_type": "markdown",
      "metadata": {
        "id": "zYdulN3AL_Yi",
        "colab_type": "text"
      },
      "source": [
        "\n",
        "\n",
        "*   Changing created by column into date time format\n",
        "*   Creating a months column to separate easier\n",
        "\n"
      ]
    },
    {
      "cell_type": "code",
      "metadata": {
        "id": "OkoUMVLeA-zo",
        "colab_type": "code",
        "outputId": "0103f101-3443-4d79-f694-236ff602b2f2",
        "colab": {
          "base_uri": "https://localhost:8080/",
          "height": 115
        }
      },
      "source": [
        "df['created'] = pd.to_datetime(df['created'], infer_datetime_format=True)\n",
        "df['created'].head()"
      ],
      "execution_count": 141,
      "outputs": [
        {
          "output_type": "execute_result",
          "data": {
            "text/plain": [
              "0   2016-06-24 07:54:24\n",
              "1   2016-06-12 12:19:27\n",
              "2   2016-04-17 03:26:41\n",
              "3   2016-04-18 02:22:02\n",
              "4   2016-04-28 01:32:41\n",
              "Name: created, dtype: datetime64[ns]"
            ]
          },
          "metadata": {
            "tags": []
          },
          "execution_count": 141
        }
      ]
    },
    {
      "cell_type": "code",
      "metadata": {
        "id": "bHF7AL8GDd_g",
        "colab_type": "code",
        "colab": {}
      },
      "source": [
        "train = df[df['created'] <'06-01-2016']\n",
        "test = df[df['created'] >='06-01-2016']"
      ],
      "execution_count": 0,
      "outputs": []
    },
    {
      "cell_type": "markdown",
      "metadata": {
        "id": "ywuNtz8MMVc7",
        "colab_type": "text"
      },
      "source": [
        "\n",
        "\n",
        "*   Checking that the test and train dataframes have the appropriate months\n",
        "\n"
      ]
    },
    {
      "cell_type": "code",
      "metadata": {
        "id": "p6DS53cuENQK",
        "colab_type": "code",
        "outputId": "77c165c2-a445-4a26-c563-c0d9ea1ca15c",
        "colab": {
          "base_uri": "https://localhost:8080/",
          "height": 82
        }
      },
      "source": [
        "min(train['created']), max(train['created']), min(test['created']), max(test['created'])"
      ],
      "execution_count": 143,
      "outputs": [
        {
          "output_type": "execute_result",
          "data": {
            "text/plain": [
              "(Timestamp('2016-04-01 22:12:41'),\n",
              " Timestamp('2016-05-31 23:10:48'),\n",
              " Timestamp('2016-06-01 01:10:37'),\n",
              " Timestamp('2016-06-29 21:41:47'))"
            ]
          },
          "metadata": {
            "tags": []
          },
          "execution_count": 143
        }
      ]
    },
    {
      "cell_type": "markdown",
      "metadata": {
        "id": "x_J61QxJ2isz",
        "colab_type": "text"
      },
      "source": [
        "* Checking train/test shape"
      ]
    },
    {
      "cell_type": "code",
      "metadata": {
        "id": "x2P1cG9_xSY3",
        "colab_type": "code",
        "outputId": "cf43ee8f-e969-4eef-cac9-bede455e1ea6",
        "colab": {
          "base_uri": "https://localhost:8080/",
          "height": 33
        }
      },
      "source": [
        "print(train.shape, test.shape)"
      ],
      "execution_count": 144,
      "outputs": [
        {
          "output_type": "stream",
          "text": [
            "(31844, 35) (16973, 35)\n"
          ],
          "name": "stdout"
        }
      ]
    },
    {
      "cell_type": "code",
      "metadata": {
        "id": "ZizPXwKYR5WL",
        "colab_type": "code",
        "outputId": "7833bf58-028d-42d6-913e-287a40af1a50",
        "colab": {
          "base_uri": "https://localhost:8080/",
          "height": 297
        }
      },
      "source": [
        "train.describe()"
      ],
      "execution_count": 145,
      "outputs": [
        {
          "output_type": "execute_result",
          "data": {
            "text/html": [
              "<div>\n",
              "<style scoped>\n",
              "    .dataframe tbody tr th:only-of-type {\n",
              "        vertical-align: middle;\n",
              "    }\n",
              "\n",
              "    .dataframe tbody tr th {\n",
              "        vertical-align: top;\n",
              "    }\n",
              "\n",
              "    .dataframe thead th {\n",
              "        text-align: right;\n",
              "    }\n",
              "</style>\n",
              "<table border=\"1\" class=\"dataframe\">\n",
              "  <thead>\n",
              "    <tr style=\"text-align: right;\">\n",
              "      <th></th>\n",
              "      <th>latitude</th>\n",
              "      <th>longitude</th>\n",
              "      <th>haversine</th>\n",
              "      <th>price</th>\n",
              "      <th>interest_level</th>\n",
              "      <th>no_fee</th>\n",
              "      <th>exclusive</th>\n",
              "      <th>bathrooms</th>\n",
              "      <th>bedrooms</th>\n",
              "      <th>pre-war</th>\n",
              "      <th>new_construction</th>\n",
              "      <th>loft</th>\n",
              "      <th>pets_allowed</th>\n",
              "      <th>hardwood_floors</th>\n",
              "      <th>dining_room</th>\n",
              "      <th>laundry_in_unit</th>\n",
              "      <th>dishwasher</th>\n",
              "      <th>high_speed_internet</th>\n",
              "      <th>balcony</th>\n",
              "      <th>terrace</th>\n",
              "      <th>elevator</th>\n",
              "      <th>doorman</th>\n",
              "      <th>laundry_in_building</th>\n",
              "      <th>fitness_center</th>\n",
              "      <th>swimming_pool</th>\n",
              "      <th>roof_deck</th>\n",
              "      <th>outdoor_space</th>\n",
              "      <th>garden_patio</th>\n",
              "      <th>common_outdoor_space</th>\n",
              "      <th>wheelchair_access</th>\n",
              "      <th>rooms</th>\n",
              "      <th>luxury_rating</th>\n",
              "    </tr>\n",
              "  </thead>\n",
              "  <tbody>\n",
              "    <tr>\n",
              "      <th>count</th>\n",
              "      <td>31844.000000</td>\n",
              "      <td>31844.000000</td>\n",
              "      <td>31844.000000</td>\n",
              "      <td>31844.000000</td>\n",
              "      <td>31844.000000</td>\n",
              "      <td>31844.000000</td>\n",
              "      <td>31844.000000</td>\n",
              "      <td>31844.000000</td>\n",
              "      <td>31844.000000</td>\n",
              "      <td>31844.000000</td>\n",
              "      <td>31844.000000</td>\n",
              "      <td>31844.000000</td>\n",
              "      <td>31844.000000</td>\n",
              "      <td>31844.000000</td>\n",
              "      <td>31844.000000</td>\n",
              "      <td>31844.000000</td>\n",
              "      <td>31844.000000</td>\n",
              "      <td>31844.000000</td>\n",
              "      <td>31844.000000</td>\n",
              "      <td>31844.000000</td>\n",
              "      <td>31844.000000</td>\n",
              "      <td>31844.000000</td>\n",
              "      <td>31844.000000</td>\n",
              "      <td>31844.000000</td>\n",
              "      <td>31844.000000</td>\n",
              "      <td>31844.000000</td>\n",
              "      <td>31844.000000</td>\n",
              "      <td>31844.000000</td>\n",
              "      <td>31844.000000</td>\n",
              "      <td>31844.000000</td>\n",
              "      <td>31844.000000</td>\n",
              "      <td>31844.000000</td>\n",
              "    </tr>\n",
              "    <tr>\n",
              "      <th>mean</th>\n",
              "      <td>40.750743</td>\n",
              "      <td>-73.972867</td>\n",
              "      <td>8665.101359</td>\n",
              "      <td>3575.604007</td>\n",
              "      <td>1.383149</td>\n",
              "      <td>0.369834</td>\n",
              "      <td>0.042269</td>\n",
              "      <td>1.203728</td>\n",
              "      <td>1.528357</td>\n",
              "      <td>0.185938</td>\n",
              "      <td>0.051470</td>\n",
              "      <td>0.044216</td>\n",
              "      <td>0.477861</td>\n",
              "      <td>0.480907</td>\n",
              "      <td>0.104290</td>\n",
              "      <td>0.175700</td>\n",
              "      <td>0.418666</td>\n",
              "      <td>0.088620</td>\n",
              "      <td>0.060734</td>\n",
              "      <td>0.047733</td>\n",
              "      <td>0.530430</td>\n",
              "      <td>0.430725</td>\n",
              "      <td>0.057311</td>\n",
              "      <td>0.267586</td>\n",
              "      <td>0.055929</td>\n",
              "      <td>0.133777</td>\n",
              "      <td>0.143983</td>\n",
              "      <td>0.039222</td>\n",
              "      <td>0.029048</td>\n",
              "      <td>0.028388</td>\n",
              "      <td>2.732085</td>\n",
              "      <td>8.379867</td>\n",
              "    </tr>\n",
              "    <tr>\n",
              "      <th>std</th>\n",
              "      <td>0.038658</td>\n",
              "      <td>0.028910</td>\n",
              "      <td>2.260512</td>\n",
              "      <td>1762.136694</td>\n",
              "      <td>0.622672</td>\n",
              "      <td>0.482767</td>\n",
              "      <td>0.201204</td>\n",
              "      <td>0.472447</td>\n",
              "      <td>1.105061</td>\n",
              "      <td>0.389062</td>\n",
              "      <td>0.220957</td>\n",
              "      <td>0.205577</td>\n",
              "      <td>0.499517</td>\n",
              "      <td>0.499643</td>\n",
              "      <td>0.305641</td>\n",
              "      <td>0.380571</td>\n",
              "      <td>0.493348</td>\n",
              "      <td>0.284198</td>\n",
              "      <td>0.238845</td>\n",
              "      <td>0.213203</td>\n",
              "      <td>0.499081</td>\n",
              "      <td>0.495185</td>\n",
              "      <td>0.232439</td>\n",
              "      <td>0.442707</td>\n",
              "      <td>0.229788</td>\n",
              "      <td>0.340418</td>\n",
              "      <td>0.351078</td>\n",
              "      <td>0.194127</td>\n",
              "      <td>0.167943</td>\n",
              "      <td>0.166082</td>\n",
              "      <td>1.411986</td>\n",
              "      <td>3.895025</td>\n",
              "    </tr>\n",
              "    <tr>\n",
              "      <th>min</th>\n",
              "      <td>40.575700</td>\n",
              "      <td>-74.087300</td>\n",
              "      <td>8640.617270</td>\n",
              "      <td>1375.000000</td>\n",
              "      <td>1.000000</td>\n",
              "      <td>0.000000</td>\n",
              "      <td>0.000000</td>\n",
              "      <td>0.000000</td>\n",
              "      <td>0.000000</td>\n",
              "      <td>0.000000</td>\n",
              "      <td>0.000000</td>\n",
              "      <td>0.000000</td>\n",
              "      <td>0.000000</td>\n",
              "      <td>0.000000</td>\n",
              "      <td>0.000000</td>\n",
              "      <td>0.000000</td>\n",
              "      <td>0.000000</td>\n",
              "      <td>0.000000</td>\n",
              "      <td>0.000000</td>\n",
              "      <td>0.000000</td>\n",
              "      <td>0.000000</td>\n",
              "      <td>0.000000</td>\n",
              "      <td>0.000000</td>\n",
              "      <td>0.000000</td>\n",
              "      <td>0.000000</td>\n",
              "      <td>0.000000</td>\n",
              "      <td>0.000000</td>\n",
              "      <td>0.000000</td>\n",
              "      <td>0.000000</td>\n",
              "      <td>0.000000</td>\n",
              "      <td>0.000000</td>\n",
              "      <td>1.000000</td>\n",
              "    </tr>\n",
              "    <tr>\n",
              "      <th>25%</th>\n",
              "      <td>40.728500</td>\n",
              "      <td>-73.991800</td>\n",
              "      <td>8664.098930</td>\n",
              "      <td>2500.000000</td>\n",
              "      <td>1.000000</td>\n",
              "      <td>0.000000</td>\n",
              "      <td>0.000000</td>\n",
              "      <td>1.000000</td>\n",
              "      <td>1.000000</td>\n",
              "      <td>0.000000</td>\n",
              "      <td>0.000000</td>\n",
              "      <td>0.000000</td>\n",
              "      <td>0.000000</td>\n",
              "      <td>0.000000</td>\n",
              "      <td>0.000000</td>\n",
              "      <td>0.000000</td>\n",
              "      <td>0.000000</td>\n",
              "      <td>0.000000</td>\n",
              "      <td>0.000000</td>\n",
              "      <td>0.000000</td>\n",
              "      <td>0.000000</td>\n",
              "      <td>0.000000</td>\n",
              "      <td>0.000000</td>\n",
              "      <td>0.000000</td>\n",
              "      <td>0.000000</td>\n",
              "      <td>0.000000</td>\n",
              "      <td>0.000000</td>\n",
              "      <td>0.000000</td>\n",
              "      <td>0.000000</td>\n",
              "      <td>0.000000</td>\n",
              "      <td>2.000000</td>\n",
              "      <td>5.000000</td>\n",
              "    </tr>\n",
              "    <tr>\n",
              "      <th>50%</th>\n",
              "      <td>40.751700</td>\n",
              "      <td>-73.978100</td>\n",
              "      <td>8665.466457</td>\n",
              "      <td>3150.000000</td>\n",
              "      <td>1.000000</td>\n",
              "      <td>0.000000</td>\n",
              "      <td>0.000000</td>\n",
              "      <td>1.000000</td>\n",
              "      <td>1.000000</td>\n",
              "      <td>0.000000</td>\n",
              "      <td>0.000000</td>\n",
              "      <td>0.000000</td>\n",
              "      <td>0.000000</td>\n",
              "      <td>0.000000</td>\n",
              "      <td>0.000000</td>\n",
              "      <td>0.000000</td>\n",
              "      <td>0.000000</td>\n",
              "      <td>0.000000</td>\n",
              "      <td>0.000000</td>\n",
              "      <td>0.000000</td>\n",
              "      <td>1.000000</td>\n",
              "      <td>0.000000</td>\n",
              "      <td>0.000000</td>\n",
              "      <td>0.000000</td>\n",
              "      <td>0.000000</td>\n",
              "      <td>0.000000</td>\n",
              "      <td>0.000000</td>\n",
              "      <td>0.000000</td>\n",
              "      <td>0.000000</td>\n",
              "      <td>0.000000</td>\n",
              "      <td>2.000000</td>\n",
              "      <td>7.500000</td>\n",
              "    </tr>\n",
              "    <tr>\n",
              "      <th>75%</th>\n",
              "      <td>40.773600</td>\n",
              "      <td>-73.955000</td>\n",
              "      <td>8666.628142</td>\n",
              "      <td>4095.000000</td>\n",
              "      <td>2.000000</td>\n",
              "      <td>1.000000</td>\n",
              "      <td>0.000000</td>\n",
              "      <td>1.000000</td>\n",
              "      <td>2.000000</td>\n",
              "      <td>0.000000</td>\n",
              "      <td>0.000000</td>\n",
              "      <td>0.000000</td>\n",
              "      <td>1.000000</td>\n",
              "      <td>1.000000</td>\n",
              "      <td>0.000000</td>\n",
              "      <td>0.000000</td>\n",
              "      <td>1.000000</td>\n",
              "      <td>0.000000</td>\n",
              "      <td>0.000000</td>\n",
              "      <td>0.000000</td>\n",
              "      <td>1.000000</td>\n",
              "      <td>1.000000</td>\n",
              "      <td>0.000000</td>\n",
              "      <td>1.000000</td>\n",
              "      <td>0.000000</td>\n",
              "      <td>0.000000</td>\n",
              "      <td>0.000000</td>\n",
              "      <td>0.000000</td>\n",
              "      <td>0.000000</td>\n",
              "      <td>0.000000</td>\n",
              "      <td>4.000000</td>\n",
              "      <td>11.000000</td>\n",
              "    </tr>\n",
              "    <tr>\n",
              "      <th>max</th>\n",
              "      <td>40.910200</td>\n",
              "      <td>-73.700100</td>\n",
              "      <td>8673.082490</td>\n",
              "      <td>15500.000000</td>\n",
              "      <td>3.000000</td>\n",
              "      <td>1.000000</td>\n",
              "      <td>1.000000</td>\n",
              "      <td>10.000000</td>\n",
              "      <td>7.000000</td>\n",
              "      <td>1.000000</td>\n",
              "      <td>1.000000</td>\n",
              "      <td>1.000000</td>\n",
              "      <td>1.000000</td>\n",
              "      <td>1.000000</td>\n",
              "      <td>1.000000</td>\n",
              "      <td>1.000000</td>\n",
              "      <td>1.000000</td>\n",
              "      <td>1.000000</td>\n",
              "      <td>1.000000</td>\n",
              "      <td>1.000000</td>\n",
              "      <td>1.000000</td>\n",
              "      <td>1.000000</td>\n",
              "      <td>1.000000</td>\n",
              "      <td>1.000000</td>\n",
              "      <td>1.000000</td>\n",
              "      <td>1.000000</td>\n",
              "      <td>1.000000</td>\n",
              "      <td>1.000000</td>\n",
              "      <td>1.000000</td>\n",
              "      <td>1.000000</td>\n",
              "      <td>12.000000</td>\n",
              "      <td>26.000000</td>\n",
              "    </tr>\n",
              "  </tbody>\n",
              "</table>\n",
              "</div>"
            ],
            "text/plain": [
              "           latitude     longitude  ...         rooms  luxury_rating\n",
              "count  31844.000000  31844.000000  ...  31844.000000   31844.000000\n",
              "mean      40.750743    -73.972867  ...      2.732085       8.379867\n",
              "std        0.038658      0.028910  ...      1.411986       3.895025\n",
              "min       40.575700    -74.087300  ...      0.000000       1.000000\n",
              "25%       40.728500    -73.991800  ...      2.000000       5.000000\n",
              "50%       40.751700    -73.978100  ...      2.000000       7.500000\n",
              "75%       40.773600    -73.955000  ...      4.000000      11.000000\n",
              "max       40.910200    -73.700100  ...     12.000000      26.000000\n",
              "\n",
              "[8 rows x 32 columns]"
            ]
          },
          "metadata": {
            "tags": []
          },
          "execution_count": 145
        }
      ]
    },
    {
      "cell_type": "code",
      "metadata": {
        "id": "ngo9HAhnS2JF",
        "colab_type": "code",
        "outputId": "7a8b80b3-a364-464a-e7a9-cbb1bda9373a",
        "colab": {
          "base_uri": "https://localhost:8080/",
          "height": 297
        }
      },
      "source": [
        "test.describe()"
      ],
      "execution_count": 146,
      "outputs": [
        {
          "output_type": "execute_result",
          "data": {
            "text/html": [
              "<div>\n",
              "<style scoped>\n",
              "    .dataframe tbody tr th:only-of-type {\n",
              "        vertical-align: middle;\n",
              "    }\n",
              "\n",
              "    .dataframe tbody tr th {\n",
              "        vertical-align: top;\n",
              "    }\n",
              "\n",
              "    .dataframe thead th {\n",
              "        text-align: right;\n",
              "    }\n",
              "</style>\n",
              "<table border=\"1\" class=\"dataframe\">\n",
              "  <thead>\n",
              "    <tr style=\"text-align: right;\">\n",
              "      <th></th>\n",
              "      <th>latitude</th>\n",
              "      <th>longitude</th>\n",
              "      <th>haversine</th>\n",
              "      <th>price</th>\n",
              "      <th>interest_level</th>\n",
              "      <th>no_fee</th>\n",
              "      <th>exclusive</th>\n",
              "      <th>bathrooms</th>\n",
              "      <th>bedrooms</th>\n",
              "      <th>pre-war</th>\n",
              "      <th>new_construction</th>\n",
              "      <th>loft</th>\n",
              "      <th>pets_allowed</th>\n",
              "      <th>hardwood_floors</th>\n",
              "      <th>dining_room</th>\n",
              "      <th>laundry_in_unit</th>\n",
              "      <th>dishwasher</th>\n",
              "      <th>high_speed_internet</th>\n",
              "      <th>balcony</th>\n",
              "      <th>terrace</th>\n",
              "      <th>elevator</th>\n",
              "      <th>doorman</th>\n",
              "      <th>laundry_in_building</th>\n",
              "      <th>fitness_center</th>\n",
              "      <th>swimming_pool</th>\n",
              "      <th>roof_deck</th>\n",
              "      <th>outdoor_space</th>\n",
              "      <th>garden_patio</th>\n",
              "      <th>common_outdoor_space</th>\n",
              "      <th>wheelchair_access</th>\n",
              "      <th>rooms</th>\n",
              "      <th>luxury_rating</th>\n",
              "    </tr>\n",
              "  </thead>\n",
              "  <tbody>\n",
              "    <tr>\n",
              "      <th>count</th>\n",
              "      <td>16973.000000</td>\n",
              "      <td>16973.000000</td>\n",
              "      <td>16973.000000</td>\n",
              "      <td>16973.000000</td>\n",
              "      <td>16973.000000</td>\n",
              "      <td>16973.000000</td>\n",
              "      <td>16973.000000</td>\n",
              "      <td>16973.000000</td>\n",
              "      <td>16973.000000</td>\n",
              "      <td>16973.000000</td>\n",
              "      <td>16973.000000</td>\n",
              "      <td>16973.000000</td>\n",
              "      <td>16973.000000</td>\n",
              "      <td>16973.000000</td>\n",
              "      <td>16973.000000</td>\n",
              "      <td>16973.000000</td>\n",
              "      <td>16973.000000</td>\n",
              "      <td>16973.000000</td>\n",
              "      <td>16973.000000</td>\n",
              "      <td>16973.000000</td>\n",
              "      <td>16973.000000</td>\n",
              "      <td>16973.000000</td>\n",
              "      <td>16973.000000</td>\n",
              "      <td>16973.000000</td>\n",
              "      <td>16973.000000</td>\n",
              "      <td>16973.000000</td>\n",
              "      <td>16973.000000</td>\n",
              "      <td>16973.000000</td>\n",
              "      <td>16973.000000</td>\n",
              "      <td>16973.00000</td>\n",
              "      <td>16973.000000</td>\n",
              "      <td>16973.000000</td>\n",
              "    </tr>\n",
              "    <tr>\n",
              "      <th>mean</th>\n",
              "      <td>40.750791</td>\n",
              "      <td>-73.972560</td>\n",
              "      <td>8665.076928</td>\n",
              "      <td>3587.054675</td>\n",
              "      <td>1.374713</td>\n",
              "      <td>0.361928</td>\n",
              "      <td>0.045248</td>\n",
              "      <td>1.198168</td>\n",
              "      <td>1.553644</td>\n",
              "      <td>0.185118</td>\n",
              "      <td>0.052731</td>\n",
              "      <td>0.039887</td>\n",
              "      <td>0.481176</td>\n",
              "      <td>0.473340</td>\n",
              "      <td>0.100100</td>\n",
              "      <td>0.176280</td>\n",
              "      <td>0.408354</td>\n",
              "      <td>0.084546</td>\n",
              "      <td>0.059978</td>\n",
              "      <td>0.043304</td>\n",
              "      <td>0.514346</td>\n",
              "      <td>0.413834</td>\n",
              "      <td>0.044247</td>\n",
              "      <td>0.270076</td>\n",
              "      <td>0.053850</td>\n",
              "      <td>0.130855</td>\n",
              "      <td>0.127909</td>\n",
              "      <td>0.039533</td>\n",
              "      <td>0.020974</td>\n",
              "      <td>0.02504</td>\n",
              "      <td>2.751812</td>\n",
              "      <td>8.279179</td>\n",
              "    </tr>\n",
              "    <tr>\n",
              "      <th>std</th>\n",
              "      <td>0.039503</td>\n",
              "      <td>0.028831</td>\n",
              "      <td>2.254308</td>\n",
              "      <td>1763.010038</td>\n",
              "      <td>0.620607</td>\n",
              "      <td>0.480572</td>\n",
              "      <td>0.207854</td>\n",
              "      <td>0.467429</td>\n",
              "      <td>1.107854</td>\n",
              "      <td>0.388404</td>\n",
              "      <td>0.223502</td>\n",
              "      <td>0.195699</td>\n",
              "      <td>0.499660</td>\n",
              "      <td>0.499303</td>\n",
              "      <td>0.300142</td>\n",
              "      <td>0.381069</td>\n",
              "      <td>0.491544</td>\n",
              "      <td>0.278213</td>\n",
              "      <td>0.237452</td>\n",
              "      <td>0.203547</td>\n",
              "      <td>0.499809</td>\n",
              "      <td>0.492534</td>\n",
              "      <td>0.205649</td>\n",
              "      <td>0.444012</td>\n",
              "      <td>0.225729</td>\n",
              "      <td>0.337252</td>\n",
              "      <td>0.333998</td>\n",
              "      <td>0.194866</td>\n",
              "      <td>0.143303</td>\n",
              "      <td>0.15625</td>\n",
              "      <td>1.408897</td>\n",
              "      <td>3.849490</td>\n",
              "    </tr>\n",
              "    <tr>\n",
              "      <th>min</th>\n",
              "      <td>40.575700</td>\n",
              "      <td>-74.045400</td>\n",
              "      <td>8643.660743</td>\n",
              "      <td>1375.000000</td>\n",
              "      <td>1.000000</td>\n",
              "      <td>0.000000</td>\n",
              "      <td>0.000000</td>\n",
              "      <td>0.000000</td>\n",
              "      <td>0.000000</td>\n",
              "      <td>0.000000</td>\n",
              "      <td>0.000000</td>\n",
              "      <td>0.000000</td>\n",
              "      <td>0.000000</td>\n",
              "      <td>0.000000</td>\n",
              "      <td>0.000000</td>\n",
              "      <td>0.000000</td>\n",
              "      <td>0.000000</td>\n",
              "      <td>0.000000</td>\n",
              "      <td>0.000000</td>\n",
              "      <td>0.000000</td>\n",
              "      <td>0.000000</td>\n",
              "      <td>0.000000</td>\n",
              "      <td>0.000000</td>\n",
              "      <td>0.000000</td>\n",
              "      <td>0.000000</td>\n",
              "      <td>0.000000</td>\n",
              "      <td>0.000000</td>\n",
              "      <td>0.000000</td>\n",
              "      <td>0.000000</td>\n",
              "      <td>0.00000</td>\n",
              "      <td>0.000000</td>\n",
              "      <td>1.000000</td>\n",
              "    </tr>\n",
              "    <tr>\n",
              "      <th>25%</th>\n",
              "      <td>40.727700</td>\n",
              "      <td>-73.991700</td>\n",
              "      <td>8664.083632</td>\n",
              "      <td>2500.000000</td>\n",
              "      <td>1.000000</td>\n",
              "      <td>0.000000</td>\n",
              "      <td>0.000000</td>\n",
              "      <td>1.000000</td>\n",
              "      <td>1.000000</td>\n",
              "      <td>0.000000</td>\n",
              "      <td>0.000000</td>\n",
              "      <td>0.000000</td>\n",
              "      <td>0.000000</td>\n",
              "      <td>0.000000</td>\n",
              "      <td>0.000000</td>\n",
              "      <td>0.000000</td>\n",
              "      <td>0.000000</td>\n",
              "      <td>0.000000</td>\n",
              "      <td>0.000000</td>\n",
              "      <td>0.000000</td>\n",
              "      <td>0.000000</td>\n",
              "      <td>0.000000</td>\n",
              "      <td>0.000000</td>\n",
              "      <td>0.000000</td>\n",
              "      <td>0.000000</td>\n",
              "      <td>0.000000</td>\n",
              "      <td>0.000000</td>\n",
              "      <td>0.000000</td>\n",
              "      <td>0.000000</td>\n",
              "      <td>0.00000</td>\n",
              "      <td>2.000000</td>\n",
              "      <td>5.000000</td>\n",
              "    </tr>\n",
              "    <tr>\n",
              "      <th>50%</th>\n",
              "      <td>40.751600</td>\n",
              "      <td>-73.977700</td>\n",
              "      <td>8665.461476</td>\n",
              "      <td>3150.000000</td>\n",
              "      <td>1.000000</td>\n",
              "      <td>0.000000</td>\n",
              "      <td>0.000000</td>\n",
              "      <td>1.000000</td>\n",
              "      <td>1.000000</td>\n",
              "      <td>0.000000</td>\n",
              "      <td>0.000000</td>\n",
              "      <td>0.000000</td>\n",
              "      <td>0.000000</td>\n",
              "      <td>0.000000</td>\n",
              "      <td>0.000000</td>\n",
              "      <td>0.000000</td>\n",
              "      <td>0.000000</td>\n",
              "      <td>0.000000</td>\n",
              "      <td>0.000000</td>\n",
              "      <td>0.000000</td>\n",
              "      <td>1.000000</td>\n",
              "      <td>0.000000</td>\n",
              "      <td>0.000000</td>\n",
              "      <td>0.000000</td>\n",
              "      <td>0.000000</td>\n",
              "      <td>0.000000</td>\n",
              "      <td>0.000000</td>\n",
              "      <td>0.000000</td>\n",
              "      <td>0.000000</td>\n",
              "      <td>0.00000</td>\n",
              "      <td>2.500000</td>\n",
              "      <td>7.000000</td>\n",
              "    </tr>\n",
              "    <tr>\n",
              "      <th>75%</th>\n",
              "      <td>40.774400</td>\n",
              "      <td>-73.955000</td>\n",
              "      <td>8666.590698</td>\n",
              "      <td>4095.000000</td>\n",
              "      <td>2.000000</td>\n",
              "      <td>1.000000</td>\n",
              "      <td>0.000000</td>\n",
              "      <td>1.000000</td>\n",
              "      <td>2.000000</td>\n",
              "      <td>0.000000</td>\n",
              "      <td>0.000000</td>\n",
              "      <td>0.000000</td>\n",
              "      <td>1.000000</td>\n",
              "      <td>1.000000</td>\n",
              "      <td>0.000000</td>\n",
              "      <td>0.000000</td>\n",
              "      <td>1.000000</td>\n",
              "      <td>0.000000</td>\n",
              "      <td>0.000000</td>\n",
              "      <td>0.000000</td>\n",
              "      <td>1.000000</td>\n",
              "      <td>1.000000</td>\n",
              "      <td>0.000000</td>\n",
              "      <td>1.000000</td>\n",
              "      <td>0.000000</td>\n",
              "      <td>0.000000</td>\n",
              "      <td>0.000000</td>\n",
              "      <td>0.000000</td>\n",
              "      <td>0.000000</td>\n",
              "      <td>0.00000</td>\n",
              "      <td>4.000000</td>\n",
              "      <td>10.500000</td>\n",
              "    </tr>\n",
              "    <tr>\n",
              "      <th>max</th>\n",
              "      <td>40.989400</td>\n",
              "      <td>-73.714200</td>\n",
              "      <td>8670.666894</td>\n",
              "      <td>15500.000000</td>\n",
              "      <td>3.000000</td>\n",
              "      <td>1.000000</td>\n",
              "      <td>1.000000</td>\n",
              "      <td>5.000000</td>\n",
              "      <td>8.000000</td>\n",
              "      <td>1.000000</td>\n",
              "      <td>1.000000</td>\n",
              "      <td>1.000000</td>\n",
              "      <td>1.000000</td>\n",
              "      <td>1.000000</td>\n",
              "      <td>1.000000</td>\n",
              "      <td>1.000000</td>\n",
              "      <td>1.000000</td>\n",
              "      <td>1.000000</td>\n",
              "      <td>1.000000</td>\n",
              "      <td>1.000000</td>\n",
              "      <td>1.000000</td>\n",
              "      <td>1.000000</td>\n",
              "      <td>1.000000</td>\n",
              "      <td>1.000000</td>\n",
              "      <td>1.000000</td>\n",
              "      <td>1.000000</td>\n",
              "      <td>1.000000</td>\n",
              "      <td>1.000000</td>\n",
              "      <td>1.000000</td>\n",
              "      <td>1.00000</td>\n",
              "      <td>12.000000</td>\n",
              "      <td>26.000000</td>\n",
              "    </tr>\n",
              "  </tbody>\n",
              "</table>\n",
              "</div>"
            ],
            "text/plain": [
              "           latitude     longitude  ...         rooms  luxury_rating\n",
              "count  16973.000000  16973.000000  ...  16973.000000   16973.000000\n",
              "mean      40.750791    -73.972560  ...      2.751812       8.279179\n",
              "std        0.039503      0.028831  ...      1.408897       3.849490\n",
              "min       40.575700    -74.045400  ...      0.000000       1.000000\n",
              "25%       40.727700    -73.991700  ...      2.000000       5.000000\n",
              "50%       40.751600    -73.977700  ...      2.500000       7.000000\n",
              "75%       40.774400    -73.955000  ...      4.000000      10.500000\n",
              "max       40.989400    -73.714200  ...     12.000000      26.000000\n",
              "\n",
              "[8 rows x 32 columns]"
            ]
          },
          "metadata": {
            "tags": []
          },
          "execution_count": 146
        }
      ]
    },
    {
      "cell_type": "markdown",
      "metadata": {
        "id": "zu-nZS4ntvGd",
        "colab_type": "text"
      },
      "source": [
        "####3a. Fit a linear regression model with at least two features.\n",
        "#### 3b. Get the model's coefficients and intercept.\n",
        "#### 4. Get regression metrics RMSE, MAE, and  𝑅2 , for both the train and test data.\n",
        "\n"
      ]
    },
    {
      "cell_type": "markdown",
      "metadata": {
        "id": "QxRcpkhTRxtz",
        "colab_type": "text"
      },
      "source": [
        "* Baseline of 0 features"
      ]
    },
    {
      "cell_type": "code",
      "metadata": {
        "id": "8euxhpb6RulI",
        "colab_type": "code",
        "outputId": "cb525058-ffc1-4514-8af3-921fa310e68a",
        "colab": {
          "base_uri": "https://localhost:8080/",
          "height": 66
        }
      },
      "source": [
        "#Arrange y target vectors\n",
        "target = 'price'\n",
        "y_train = train[target]\n",
        "y_test = test[target]\n",
        "\n",
        "#Get mean baseline\n",
        "print('Mean baseline (using 0 features)')\n",
        "guess = y_train.mean()\n",
        "\n",
        "#Train Error\n",
        "y_pred = [guess] * len(y_train)\n",
        "mae = mean_absolute_error(y_train, y_pred)\n",
        "print(f'Train Error (NYC - April and May rents): ${mae:.2f}')\n",
        "\n",
        "#Test Error\n",
        "y_pred = [guess] * len(y_test)\n",
        "mae = mean_absolute_error(y_test, y_pred)\n",
        "print(f'Test Error (NYC - June rent): ${mae:.2f}')"
      ],
      "execution_count": 147,
      "outputs": [
        {
          "output_type": "stream",
          "text": [
            "Mean baseline (using 0 features)\n",
            "Train Error (NYC - April and May rents): $1201.88\n",
            "Test Error (NYC - June rent): $1197.71\n"
          ],
          "name": "stdout"
        }
      ]
    },
    {
      "cell_type": "markdown",
      "metadata": {
        "id": "qLU9mF3gTEpe",
        "colab_type": "text"
      },
      "source": [
        "This is our error with no features chosen. Just if we guess the mean price."
      ]
    },
    {
      "cell_type": "markdown",
      "metadata": {
        "id": "5_vsXz36R6UU",
        "colab_type": "text"
      },
      "source": [
        "##### Function to calculate \n",
        "* fit linear regression with at least two features\n",
        "* model coefficient, \n",
        "* intercept, \n",
        "* MAE, \n",
        "* RMSE, \n",
        "* R2"
      ]
    },
    {
      "cell_type": "code",
      "metadata": {
        "id": "t_B0NirFOn_7",
        "colab_type": "code",
        "outputId": "75c6fa87-943d-4b1b-e296-34da54b14a7a",
        "colab": {
          "base_uri": "https://localhost:8080/",
          "height": 163
        }
      },
      "source": [
        "df.columns"
      ],
      "execution_count": 149,
      "outputs": [
        {
          "output_type": "execute_result",
          "data": {
            "text/plain": [
              "Index(['created', 'street_address', 'description', 'latitude', 'longitude',\n",
              "       'haversine', 'price', 'interest_level', 'no_fee', 'exclusive',\n",
              "       'bathrooms', 'bedrooms', 'pre-war', 'new_construction', 'loft',\n",
              "       'pets_allowed', 'hardwood_floors', 'dining_room', 'laundry_in_unit',\n",
              "       'dishwasher', 'high_speed_internet', 'balcony', 'terrace', 'elevator',\n",
              "       'doorman', 'laundry_in_building', 'fitness_center', 'swimming_pool',\n",
              "       'roof_deck', 'outdoor_space', 'garden_patio', 'common_outdoor_space',\n",
              "       'wheelchair_access', 'rooms', 'luxury_rating'],\n",
              "      dtype='object')"
            ]
          },
          "metadata": {
            "tags": []
          },
          "execution_count": 149
        }
      ]
    },
    {
      "cell_type": "markdown",
      "metadata": {
        "id": "xusGrFv7kidk",
        "colab_type": "text"
      },
      "source": [
        "#####Trying all features"
      ]
    },
    {
      "cell_type": "code",
      "metadata": {
        "id": "EZJLN5OAOdqg",
        "colab_type": "code",
        "colab": {}
      },
      "source": [
        "features = ['latitude', 'longitude','haversine', 'interest_level', 'no_fee', \n",
        "            'exclusive','bathrooms', 'bedrooms', 'pre-war', 'new_construction', \n",
        "            'loft', 'pets_allowed', 'hardwood_floors', 'dining_room', \n",
        "            'laundry_in_unit','dishwasher', 'high_speed_internet', 'balcony', \n",
        "            'terrace', 'elevator', 'doorman', 'laundry_in_building', \n",
        "            'fitness_center', 'swimming_pool','roof_deck', 'outdoor_space', \n",
        "            'garden_patio', 'common_outdoor_space','wheelchair_access', 'rooms', \n",
        "            'luxury_rating']\n",
        "target = 'price'"
      ],
      "execution_count": 0,
      "outputs": []
    },
    {
      "cell_type": "code",
      "metadata": {
        "id": "lgF64Ah5Et1i",
        "colab_type": "code",
        "colab": {}
      },
      "source": [
        "def train_test():\n",
        "  # Instantiate the class\n",
        "  model = LinearRegression()\n",
        "\n",
        "  # Arrange x features matrices and y target vectors\n",
        "  X_train = train[features]\n",
        "  X_test = test[features]\n",
        "  y_train = train[target]\n",
        "  y_test = test[target]\n",
        "  print(f'Linear Regression dependent on:\\n {len(features)}\\n {features}, \\n')\n",
        "\n",
        "  #Scale the data\n",
        "  X_train_scaled = StandardScaler().fit_transform(X_train)\n",
        "  X_test_scaled = StandardScaler().fit_transform(X_test)\n",
        "\n",
        "  #Fit the model\n",
        "  model.fit(X_train_scaled, y_train)\n",
        "  y_pred_train = model.predict(X_train_scaled)\n",
        "  # model.fit(X_train, y_train)\n",
        "  # y_pred_train = model.predict(X_train)\n",
        "  train_error = mean_absolute_error(y_train, y_pred_train)\n",
        "  \n",
        "  #Apply the model to new data\n",
        "  y_pred_test = model.predict(X_test_scaled)\n",
        "  # y_pred_test = model.predict(X_test)\n",
        "  test_error = mean_absolute_error(y_test, y_pred_test)  \n",
        "\n",
        "  \n",
        "  #Regression metrics\n",
        "  # Mean Squared Error\n",
        "  # Root Mean Squared Error\n",
        "  # R^2\n",
        "\n",
        "  #Train\n",
        "  train_mse = mean_squared_error(y_train, y_pred_train)\n",
        "  train_rmse = np.sqrt(train_mse)\n",
        "  train_r2 = r2_score(y_train, y_pred_train)\n",
        "\n",
        "  #Test\n",
        "  test_mse = mean_squared_error(y_test, y_pred_test)\n",
        "  test_rmse = np.sqrt(test_mse)\n",
        "  test_r2 = r2_score(y_test, y_pred_test)\n",
        "\n",
        "  #Taking care of all my prints\n",
        "  \n",
        "  #Training Data:\n",
        "  print('Train Data:')\n",
        "  print(f'Train MAE: ${train_error:.2f}')\n",
        "  print(f'Train MSE: ${train_mse:.2f}')\n",
        "  print(f'Train RMSE: ${train_rmse:.2f}')\n",
        "  print(f'Train R^2: {train_r2:.2f} \\n')\n",
        "\n",
        "  #Testing Data\n",
        "  print('Test Data:')\n",
        "  print(f'Test MAE ${test_error:.2f}')\n",
        "  print(f'Test MSE: ${test_mse:.2f}')\n",
        "  print(f'Test RMSE: ${test_rmse:.2f}')\n",
        "  print(f'Test R^2: {test_r2:.2f} \\n')\n",
        "\n",
        "  #Model Interecept and Coefficients\n",
        "  print('Model Intercept and Coefficients \\n')\n",
        "  print(f'Model intercept {model.intercept_} \\n')\n",
        "  print(f'Coefficients \\n{pd.Series(model.coef_, features)}')"
      ],
      "execution_count": 0,
      "outputs": []
    },
    {
      "cell_type": "markdown",
      "metadata": {
        "id": "OsoLuh8_BWDZ",
        "colab_type": "text"
      },
      "source": [
        "When I scale the features, I get an R^2 of -29 but when I do not I have a R^2 of 65."
      ]
    },
    {
      "cell_type": "code",
      "metadata": {
        "id": "mqKhM0C6TTxj",
        "colab_type": "code",
        "outputId": "8500015d-edef-4da9-dbcf-469100c5ae32",
        "colab": {
          "base_uri": "https://localhost:8080/",
          "height": 898
        }
      },
      "source": [
        "train_test()"
      ],
      "execution_count": 152,
      "outputs": [
        {
          "output_type": "stream",
          "text": [
            "Linear Regression dependent on:\n",
            " 31\n",
            " ['latitude', 'longitude', 'haversine', 'interest_level', 'no_fee', 'exclusive', 'bathrooms', 'bedrooms', 'pre-war', 'new_construction', 'loft', 'pets_allowed', 'hardwood_floors', 'dining_room', 'laundry_in_unit', 'dishwasher', 'high_speed_internet', 'balcony', 'terrace', 'elevator', 'doorman', 'laundry_in_building', 'fitness_center', 'swimming_pool', 'roof_deck', 'outdoor_space', 'garden_patio', 'common_outdoor_space', 'wheelchair_access', 'rooms', 'luxury_rating'], \n",
            "\n",
            "Train Data:\n",
            "Train MAE: $659.39\n",
            "Train MSE: $1098861.31\n",
            "Train RMSE: $1048.27\n",
            "Train R^2: 0.65 \n",
            "\n",
            "Test Data:\n",
            "Test MAE $1466.16\n",
            "Test MSE: $4023750.74\n",
            "Test RMSE: $2005.93\n",
            "Test R^2: -0.29 \n",
            "\n",
            "Model Intercept and Coefficients \n",
            "\n",
            "Model intercept 3575.6040069770625 \n",
            "\n",
            "Coefficients \n",
            "latitude                 69380.239800\n",
            "longitude              -209682.171909\n",
            "haversine              -197629.969929\n",
            "interest_level            -257.543405\n",
            "no_fee                     -69.075088\n",
            "exclusive                   26.701688\n",
            "bathrooms                  651.616278\n",
            "bedrooms                   218.852872\n",
            "pre-war                    -44.335002\n",
            "new_construction           -38.280728\n",
            "loft                        23.225529\n",
            "pets_allowed                 3.730549\n",
            "hardwood_floors           -105.129209\n",
            "dining_room                 67.901078\n",
            "laundry_in_unit            172.460829\n",
            "dishwasher                   6.935026\n",
            "high_speed_internet        -95.028608\n",
            "balcony                    -21.258657\n",
            "terrace                     33.973544\n",
            "elevator                    59.353554\n",
            "doorman                    177.505469\n",
            "laundry_in_building        -35.418319\n",
            "fitness_center              49.443587\n",
            "swimming_pool                4.350691\n",
            "roof_deck                  -68.300331\n",
            "outdoor_space              -40.860884\n",
            "garden_patio               -16.086531\n",
            "common_outdoor_space       -16.576617\n",
            "wheelchair_access           39.636517\n",
            "rooms                      389.309977\n",
            "luxury_rating              115.528821\n",
            "dtype: float64\n"
          ],
          "name": "stdout"
        }
      ]
    },
    {
      "cell_type": "markdown",
      "metadata": {
        "id": "OrHOmPFEX-D2",
        "colab_type": "text"
      },
      "source": [
        "If some coefficients are negatively aligned, should I exclude it in my training/testing data?"
      ]
    },
    {
      "cell_type": "code",
      "metadata": {
        "id": "_C1QMxsw7ZMt",
        "colab_type": "code",
        "colab": {}
      },
      "source": [
        "#Changing the features based on the correlation matrix\n",
        "features = ['bathrooms', 'rooms', 'bedrooms', 'luxury_rating', 'doorman',\n",
        "            'laundry_in_unit', 'haversine', 'dining_room', 'fitness_center', \n",
        "            'dishwasher', 'elevator', 'dishwasher', \n",
        "            'elevator', 'terrace', 'outdoor_space', 'balcony', \n",
        "            'swimming_pool', 'no_fee', 'roof_deck', 'garden_patio', 'hardwood_floors',\n",
        "            'high_speed_internet', 'wheelchair_access', 'new_construction', 'pets_allowed', \n",
        "            'common_outdoor_space', 'loft']"
      ],
      "execution_count": 0,
      "outputs": []
    },
    {
      "cell_type": "code",
      "metadata": {
        "id": "sA4ZRfBm8CG_",
        "colab_type": "code",
        "outputId": "25ed8b06-cb6a-4055-af17-f5ee822fcbff",
        "colab": {
          "base_uri": "https://localhost:8080/",
          "height": 833
        }
      },
      "source": [
        "train_test()"
      ],
      "execution_count": 156,
      "outputs": [
        {
          "output_type": "stream",
          "text": [
            "Linear Regression dependent on:\n",
            " 27\n",
            " ['bathrooms', 'rooms', 'bedrooms', 'luxury_rating', 'doorman', 'laundry_in_unit', 'haversine', 'dining_room', 'fitness_center', 'dishwasher', 'elevator', 'dishwasher', 'elevator', 'terrace', 'outdoor_space', 'balcony', 'swimming_pool', 'no_fee', 'roof_deck', 'garden_patio', 'hardwood_floors', 'high_speed_internet', 'wheelchair_access', 'new_construction', 'pets_allowed', 'common_outdoor_space', 'loft'], \n",
            "\n",
            "Train Data:\n",
            "Train MAE: $682.87\n",
            "Train MSE: $1152104.63\n",
            "Train RMSE: $1073.36\n",
            "Train R^2: 0.63 \n",
            "\n",
            "Test Data:\n",
            "Test MAE $3574867879725.53\n",
            "Test MSE: $20076132812140575878807552.00\n",
            "Test RMSE: $4480639777101.10\n",
            "Test R^2: -6459457990135267328.00 \n",
            "\n",
            "Model Intercept and Coefficients \n",
            "\n",
            "Model intercept 3575.541864662486 \n",
            "\n",
            "Coefficients \n",
            "bathrooms               4.565133e+14\n",
            "rooms                  -1.364364e+15\n",
            "bedrooms                1.067791e+15\n",
            "luxury_rating          -1.094814e+03\n",
            "doorman                 3.477370e+02\n",
            "laundry_in_unit         2.971560e+02\n",
            "haversine               3.597995e+02\n",
            "dining_room             1.619037e+02\n",
            "fitness_center          1.783781e+02\n",
            "dishwasher              8.565764e+01\n",
            "elevator                1.100785e+02\n",
            "dishwasher              8.534514e+01\n",
            "elevator                1.100160e+02\n",
            "terrace                 9.756372e+01\n",
            "outdoor_space           7.017934e+01\n",
            "balcony                 4.958802e+01\n",
            "swimming_pool           6.965036e+01\n",
            "no_fee                  8.364062e+01\n",
            "roof_deck               4.832812e+01\n",
            "garden_patio            4.589062e+01\n",
            "hardwood_floors         3.201562e+01\n",
            "high_speed_internet    -5.250000e+00\n",
            "wheelchair_access       8.204688e+01\n",
            "new_construction        2.607812e+01\n",
            "pets_allowed            1.677969e+02\n",
            "common_outdoor_space    4.530273e+01\n",
            "loft                    8.172070e+01\n",
            "dtype: float64\n"
          ],
          "name": "stdout"
        }
      ]
    },
    {
      "cell_type": "markdown",
      "metadata": {
        "id": "ZCXsbDGgmen8",
        "colab_type": "text"
      },
      "source": [
        "What the heck is this number\n",
        "R^2 -6459457990135267328.00  for testing, wow!"
      ]
    },
    {
      "cell_type": "code",
      "metadata": {
        "id": "dqxBnWBKfZ8_",
        "colab_type": "code",
        "colab": {}
      },
      "source": [
        "features = ['haversine', 'bathrooms', 'laundry_in_unit', 'doorman', 'rooms']"
      ],
      "execution_count": 0,
      "outputs": []
    },
    {
      "cell_type": "code",
      "metadata": {
        "id": "rj9bqz3Rfifc",
        "colab_type": "code",
        "outputId": "6db76ee6-2ba7-476e-e8a1-5498197b4ed1",
        "colab": {
          "base_uri": "https://localhost:8080/",
          "height": 456
        }
      },
      "source": [
        "train_test()"
      ],
      "execution_count": 179,
      "outputs": [
        {
          "output_type": "stream",
          "text": [
            "Linear Regression dependent on:\n",
            " 5\n",
            " ['haversine', 'bathrooms', 'laundry_in_unit', 'doorman', 'rooms'], \n",
            "\n",
            "Train Data:\n",
            "Train MAE: $710.40\n",
            "Train MSE: $1237484.40\n",
            "Train RMSE: $1112.42\n",
            "Train R^2: 0.60 \n",
            "\n",
            "Test Data:\n",
            "Test MAE $720.71\n",
            "Test MSE: $1214457.77\n",
            "Test RMSE: $1102.02\n",
            "Test R^2: 0.61 \n",
            "\n",
            "Model Intercept and Coefficients \n",
            "\n",
            "Model intercept 3575.604007034354 \n",
            "\n",
            "Coefficients \n",
            "haversine          363.494855\n",
            "bathrooms          648.646396\n",
            "laundry_in_unit    152.530267\n",
            "doorman            247.138607\n",
            "rooms              639.476030\n",
            "dtype: float64\n"
          ],
          "name": "stdout"
        }
      ]
    },
    {
      "cell_type": "markdown",
      "metadata": {
        "id": "NOjpgHu6mspb",
        "colab_type": "text"
      },
      "source": [
        "This is more like it, not the best but definitely better."
      ]
    }
  ]
}