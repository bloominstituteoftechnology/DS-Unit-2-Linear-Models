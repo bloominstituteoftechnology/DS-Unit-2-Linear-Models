{
  "nbformat": 4,
  "nbformat_minor": 0,
  "metadata": {
    "colab": {
      "name": "Jisha_Obukwelu_DSPT3_214_Regression_Classification_Assignment4.ipynb",
      "provenance": [],
      "collapsed_sections": [],
      "include_colab_link": true
    },
    "kernelspec": {
      "display_name": "Python 3",
      "language": "python",
      "name": "python3"
    },
    "language_info": {
      "codemirror_mode": {
        "name": "ipython",
        "version": 3
      },
      "file_extension": ".py",
      "mimetype": "text/x-python",
      "name": "python",
      "nbconvert_exporter": "python",
      "pygments_lexer": "ipython3",
      "version": "3.7.3"
    }
  },
  "cells": [
    {
      "cell_type": "markdown",
      "metadata": {
        "id": "view-in-github",
        "colab_type": "text"
      },
      "source": [
        "<a href=\"https://colab.research.google.com/github/jiobu1/DS-Unit-2-Linear-Models/blob/master/Jisha_Obukwelu_DSPT3_214_Regression_Classification_Assignment4.ipynb\" target=\"_parent\"><img src=\"https://colab.research.google.com/assets/colab-badge.svg\" alt=\"Open In Colab\"/></a>"
      ]
    },
    {
      "cell_type": "markdown",
      "metadata": {
        "id": "Lhh84Ox40ZPW",
        "colab_type": "text"
      },
      "source": [
        "Lambda School Data Science\n",
        "\n",
        "*Unit 2, Sprint 1, Module 4*\n",
        "\n",
        "---"
      ]
    },
    {
      "cell_type": "markdown",
      "metadata": {
        "colab_type": "text",
        "id": "7IXUfiQ2UKj6"
      },
      "source": [
        "# Logistic Regression\n",
        "\n",
        "\n",
        "## Assignment\n",
        "\n",
        "- [x] Watch Aaron's [video #1](https://www.youtube.com/watch?v=pREaWFli-5I) (12 minutes) & [video #2](https://www.youtube.com/watch?v=bDQgVt4hFgY) (9 minutes) to learn about the mathematics of Logistic Regression.\n",
        "- [x] [Sign up for a Kaggle account](https://www.kaggle.com/), if you don’t already have one. Go to our Kaggle InClass competition website. You will be given the URL in Slack. Go to the Rules page. Accept the rules of the competition.\n",
        "- [x] Do train/validate/test split with the Tanzania Waterpumps data.\n",
        "- [x] Begin with baselines for classification.\n",
        "- [x] Use scikit-learn for logistic regression.\n",
        "- [x] Get your validation accuracy score.\n",
        "- [ ] Submit your predictions to our Kaggle competition. (Go to our Kaggle InClass competition webpage. Use the blue **Submit Predictions** button to upload your CSV file. Or you can use the Kaggle API to submit your predictions.)\n",
        "- [ ] Commit your notebook to your fork of the GitHub repo.\n",
        "\n",
        "---\n",
        "\n",
        "\n",
        "## Stretch Goals\n",
        "\n",
        "- [] Add your own stretch goal(s) !\n",
        "- [ ] Clean the data. For ideas, refer to [The Quartz guide to bad data](https://github.com/Quartz/bad-data-guide),  a \"reference to problems seen in real-world data along with suggestions on how to resolve them.\" One of the issues is [\"Zeros replace missing values.\"](https://github.com/Quartz/bad-data-guide#zeros-replace-missing-values)\n",
        "- [x] Make exploratory visualizations.\n",
        "- [x] Do one-hot encoding. For example, you could try `quantity`, `basin`, `extraction_type_class`, and more. (But remember it may not work with high cardinality categoricals.)\n",
        "- [x] Do [feature scaling](https://scikit-learn.org/stable/modules/preprocessing.html).\n",
        "- [x] Get and plot your coefficients.\n",
        "- [ ] Try [scikit-learn pipelines](https://scikit-learn.org/stable/modules/compose.html).\n",
        "\n",
        "---\n",
        "\n",
        "## Data Dictionary \n",
        "\n",
        "### Features\n",
        "\n",
        "Your goal is to predict the operating condition of a waterpoint for each record in the dataset. You are provided the following set of information about the waterpoints:\n",
        "\n",
        "- `amount_tsh` : Total static head (amount water available to waterpoint)\n",
        "- `date_recorded` : The date the row was entered\n",
        "- `funder` : Who funded the well\n",
        "- `gps_height` : Altitude of the well\n",
        "- `installer` : Organization that installed the well\n",
        "- `longitude` : GPS coordinate\n",
        "- `latitude` : GPS coordinate\n",
        "- `wpt_name` : Name of the waterpoint if there is one\n",
        "- `num_private` :  \n",
        "- `basin` : Geographic water basin\n",
        "- `subvillage` : Geographic location\n",
        "- `region` : Geographic location\n",
        "- `region_code` : Geographic location (coded)\n",
        "- `district_code` : Geographic location (coded)\n",
        "- `lga` : Geographic location\n",
        "- `ward` : Geographic location\n",
        "- `population` : Population around the well\n",
        "- `public_meeting` : True/False\n",
        "- `recorded_by` : Group entering this row of data\n",
        "- `scheme_management` : Who operates the waterpoint\n",
        "- `scheme_name` : Who operates the waterpoint\n",
        "- `permit` : If the waterpoint is permitted\n",
        "- `construction_year` : Year the waterpoint was constructed\n",
        "- `extraction_type` : The kind of extraction the waterpoint uses\n",
        "- `extraction_type_group` : The kind of extraction the waterpoint uses\n",
        "- `extraction_type_class` : The kind of extraction the waterpoint uses\n",
        "- `management` : How the waterpoint is managed\n",
        "- `management_group` : How the waterpoint is managed\n",
        "- `payment` : What the water costs\n",
        "- `payment_type` : What the water costs\n",
        "- `water_quality` : The quality of the water\n",
        "- `quality_group` : The quality of the water\n",
        "- `quantity` : The quantity of water\n",
        "- `quantity_group` : The quantity of water\n",
        "- `source` : The source of the water\n",
        "- `source_type` : The source of the water\n",
        "- `source_class` : The source of the water\n",
        "- `waterpoint_type` : The kind of waterpoint\n",
        "- `waterpoint_type_group` : The kind of waterpoint\n",
        "\n",
        "### Labels\n",
        "\n",
        "There are three possible values:\n",
        "\n",
        "- `functional` : the waterpoint is operational and there are no repairs needed\n",
        "- `functional needs repair` : the waterpoint is operational, but needs repairs\n",
        "- `non functional` : the waterpoint is not operational\n",
        "\n",
        "--- \n",
        "\n",
        "## Generate a submission\n",
        "\n",
        "Your code to generate a submission file may look like this:\n",
        "\n",
        "```python\n",
        "# estimator is your model or pipeline, which you've fit on X_train\n",
        "\n",
        "# X_test is your pandas dataframe or numpy array, \n",
        "# with the same number of rows, in the same order, as test_features.csv, \n",
        "# and the same number of columns, in the same order, as X_train\n",
        "\n",
        "y_pred = estimator.predict(X_test)\n",
        "\n",
        "\n",
        "# Makes a dataframe with two columns, id and status_group, \n",
        "# and writes to a csv file, without the index\n",
        "\n",
        "sample_submission = pd.read_csv('sample_submission.csv')\n",
        "submission = sample_submission.copy()\n",
        "submission['status_group'] = y_pred\n",
        "submission.to_csv('your-submission-filename.csv', index=False)\n",
        "```\n",
        "\n",
        "If you're working locally, the csv file is saved in the same directory as your notebook.\n",
        "\n",
        "If you're using Google Colab, you can use this code to download your submission csv file.\n",
        "\n",
        "```python\n",
        "from google.colab import files\n",
        "files.download('your-submission-filename.csv')\n",
        "```\n",
        "\n",
        "---"
      ]
    },
    {
      "cell_type": "markdown",
      "metadata": {
        "id": "wrIQT3nU7IhG",
        "colab_type": "text"
      },
      "source": [
        "####Imports "
      ]
    },
    {
      "cell_type": "code",
      "metadata": {
        "id": "Z79iMVmGC-Su",
        "colab_type": "code",
        "outputId": "b913e01c-4334-499b-8b82-cfce827b5e90",
        "colab": {
          "base_uri": "https://localhost:8080/",
          "height": 292
        }
      },
      "source": [
        "#No category encoders\n",
        "!pip install category_encoders"
      ],
      "execution_count": 0,
      "outputs": [
        {
          "output_type": "stream",
          "text": [
            "Collecting category_encoders\n",
            "\u001b[?25l  Downloading https://files.pythonhosted.org/packages/a0/52/c54191ad3782de633ea3d6ee3bb2837bda0cf3bc97644bb6375cf14150a0/category_encoders-2.1.0-py2.py3-none-any.whl (100kB)\n",
            "\r\u001b[K     |███▎                            | 10kB 20.3MB/s eta 0:00:01\r\u001b[K     |██████▌                         | 20kB 6.5MB/s eta 0:00:01\r\u001b[K     |█████████▉                      | 30kB 9.2MB/s eta 0:00:01\r\u001b[K     |█████████████                   | 40kB 5.9MB/s eta 0:00:01\r\u001b[K     |████████████████▍               | 51kB 7.2MB/s eta 0:00:01\r\u001b[K     |███████████████████▋            | 61kB 8.4MB/s eta 0:00:01\r\u001b[K     |██████████████████████▉         | 71kB 9.6MB/s eta 0:00:01\r\u001b[K     |██████████████████████████▏     | 81kB 10.6MB/s eta 0:00:01\r\u001b[K     |█████████████████████████████▍  | 92kB 11.7MB/s eta 0:00:01\r\u001b[K     |████████████████████████████████| 102kB 5.5MB/s \n",
            "\u001b[?25hRequirement already satisfied: statsmodels>=0.6.1 in /usr/local/lib/python3.6/dist-packages (from category_encoders) (0.10.1)\n",
            "Requirement already satisfied: patsy>=0.4.1 in /usr/local/lib/python3.6/dist-packages (from category_encoders) (0.5.1)\n",
            "Requirement already satisfied: numpy>=1.11.3 in /usr/local/lib/python3.6/dist-packages (from category_encoders) (1.17.3)\n",
            "Requirement already satisfied: scikit-learn>=0.20.0 in /usr/local/lib/python3.6/dist-packages (from category_encoders) (0.21.3)\n",
            "Requirement already satisfied: scipy>=0.19.0 in /usr/local/lib/python3.6/dist-packages (from category_encoders) (1.3.1)\n",
            "Requirement already satisfied: pandas>=0.21.1 in /usr/local/lib/python3.6/dist-packages (from category_encoders) (0.25.3)\n",
            "Requirement already satisfied: six in /usr/local/lib/python3.6/dist-packages (from patsy>=0.4.1->category_encoders) (1.12.0)\n",
            "Requirement already satisfied: joblib>=0.11 in /usr/local/lib/python3.6/dist-packages (from scikit-learn>=0.20.0->category_encoders) (0.14.0)\n",
            "Requirement already satisfied: python-dateutil>=2.6.1 in /usr/local/lib/python3.6/dist-packages (from pandas>=0.21.1->category_encoders) (2.6.1)\n",
            "Requirement already satisfied: pytz>=2017.2 in /usr/local/lib/python3.6/dist-packages (from pandas>=0.21.1->category_encoders) (2018.9)\n",
            "Installing collected packages: category-encoders\n",
            "Successfully installed category-encoders-2.1.0\n"
          ],
          "name": "stdout"
        }
      ]
    },
    {
      "cell_type": "code",
      "metadata": {
        "id": "4taPy0Hz7IOr",
        "colab_type": "code",
        "colab": {}
      },
      "source": [
        "import pandas as pd\n",
        "import pandas_profiling\n",
        "import numpy as np\n",
        "\n",
        "import matplotlib.pyplot as plt\n",
        "import seaborn as sns\n",
        "import plotly.express as px\n",
        "\n",
        "from sklearn.model_selection import train_test_split\n",
        "from sklearn.impute import SimpleImputer\n",
        "import category_encoders as ce\n",
        "from sklearn.preprocessing import StandardScaler\n",
        "\n",
        "from sklearn.linear_model import LogisticRegression\n",
        "from sklearn.metrics import accuracy_score\n"
      ],
      "execution_count": 0,
      "outputs": []
    },
    {
      "cell_type": "markdown",
      "metadata": {
        "id": "v9lQ074cr-Kg",
        "colab_type": "text"
      },
      "source": [
        "#####Importing the following to get my graphs to show"
      ]
    },
    {
      "cell_type": "code",
      "metadata": {
        "id": "L2GxZxo3XEan",
        "colab_type": "code",
        "colab": {}
      },
      "source": [
        " %matplotlib inline"
      ],
      "execution_count": 0,
      "outputs": []
    },
    {
      "cell_type": "code",
      "metadata": {
        "id": "qRUkATbmWlIh",
        "colab_type": "code",
        "colab": {}
      },
      "source": [
        "from IPython.core.interactiveshell import InteractiveShell\n",
        "InteractiveShell.ast_node_interactivity = \"all\""
      ],
      "execution_count": 0,
      "outputs": []
    },
    {
      "cell_type": "code",
      "metadata": {
        "colab_type": "code",
        "id": "o9eSnDYhUGD7",
        "colab": {}
      },
      "source": [
        "%%capture\n",
        "import sys\n",
        "\n",
        "# If you're on Colab:\n",
        "if 'google.colab' in sys.modules:\n",
        "    DATA_PATH = 'https://raw.githubusercontent.com/LambdaSchool/DS-Unit-2-Applied-Modeling/master/data/'\n",
        "    !pip install category_encoders==2.*\n",
        "\n",
        "# If you're working locally:\n",
        "else:\n",
        "    DATA_PATH = '../data/'"
      ],
      "execution_count": 0,
      "outputs": []
    },
    {
      "cell_type": "code",
      "metadata": {
        "colab_type": "code",
        "id": "ipBYS77PUwNR",
        "colab": {}
      },
      "source": [
        "# Ignore this Numpy warning when using Plotly Express:\n",
        "# FutureWarning: Method .ptp is deprecated and will be removed in a future version. Use numpy.ptp instead.\n",
        "import warnings\n",
        "warnings.filterwarnings(action='ignore', category=FutureWarning, module='numpy')"
      ],
      "execution_count": 0,
      "outputs": []
    },
    {
      "cell_type": "code",
      "metadata": {
        "colab_type": "code",
        "id": "QJBD4ruICm1m",
        "colab": {}
      },
      "source": [
        "# Read the Tanzania Waterpumps data\n",
        "# train_features.csv : the training set features\n",
        "# train_labels.csv : the training set labels\n",
        "# test_features.csv : the test set features\n",
        "# sample_submission.csv : a sample submission file in the correct format\n",
        "\n",
        "train_features = pd.read_csv(DATA_PATH+'waterpumps/train_features.csv')\n",
        "train_labels = pd.read_csv(DATA_PATH+'waterpumps/train_labels.csv')\n",
        "test_features = pd.read_csv(DATA_PATH+'waterpumps/test_features.csv')\n",
        "# sample_submission = pd.read_csv(DATA_PATH+'waterpumps/waterpumps/sample_submission.csv')\n",
        "\n",
        "assert train_features.shape == (59400, 40)\n",
        "assert train_labels.shape == (59400, 2)\n",
        "assert test_features.shape == (14358, 40)\n",
        "# assert sample_submission.shape == (14358, 2)"
      ],
      "execution_count": 0,
      "outputs": []
    },
    {
      "cell_type": "markdown",
      "metadata": {
        "id": "lRFKYBWaqc1y",
        "colab_type": "text"
      },
      "source": [
        "#####What is in my data?"
      ]
    },
    {
      "cell_type": "code",
      "metadata": {
        "id": "5LVHgjWfqZZy",
        "colab_type": "code",
        "outputId": "20ae91d9-6fdb-400a-e328-4e21c5c9164b",
        "colab": {
          "base_uri": "https://localhost:8080/",
          "height": 428
        }
      },
      "source": [
        "print(train_features.shape)\n",
        "train_features.head()"
      ],
      "execution_count": 0,
      "outputs": [
        {
          "output_type": "stream",
          "text": [
            "(59400, 40)\n"
          ],
          "name": "stdout"
        },
        {
          "output_type": "execute_result",
          "data": {
            "text/html": [
              "<div>\n",
              "<style scoped>\n",
              "    .dataframe tbody tr th:only-of-type {\n",
              "        vertical-align: middle;\n",
              "    }\n",
              "\n",
              "    .dataframe tbody tr th {\n",
              "        vertical-align: top;\n",
              "    }\n",
              "\n",
              "    .dataframe thead th {\n",
              "        text-align: right;\n",
              "    }\n",
              "</style>\n",
              "<table border=\"1\" class=\"dataframe\">\n",
              "  <thead>\n",
              "    <tr style=\"text-align: right;\">\n",
              "      <th></th>\n",
              "      <th>id</th>\n",
              "      <th>amount_tsh</th>\n",
              "      <th>date_recorded</th>\n",
              "      <th>funder</th>\n",
              "      <th>gps_height</th>\n",
              "      <th>installer</th>\n",
              "      <th>longitude</th>\n",
              "      <th>latitude</th>\n",
              "      <th>wpt_name</th>\n",
              "      <th>num_private</th>\n",
              "      <th>basin</th>\n",
              "      <th>subvillage</th>\n",
              "      <th>region</th>\n",
              "      <th>region_code</th>\n",
              "      <th>district_code</th>\n",
              "      <th>lga</th>\n",
              "      <th>ward</th>\n",
              "      <th>population</th>\n",
              "      <th>public_meeting</th>\n",
              "      <th>recorded_by</th>\n",
              "      <th>scheme_management</th>\n",
              "      <th>scheme_name</th>\n",
              "      <th>permit</th>\n",
              "      <th>construction_year</th>\n",
              "      <th>extraction_type</th>\n",
              "      <th>extraction_type_group</th>\n",
              "      <th>extraction_type_class</th>\n",
              "      <th>management</th>\n",
              "      <th>management_group</th>\n",
              "      <th>payment</th>\n",
              "      <th>payment_type</th>\n",
              "      <th>water_quality</th>\n",
              "      <th>quality_group</th>\n",
              "      <th>quantity</th>\n",
              "      <th>quantity_group</th>\n",
              "      <th>source</th>\n",
              "      <th>source_type</th>\n",
              "      <th>source_class</th>\n",
              "      <th>waterpoint_type</th>\n",
              "      <th>waterpoint_type_group</th>\n",
              "    </tr>\n",
              "  </thead>\n",
              "  <tbody>\n",
              "    <tr>\n",
              "      <th>0</th>\n",
              "      <td>69572</td>\n",
              "      <td>6000.0</td>\n",
              "      <td>2011-03-14</td>\n",
              "      <td>Roman</td>\n",
              "      <td>1390</td>\n",
              "      <td>Roman</td>\n",
              "      <td>34.938093</td>\n",
              "      <td>-9.856322</td>\n",
              "      <td>none</td>\n",
              "      <td>0</td>\n",
              "      <td>Lake Nyasa</td>\n",
              "      <td>Mnyusi B</td>\n",
              "      <td>Iringa</td>\n",
              "      <td>11</td>\n",
              "      <td>5</td>\n",
              "      <td>Ludewa</td>\n",
              "      <td>Mundindi</td>\n",
              "      <td>109</td>\n",
              "      <td>True</td>\n",
              "      <td>GeoData Consultants Ltd</td>\n",
              "      <td>VWC</td>\n",
              "      <td>Roman</td>\n",
              "      <td>False</td>\n",
              "      <td>1999</td>\n",
              "      <td>gravity</td>\n",
              "      <td>gravity</td>\n",
              "      <td>gravity</td>\n",
              "      <td>vwc</td>\n",
              "      <td>user-group</td>\n",
              "      <td>pay annually</td>\n",
              "      <td>annually</td>\n",
              "      <td>soft</td>\n",
              "      <td>good</td>\n",
              "      <td>enough</td>\n",
              "      <td>enough</td>\n",
              "      <td>spring</td>\n",
              "      <td>spring</td>\n",
              "      <td>groundwater</td>\n",
              "      <td>communal standpipe</td>\n",
              "      <td>communal standpipe</td>\n",
              "    </tr>\n",
              "    <tr>\n",
              "      <th>1</th>\n",
              "      <td>8776</td>\n",
              "      <td>0.0</td>\n",
              "      <td>2013-03-06</td>\n",
              "      <td>Grumeti</td>\n",
              "      <td>1399</td>\n",
              "      <td>GRUMETI</td>\n",
              "      <td>34.698766</td>\n",
              "      <td>-2.147466</td>\n",
              "      <td>Zahanati</td>\n",
              "      <td>0</td>\n",
              "      <td>Lake Victoria</td>\n",
              "      <td>Nyamara</td>\n",
              "      <td>Mara</td>\n",
              "      <td>20</td>\n",
              "      <td>2</td>\n",
              "      <td>Serengeti</td>\n",
              "      <td>Natta</td>\n",
              "      <td>280</td>\n",
              "      <td>NaN</td>\n",
              "      <td>GeoData Consultants Ltd</td>\n",
              "      <td>Other</td>\n",
              "      <td>NaN</td>\n",
              "      <td>True</td>\n",
              "      <td>2010</td>\n",
              "      <td>gravity</td>\n",
              "      <td>gravity</td>\n",
              "      <td>gravity</td>\n",
              "      <td>wug</td>\n",
              "      <td>user-group</td>\n",
              "      <td>never pay</td>\n",
              "      <td>never pay</td>\n",
              "      <td>soft</td>\n",
              "      <td>good</td>\n",
              "      <td>insufficient</td>\n",
              "      <td>insufficient</td>\n",
              "      <td>rainwater harvesting</td>\n",
              "      <td>rainwater harvesting</td>\n",
              "      <td>surface</td>\n",
              "      <td>communal standpipe</td>\n",
              "      <td>communal standpipe</td>\n",
              "    </tr>\n",
              "    <tr>\n",
              "      <th>2</th>\n",
              "      <td>34310</td>\n",
              "      <td>25.0</td>\n",
              "      <td>2013-02-25</td>\n",
              "      <td>Lottery Club</td>\n",
              "      <td>686</td>\n",
              "      <td>World vision</td>\n",
              "      <td>37.460664</td>\n",
              "      <td>-3.821329</td>\n",
              "      <td>Kwa Mahundi</td>\n",
              "      <td>0</td>\n",
              "      <td>Pangani</td>\n",
              "      <td>Majengo</td>\n",
              "      <td>Manyara</td>\n",
              "      <td>21</td>\n",
              "      <td>4</td>\n",
              "      <td>Simanjiro</td>\n",
              "      <td>Ngorika</td>\n",
              "      <td>250</td>\n",
              "      <td>True</td>\n",
              "      <td>GeoData Consultants Ltd</td>\n",
              "      <td>VWC</td>\n",
              "      <td>Nyumba ya mungu pipe scheme</td>\n",
              "      <td>True</td>\n",
              "      <td>2009</td>\n",
              "      <td>gravity</td>\n",
              "      <td>gravity</td>\n",
              "      <td>gravity</td>\n",
              "      <td>vwc</td>\n",
              "      <td>user-group</td>\n",
              "      <td>pay per bucket</td>\n",
              "      <td>per bucket</td>\n",
              "      <td>soft</td>\n",
              "      <td>good</td>\n",
              "      <td>enough</td>\n",
              "      <td>enough</td>\n",
              "      <td>dam</td>\n",
              "      <td>dam</td>\n",
              "      <td>surface</td>\n",
              "      <td>communal standpipe multiple</td>\n",
              "      <td>communal standpipe</td>\n",
              "    </tr>\n",
              "    <tr>\n",
              "      <th>3</th>\n",
              "      <td>67743</td>\n",
              "      <td>0.0</td>\n",
              "      <td>2013-01-28</td>\n",
              "      <td>Unicef</td>\n",
              "      <td>263</td>\n",
              "      <td>UNICEF</td>\n",
              "      <td>38.486161</td>\n",
              "      <td>-11.155298</td>\n",
              "      <td>Zahanati Ya Nanyumbu</td>\n",
              "      <td>0</td>\n",
              "      <td>Ruvuma / Southern Coast</td>\n",
              "      <td>Mahakamani</td>\n",
              "      <td>Mtwara</td>\n",
              "      <td>90</td>\n",
              "      <td>63</td>\n",
              "      <td>Nanyumbu</td>\n",
              "      <td>Nanyumbu</td>\n",
              "      <td>58</td>\n",
              "      <td>True</td>\n",
              "      <td>GeoData Consultants Ltd</td>\n",
              "      <td>VWC</td>\n",
              "      <td>NaN</td>\n",
              "      <td>True</td>\n",
              "      <td>1986</td>\n",
              "      <td>submersible</td>\n",
              "      <td>submersible</td>\n",
              "      <td>submersible</td>\n",
              "      <td>vwc</td>\n",
              "      <td>user-group</td>\n",
              "      <td>never pay</td>\n",
              "      <td>never pay</td>\n",
              "      <td>soft</td>\n",
              "      <td>good</td>\n",
              "      <td>dry</td>\n",
              "      <td>dry</td>\n",
              "      <td>machine dbh</td>\n",
              "      <td>borehole</td>\n",
              "      <td>groundwater</td>\n",
              "      <td>communal standpipe multiple</td>\n",
              "      <td>communal standpipe</td>\n",
              "    </tr>\n",
              "    <tr>\n",
              "      <th>4</th>\n",
              "      <td>19728</td>\n",
              "      <td>0.0</td>\n",
              "      <td>2011-07-13</td>\n",
              "      <td>Action In A</td>\n",
              "      <td>0</td>\n",
              "      <td>Artisan</td>\n",
              "      <td>31.130847</td>\n",
              "      <td>-1.825359</td>\n",
              "      <td>Shuleni</td>\n",
              "      <td>0</td>\n",
              "      <td>Lake Victoria</td>\n",
              "      <td>Kyanyamisa</td>\n",
              "      <td>Kagera</td>\n",
              "      <td>18</td>\n",
              "      <td>1</td>\n",
              "      <td>Karagwe</td>\n",
              "      <td>Nyakasimbi</td>\n",
              "      <td>0</td>\n",
              "      <td>True</td>\n",
              "      <td>GeoData Consultants Ltd</td>\n",
              "      <td>NaN</td>\n",
              "      <td>NaN</td>\n",
              "      <td>True</td>\n",
              "      <td>0</td>\n",
              "      <td>gravity</td>\n",
              "      <td>gravity</td>\n",
              "      <td>gravity</td>\n",
              "      <td>other</td>\n",
              "      <td>other</td>\n",
              "      <td>never pay</td>\n",
              "      <td>never pay</td>\n",
              "      <td>soft</td>\n",
              "      <td>good</td>\n",
              "      <td>seasonal</td>\n",
              "      <td>seasonal</td>\n",
              "      <td>rainwater harvesting</td>\n",
              "      <td>rainwater harvesting</td>\n",
              "      <td>surface</td>\n",
              "      <td>communal standpipe</td>\n",
              "      <td>communal standpipe</td>\n",
              "    </tr>\n",
              "  </tbody>\n",
              "</table>\n",
              "</div>"
            ],
            "text/plain": [
              "      id  amount_tsh  ...              waterpoint_type waterpoint_type_group\n",
              "0  69572      6000.0  ...           communal standpipe    communal standpipe\n",
              "1   8776         0.0  ...           communal standpipe    communal standpipe\n",
              "2  34310        25.0  ...  communal standpipe multiple    communal standpipe\n",
              "3  67743         0.0  ...  communal standpipe multiple    communal standpipe\n",
              "4  19728         0.0  ...           communal standpipe    communal standpipe\n",
              "\n",
              "[5 rows x 40 columns]"
            ]
          },
          "metadata": {
            "tags": []
          },
          "execution_count": 111
        }
      ]
    },
    {
      "cell_type": "code",
      "metadata": {
        "id": "UZGtof0wqlNp",
        "colab_type": "code",
        "outputId": "be878a47-c239-47f4-d8bb-3d35b54bbb75",
        "colab": {
          "base_uri": "https://localhost:8080/",
          "height": 221
        }
      },
      "source": [
        "print(train_labels.shape)\n",
        "train_labels.head()"
      ],
      "execution_count": 0,
      "outputs": [
        {
          "output_type": "stream",
          "text": [
            "(59400, 2)\n"
          ],
          "name": "stdout"
        },
        {
          "output_type": "execute_result",
          "data": {
            "text/html": [
              "<div>\n",
              "<style scoped>\n",
              "    .dataframe tbody tr th:only-of-type {\n",
              "        vertical-align: middle;\n",
              "    }\n",
              "\n",
              "    .dataframe tbody tr th {\n",
              "        vertical-align: top;\n",
              "    }\n",
              "\n",
              "    .dataframe thead th {\n",
              "        text-align: right;\n",
              "    }\n",
              "</style>\n",
              "<table border=\"1\" class=\"dataframe\">\n",
              "  <thead>\n",
              "    <tr style=\"text-align: right;\">\n",
              "      <th></th>\n",
              "      <th>id</th>\n",
              "      <th>status_group</th>\n",
              "    </tr>\n",
              "  </thead>\n",
              "  <tbody>\n",
              "    <tr>\n",
              "      <th>0</th>\n",
              "      <td>69572</td>\n",
              "      <td>functional</td>\n",
              "    </tr>\n",
              "    <tr>\n",
              "      <th>1</th>\n",
              "      <td>8776</td>\n",
              "      <td>functional</td>\n",
              "    </tr>\n",
              "    <tr>\n",
              "      <th>2</th>\n",
              "      <td>34310</td>\n",
              "      <td>functional</td>\n",
              "    </tr>\n",
              "    <tr>\n",
              "      <th>3</th>\n",
              "      <td>67743</td>\n",
              "      <td>non functional</td>\n",
              "    </tr>\n",
              "    <tr>\n",
              "      <th>4</th>\n",
              "      <td>19728</td>\n",
              "      <td>functional</td>\n",
              "    </tr>\n",
              "  </tbody>\n",
              "</table>\n",
              "</div>"
            ],
            "text/plain": [
              "      id    status_group\n",
              "0  69572      functional\n",
              "1   8776      functional\n",
              "2  34310      functional\n",
              "3  67743  non functional\n",
              "4  19728      functional"
            ]
          },
          "metadata": {
            "tags": []
          },
          "execution_count": 112
        }
      ]
    },
    {
      "cell_type": "markdown",
      "metadata": {
        "id": "BOB2KHTS8ZWq",
        "colab_type": "text"
      },
      "source": [
        "###1. Train/Val/Test Split"
      ]
    },
    {
      "cell_type": "markdown",
      "metadata": {
        "id": "4ZNPa3lyqCSL",
        "colab_type": "text"
      },
      "source": [
        "##### Merging before doing split/Also for data analysis"
      ]
    },
    {
      "cell_type": "code",
      "metadata": {
        "id": "LqxEaDtgqVAZ",
        "colab_type": "code",
        "colab": {}
      },
      "source": [
        "#Can merge on id\n",
        "merge_df = pd.merge(train_features, train_labels)"
      ],
      "execution_count": 0,
      "outputs": []
    },
    {
      "cell_type": "code",
      "metadata": {
        "id": "GDnL_5uCq7B4",
        "colab_type": "code",
        "outputId": "ed079286-edf0-46ab-a430-ed7de5ea227b",
        "colab": {
          "base_uri": "https://localhost:8080/",
          "height": 428
        }
      },
      "source": [
        "print(merge_df.shape)\n",
        "merge_df.head()"
      ],
      "execution_count": 0,
      "outputs": [
        {
          "output_type": "stream",
          "text": [
            "(59400, 41)\n"
          ],
          "name": "stdout"
        },
        {
          "output_type": "execute_result",
          "data": {
            "text/html": [
              "<div>\n",
              "<style scoped>\n",
              "    .dataframe tbody tr th:only-of-type {\n",
              "        vertical-align: middle;\n",
              "    }\n",
              "\n",
              "    .dataframe tbody tr th {\n",
              "        vertical-align: top;\n",
              "    }\n",
              "\n",
              "    .dataframe thead th {\n",
              "        text-align: right;\n",
              "    }\n",
              "</style>\n",
              "<table border=\"1\" class=\"dataframe\">\n",
              "  <thead>\n",
              "    <tr style=\"text-align: right;\">\n",
              "      <th></th>\n",
              "      <th>id</th>\n",
              "      <th>amount_tsh</th>\n",
              "      <th>date_recorded</th>\n",
              "      <th>funder</th>\n",
              "      <th>gps_height</th>\n",
              "      <th>installer</th>\n",
              "      <th>longitude</th>\n",
              "      <th>latitude</th>\n",
              "      <th>wpt_name</th>\n",
              "      <th>num_private</th>\n",
              "      <th>basin</th>\n",
              "      <th>subvillage</th>\n",
              "      <th>region</th>\n",
              "      <th>region_code</th>\n",
              "      <th>district_code</th>\n",
              "      <th>lga</th>\n",
              "      <th>ward</th>\n",
              "      <th>population</th>\n",
              "      <th>public_meeting</th>\n",
              "      <th>recorded_by</th>\n",
              "      <th>scheme_management</th>\n",
              "      <th>scheme_name</th>\n",
              "      <th>permit</th>\n",
              "      <th>construction_year</th>\n",
              "      <th>extraction_type</th>\n",
              "      <th>extraction_type_group</th>\n",
              "      <th>extraction_type_class</th>\n",
              "      <th>management</th>\n",
              "      <th>management_group</th>\n",
              "      <th>payment</th>\n",
              "      <th>payment_type</th>\n",
              "      <th>water_quality</th>\n",
              "      <th>quality_group</th>\n",
              "      <th>quantity</th>\n",
              "      <th>quantity_group</th>\n",
              "      <th>source</th>\n",
              "      <th>source_type</th>\n",
              "      <th>source_class</th>\n",
              "      <th>waterpoint_type</th>\n",
              "      <th>waterpoint_type_group</th>\n",
              "      <th>status_group</th>\n",
              "    </tr>\n",
              "  </thead>\n",
              "  <tbody>\n",
              "    <tr>\n",
              "      <th>0</th>\n",
              "      <td>69572</td>\n",
              "      <td>6000.0</td>\n",
              "      <td>2011-03-14</td>\n",
              "      <td>Roman</td>\n",
              "      <td>1390</td>\n",
              "      <td>Roman</td>\n",
              "      <td>34.938093</td>\n",
              "      <td>-9.856322</td>\n",
              "      <td>none</td>\n",
              "      <td>0</td>\n",
              "      <td>Lake Nyasa</td>\n",
              "      <td>Mnyusi B</td>\n",
              "      <td>Iringa</td>\n",
              "      <td>11</td>\n",
              "      <td>5</td>\n",
              "      <td>Ludewa</td>\n",
              "      <td>Mundindi</td>\n",
              "      <td>109</td>\n",
              "      <td>True</td>\n",
              "      <td>GeoData Consultants Ltd</td>\n",
              "      <td>VWC</td>\n",
              "      <td>Roman</td>\n",
              "      <td>False</td>\n",
              "      <td>1999</td>\n",
              "      <td>gravity</td>\n",
              "      <td>gravity</td>\n",
              "      <td>gravity</td>\n",
              "      <td>vwc</td>\n",
              "      <td>user-group</td>\n",
              "      <td>pay annually</td>\n",
              "      <td>annually</td>\n",
              "      <td>soft</td>\n",
              "      <td>good</td>\n",
              "      <td>enough</td>\n",
              "      <td>enough</td>\n",
              "      <td>spring</td>\n",
              "      <td>spring</td>\n",
              "      <td>groundwater</td>\n",
              "      <td>communal standpipe</td>\n",
              "      <td>communal standpipe</td>\n",
              "      <td>functional</td>\n",
              "    </tr>\n",
              "    <tr>\n",
              "      <th>1</th>\n",
              "      <td>8776</td>\n",
              "      <td>0.0</td>\n",
              "      <td>2013-03-06</td>\n",
              "      <td>Grumeti</td>\n",
              "      <td>1399</td>\n",
              "      <td>GRUMETI</td>\n",
              "      <td>34.698766</td>\n",
              "      <td>-2.147466</td>\n",
              "      <td>Zahanati</td>\n",
              "      <td>0</td>\n",
              "      <td>Lake Victoria</td>\n",
              "      <td>Nyamara</td>\n",
              "      <td>Mara</td>\n",
              "      <td>20</td>\n",
              "      <td>2</td>\n",
              "      <td>Serengeti</td>\n",
              "      <td>Natta</td>\n",
              "      <td>280</td>\n",
              "      <td>NaN</td>\n",
              "      <td>GeoData Consultants Ltd</td>\n",
              "      <td>Other</td>\n",
              "      <td>NaN</td>\n",
              "      <td>True</td>\n",
              "      <td>2010</td>\n",
              "      <td>gravity</td>\n",
              "      <td>gravity</td>\n",
              "      <td>gravity</td>\n",
              "      <td>wug</td>\n",
              "      <td>user-group</td>\n",
              "      <td>never pay</td>\n",
              "      <td>never pay</td>\n",
              "      <td>soft</td>\n",
              "      <td>good</td>\n",
              "      <td>insufficient</td>\n",
              "      <td>insufficient</td>\n",
              "      <td>rainwater harvesting</td>\n",
              "      <td>rainwater harvesting</td>\n",
              "      <td>surface</td>\n",
              "      <td>communal standpipe</td>\n",
              "      <td>communal standpipe</td>\n",
              "      <td>functional</td>\n",
              "    </tr>\n",
              "    <tr>\n",
              "      <th>2</th>\n",
              "      <td>34310</td>\n",
              "      <td>25.0</td>\n",
              "      <td>2013-02-25</td>\n",
              "      <td>Lottery Club</td>\n",
              "      <td>686</td>\n",
              "      <td>World vision</td>\n",
              "      <td>37.460664</td>\n",
              "      <td>-3.821329</td>\n",
              "      <td>Kwa Mahundi</td>\n",
              "      <td>0</td>\n",
              "      <td>Pangani</td>\n",
              "      <td>Majengo</td>\n",
              "      <td>Manyara</td>\n",
              "      <td>21</td>\n",
              "      <td>4</td>\n",
              "      <td>Simanjiro</td>\n",
              "      <td>Ngorika</td>\n",
              "      <td>250</td>\n",
              "      <td>True</td>\n",
              "      <td>GeoData Consultants Ltd</td>\n",
              "      <td>VWC</td>\n",
              "      <td>Nyumba ya mungu pipe scheme</td>\n",
              "      <td>True</td>\n",
              "      <td>2009</td>\n",
              "      <td>gravity</td>\n",
              "      <td>gravity</td>\n",
              "      <td>gravity</td>\n",
              "      <td>vwc</td>\n",
              "      <td>user-group</td>\n",
              "      <td>pay per bucket</td>\n",
              "      <td>per bucket</td>\n",
              "      <td>soft</td>\n",
              "      <td>good</td>\n",
              "      <td>enough</td>\n",
              "      <td>enough</td>\n",
              "      <td>dam</td>\n",
              "      <td>dam</td>\n",
              "      <td>surface</td>\n",
              "      <td>communal standpipe multiple</td>\n",
              "      <td>communal standpipe</td>\n",
              "      <td>functional</td>\n",
              "    </tr>\n",
              "    <tr>\n",
              "      <th>3</th>\n",
              "      <td>67743</td>\n",
              "      <td>0.0</td>\n",
              "      <td>2013-01-28</td>\n",
              "      <td>Unicef</td>\n",
              "      <td>263</td>\n",
              "      <td>UNICEF</td>\n",
              "      <td>38.486161</td>\n",
              "      <td>-11.155298</td>\n",
              "      <td>Zahanati Ya Nanyumbu</td>\n",
              "      <td>0</td>\n",
              "      <td>Ruvuma / Southern Coast</td>\n",
              "      <td>Mahakamani</td>\n",
              "      <td>Mtwara</td>\n",
              "      <td>90</td>\n",
              "      <td>63</td>\n",
              "      <td>Nanyumbu</td>\n",
              "      <td>Nanyumbu</td>\n",
              "      <td>58</td>\n",
              "      <td>True</td>\n",
              "      <td>GeoData Consultants Ltd</td>\n",
              "      <td>VWC</td>\n",
              "      <td>NaN</td>\n",
              "      <td>True</td>\n",
              "      <td>1986</td>\n",
              "      <td>submersible</td>\n",
              "      <td>submersible</td>\n",
              "      <td>submersible</td>\n",
              "      <td>vwc</td>\n",
              "      <td>user-group</td>\n",
              "      <td>never pay</td>\n",
              "      <td>never pay</td>\n",
              "      <td>soft</td>\n",
              "      <td>good</td>\n",
              "      <td>dry</td>\n",
              "      <td>dry</td>\n",
              "      <td>machine dbh</td>\n",
              "      <td>borehole</td>\n",
              "      <td>groundwater</td>\n",
              "      <td>communal standpipe multiple</td>\n",
              "      <td>communal standpipe</td>\n",
              "      <td>non functional</td>\n",
              "    </tr>\n",
              "    <tr>\n",
              "      <th>4</th>\n",
              "      <td>19728</td>\n",
              "      <td>0.0</td>\n",
              "      <td>2011-07-13</td>\n",
              "      <td>Action In A</td>\n",
              "      <td>0</td>\n",
              "      <td>Artisan</td>\n",
              "      <td>31.130847</td>\n",
              "      <td>-1.825359</td>\n",
              "      <td>Shuleni</td>\n",
              "      <td>0</td>\n",
              "      <td>Lake Victoria</td>\n",
              "      <td>Kyanyamisa</td>\n",
              "      <td>Kagera</td>\n",
              "      <td>18</td>\n",
              "      <td>1</td>\n",
              "      <td>Karagwe</td>\n",
              "      <td>Nyakasimbi</td>\n",
              "      <td>0</td>\n",
              "      <td>True</td>\n",
              "      <td>GeoData Consultants Ltd</td>\n",
              "      <td>NaN</td>\n",
              "      <td>NaN</td>\n",
              "      <td>True</td>\n",
              "      <td>0</td>\n",
              "      <td>gravity</td>\n",
              "      <td>gravity</td>\n",
              "      <td>gravity</td>\n",
              "      <td>other</td>\n",
              "      <td>other</td>\n",
              "      <td>never pay</td>\n",
              "      <td>never pay</td>\n",
              "      <td>soft</td>\n",
              "      <td>good</td>\n",
              "      <td>seasonal</td>\n",
              "      <td>seasonal</td>\n",
              "      <td>rainwater harvesting</td>\n",
              "      <td>rainwater harvesting</td>\n",
              "      <td>surface</td>\n",
              "      <td>communal standpipe</td>\n",
              "      <td>communal standpipe</td>\n",
              "      <td>functional</td>\n",
              "    </tr>\n",
              "  </tbody>\n",
              "</table>\n",
              "</div>"
            ],
            "text/plain": [
              "      id  amount_tsh  ... waterpoint_type_group    status_group\n",
              "0  69572      6000.0  ...    communal standpipe      functional\n",
              "1   8776         0.0  ...    communal standpipe      functional\n",
              "2  34310        25.0  ...    communal standpipe      functional\n",
              "3  67743         0.0  ...    communal standpipe  non functional\n",
              "4  19728         0.0  ...    communal standpipe      functional\n",
              "\n",
              "[5 rows x 41 columns]"
            ]
          },
          "metadata": {
            "tags": []
          },
          "execution_count": 114
        }
      ]
    },
    {
      "cell_type": "markdown",
      "metadata": {
        "id": "kHpewffM3zGb",
        "colab_type": "text"
      },
      "source": [
        "#####Train/Val Split"
      ]
    },
    {
      "cell_type": "code",
      "metadata": {
        "colab_type": "code",
        "id": "2Amxyx3xphbb",
        "outputId": "b9a78680-efd1-4e30-a96e-61bc1f81da04",
        "colab": {
          "base_uri": "https://localhost:8080/",
          "height": 34
        }
      },
      "source": [
        "train, val = train_test_split(merge_df, random_state = 42)\n",
        "print(train.shape, val.shape)"
      ],
      "execution_count": 0,
      "outputs": [
        {
          "output_type": "stream",
          "text": [
            "(44550, 41) (14850, 41)\n"
          ],
          "name": "stdout"
        }
      ]
    },
    {
      "cell_type": "code",
      "metadata": {
        "id": "beQLRJcbfv2W",
        "colab_type": "code",
        "outputId": "4f190609-8b0b-4246-ee94-b35701df5714",
        "colab": {
          "base_uri": "https://localhost:8080/",
          "height": 731
        }
      },
      "source": [
        "train.isnull().sum()"
      ],
      "execution_count": 0,
      "outputs": [
        {
          "output_type": "execute_result",
          "data": {
            "text/plain": [
              "id                           0\n",
              "amount_tsh                   0\n",
              "date_recorded                0\n",
              "funder                    2691\n",
              "gps_height                   0\n",
              "installer                 2700\n",
              "longitude                    0\n",
              "latitude                     0\n",
              "wpt_name                     0\n",
              "num_private                  0\n",
              "basin                        0\n",
              "subvillage                 282\n",
              "region                       0\n",
              "region_code                  0\n",
              "district_code                0\n",
              "lga                          0\n",
              "ward                         0\n",
              "population                   0\n",
              "public_meeting            2525\n",
              "recorded_by                  0\n",
              "scheme_management         2922\n",
              "scheme_name              21132\n",
              "permit                    2285\n",
              "construction_year            0\n",
              "extraction_type              0\n",
              "extraction_type_group        0\n",
              "extraction_type_class        0\n",
              "management                   0\n",
              "management_group             0\n",
              "payment                      0\n",
              "payment_type                 0\n",
              "water_quality                0\n",
              "quality_group                0\n",
              "quantity                     0\n",
              "quantity_group               0\n",
              "source                       0\n",
              "source_type                  0\n",
              "source_class                 0\n",
              "waterpoint_type              0\n",
              "waterpoint_type_group        0\n",
              "status_group                 0\n",
              "dtype: int64"
            ]
          },
          "metadata": {
            "tags": []
          },
          "execution_count": 116
        }
      ]
    },
    {
      "cell_type": "markdown",
      "metadata": {
        "id": "JPrt_ubFlgxd",
        "colab_type": "text"
      },
      "source": [
        "Fortunately, the null data does not to seem to be the ones that I need to make predictions, so I will ignore at present."
      ]
    },
    {
      "cell_type": "markdown",
      "metadata": {
        "id": "mQc466vREq-r",
        "colab_type": "text"
      },
      "source": [
        "### 2. Begin with baselines for classification."
      ]
    },
    {
      "cell_type": "code",
      "metadata": {
        "id": "l2Q8By4mo5dh",
        "colab_type": "code",
        "outputId": "c04c5546-39a2-4e3a-8358-3d6eba454fc6",
        "colab": {
          "base_uri": "https://localhost:8080/",
          "height": 85
        }
      },
      "source": [
        "target = 'status_group'\n",
        "y_train = train[target]\n",
        "y_train.value_counts(normalize = True)"
      ],
      "execution_count": 0,
      "outputs": [
        {
          "output_type": "execute_result",
          "data": {
            "text/plain": [
              "functional                 0.542334\n",
              "non functional             0.384871\n",
              "functional needs repair    0.072795\n",
              "Name: status_group, dtype: float64"
            ]
          },
          "metadata": {
            "tags": []
          },
          "execution_count": 117
        }
      ]
    },
    {
      "cell_type": "markdown",
      "metadata": {
        "id": "U7-rtutAr_Xq",
        "colab_type": "text"
      },
      "source": [
        "How does this compare to us guessing the majority?"
      ]
    },
    {
      "cell_type": "code",
      "metadata": {
        "id": "LugqcGwasQjK",
        "colab_type": "code",
        "outputId": "3e8c46a1-bcff-445d-829a-6edf71755426",
        "colab": {
          "base_uri": "https://localhost:8080/",
          "height": 1000
        }
      },
      "source": [
        "majority = y_train.mode()[0]\n",
        "y_pred = [majority]*len(y_train)\n",
        "y_pred"
      ],
      "execution_count": 0,
      "outputs": [
        {
          "output_type": "execute_result",
          "data": {
            "text/plain": [
              "['functional',\n",
              " 'functional',\n",
              " 'functional',\n",
              " 'functional',\n",
              " 'functional',\n",
              " 'functional',\n",
              " 'functional',\n",
              " 'functional',\n",
              " 'functional',\n",
              " 'functional',\n",
              " 'functional',\n",
              " 'functional',\n",
              " 'functional',\n",
              " 'functional',\n",
              " 'functional',\n",
              " 'functional',\n",
              " 'functional',\n",
              " 'functional',\n",
              " 'functional',\n",
              " 'functional',\n",
              " 'functional',\n",
              " 'functional',\n",
              " 'functional',\n",
              " 'functional',\n",
              " 'functional',\n",
              " 'functional',\n",
              " 'functional',\n",
              " 'functional',\n",
              " 'functional',\n",
              " 'functional',\n",
              " 'functional',\n",
              " 'functional',\n",
              " 'functional',\n",
              " 'functional',\n",
              " 'functional',\n",
              " 'functional',\n",
              " 'functional',\n",
              " 'functional',\n",
              " 'functional',\n",
              " 'functional',\n",
              " 'functional',\n",
              " 'functional',\n",
              " 'functional',\n",
              " 'functional',\n",
              " 'functional',\n",
              " 'functional',\n",
              " 'functional',\n",
              " 'functional',\n",
              " 'functional',\n",
              " 'functional',\n",
              " 'functional',\n",
              " 'functional',\n",
              " 'functional',\n",
              " 'functional',\n",
              " 'functional',\n",
              " 'functional',\n",
              " 'functional',\n",
              " 'functional',\n",
              " 'functional',\n",
              " 'functional',\n",
              " 'functional',\n",
              " 'functional',\n",
              " 'functional',\n",
              " 'functional',\n",
              " 'functional',\n",
              " 'functional',\n",
              " 'functional',\n",
              " 'functional',\n",
              " 'functional',\n",
              " 'functional',\n",
              " 'functional',\n",
              " 'functional',\n",
              " 'functional',\n",
              " 'functional',\n",
              " 'functional',\n",
              " 'functional',\n",
              " 'functional',\n",
              " 'functional',\n",
              " 'functional',\n",
              " 'functional',\n",
              " 'functional',\n",
              " 'functional',\n",
              " 'functional',\n",
              " 'functional',\n",
              " 'functional',\n",
              " 'functional',\n",
              " 'functional',\n",
              " 'functional',\n",
              " 'functional',\n",
              " 'functional',\n",
              " 'functional',\n",
              " 'functional',\n",
              " 'functional',\n",
              " 'functional',\n",
              " 'functional',\n",
              " 'functional',\n",
              " 'functional',\n",
              " 'functional',\n",
              " 'functional',\n",
              " 'functional',\n",
              " 'functional',\n",
              " 'functional',\n",
              " 'functional',\n",
              " 'functional',\n",
              " 'functional',\n",
              " 'functional',\n",
              " 'functional',\n",
              " 'functional',\n",
              " 'functional',\n",
              " 'functional',\n",
              " 'functional',\n",
              " 'functional',\n",
              " 'functional',\n",
              " 'functional',\n",
              " 'functional',\n",
              " 'functional',\n",
              " 'functional',\n",
              " 'functional',\n",
              " 'functional',\n",
              " 'functional',\n",
              " 'functional',\n",
              " 'functional',\n",
              " 'functional',\n",
              " 'functional',\n",
              " 'functional',\n",
              " 'functional',\n",
              " 'functional',\n",
              " 'functional',\n",
              " 'functional',\n",
              " 'functional',\n",
              " 'functional',\n",
              " 'functional',\n",
              " 'functional',\n",
              " 'functional',\n",
              " 'functional',\n",
              " 'functional',\n",
              " 'functional',\n",
              " 'functional',\n",
              " 'functional',\n",
              " 'functional',\n",
              " 'functional',\n",
              " 'functional',\n",
              " 'functional',\n",
              " 'functional',\n",
              " 'functional',\n",
              " 'functional',\n",
              " 'functional',\n",
              " 'functional',\n",
              " 'functional',\n",
              " 'functional',\n",
              " 'functional',\n",
              " 'functional',\n",
              " 'functional',\n",
              " 'functional',\n",
              " 'functional',\n",
              " 'functional',\n",
              " 'functional',\n",
              " 'functional',\n",
              " 'functional',\n",
              " 'functional',\n",
              " 'functional',\n",
              " 'functional',\n",
              " 'functional',\n",
              " 'functional',\n",
              " 'functional',\n",
              " 'functional',\n",
              " 'functional',\n",
              " 'functional',\n",
              " 'functional',\n",
              " 'functional',\n",
              " 'functional',\n",
              " 'functional',\n",
              " 'functional',\n",
              " 'functional',\n",
              " 'functional',\n",
              " 'functional',\n",
              " 'functional',\n",
              " 'functional',\n",
              " 'functional',\n",
              " 'functional',\n",
              " 'functional',\n",
              " 'functional',\n",
              " 'functional',\n",
              " 'functional',\n",
              " 'functional',\n",
              " 'functional',\n",
              " 'functional',\n",
              " 'functional',\n",
              " 'functional',\n",
              " 'functional',\n",
              " 'functional',\n",
              " 'functional',\n",
              " 'functional',\n",
              " 'functional',\n",
              " 'functional',\n",
              " 'functional',\n",
              " 'functional',\n",
              " 'functional',\n",
              " 'functional',\n",
              " 'functional',\n",
              " 'functional',\n",
              " 'functional',\n",
              " 'functional',\n",
              " 'functional',\n",
              " 'functional',\n",
              " 'functional',\n",
              " 'functional',\n",
              " 'functional',\n",
              " 'functional',\n",
              " 'functional',\n",
              " 'functional',\n",
              " 'functional',\n",
              " 'functional',\n",
              " 'functional',\n",
              " 'functional',\n",
              " 'functional',\n",
              " 'functional',\n",
              " 'functional',\n",
              " 'functional',\n",
              " 'functional',\n",
              " 'functional',\n",
              " 'functional',\n",
              " 'functional',\n",
              " 'functional',\n",
              " 'functional',\n",
              " 'functional',\n",
              " 'functional',\n",
              " 'functional',\n",
              " 'functional',\n",
              " 'functional',\n",
              " 'functional',\n",
              " 'functional',\n",
              " 'functional',\n",
              " 'functional',\n",
              " 'functional',\n",
              " 'functional',\n",
              " 'functional',\n",
              " 'functional',\n",
              " 'functional',\n",
              " 'functional',\n",
              " 'functional',\n",
              " 'functional',\n",
              " 'functional',\n",
              " 'functional',\n",
              " 'functional',\n",
              " 'functional',\n",
              " 'functional',\n",
              " 'functional',\n",
              " 'functional',\n",
              " 'functional',\n",
              " 'functional',\n",
              " 'functional',\n",
              " 'functional',\n",
              " 'functional',\n",
              " 'functional',\n",
              " 'functional',\n",
              " 'functional',\n",
              " 'functional',\n",
              " 'functional',\n",
              " 'functional',\n",
              " 'functional',\n",
              " 'functional',\n",
              " 'functional',\n",
              " 'functional',\n",
              " 'functional',\n",
              " 'functional',\n",
              " 'functional',\n",
              " 'functional',\n",
              " 'functional',\n",
              " 'functional',\n",
              " 'functional',\n",
              " 'functional',\n",
              " 'functional',\n",
              " 'functional',\n",
              " 'functional',\n",
              " 'functional',\n",
              " 'functional',\n",
              " 'functional',\n",
              " 'functional',\n",
              " 'functional',\n",
              " 'functional',\n",
              " 'functional',\n",
              " 'functional',\n",
              " 'functional',\n",
              " 'functional',\n",
              " 'functional',\n",
              " 'functional',\n",
              " 'functional',\n",
              " 'functional',\n",
              " 'functional',\n",
              " 'functional',\n",
              " 'functional',\n",
              " 'functional',\n",
              " 'functional',\n",
              " 'functional',\n",
              " 'functional',\n",
              " 'functional',\n",
              " 'functional',\n",
              " 'functional',\n",
              " 'functional',\n",
              " 'functional',\n",
              " 'functional',\n",
              " 'functional',\n",
              " 'functional',\n",
              " 'functional',\n",
              " 'functional',\n",
              " 'functional',\n",
              " 'functional',\n",
              " 'functional',\n",
              " 'functional',\n",
              " 'functional',\n",
              " 'functional',\n",
              " 'functional',\n",
              " 'functional',\n",
              " 'functional',\n",
              " 'functional',\n",
              " 'functional',\n",
              " 'functional',\n",
              " 'functional',\n",
              " 'functional',\n",
              " 'functional',\n",
              " 'functional',\n",
              " 'functional',\n",
              " 'functional',\n",
              " 'functional',\n",
              " 'functional',\n",
              " 'functional',\n",
              " 'functional',\n",
              " 'functional',\n",
              " 'functional',\n",
              " 'functional',\n",
              " 'functional',\n",
              " 'functional',\n",
              " 'functional',\n",
              " 'functional',\n",
              " 'functional',\n",
              " 'functional',\n",
              " 'functional',\n",
              " 'functional',\n",
              " 'functional',\n",
              " 'functional',\n",
              " 'functional',\n",
              " 'functional',\n",
              " 'functional',\n",
              " 'functional',\n",
              " 'functional',\n",
              " 'functional',\n",
              " 'functional',\n",
              " 'functional',\n",
              " 'functional',\n",
              " 'functional',\n",
              " 'functional',\n",
              " 'functional',\n",
              " 'functional',\n",
              " 'functional',\n",
              " 'functional',\n",
              " 'functional',\n",
              " 'functional',\n",
              " 'functional',\n",
              " 'functional',\n",
              " 'functional',\n",
              " 'functional',\n",
              " 'functional',\n",
              " 'functional',\n",
              " 'functional',\n",
              " 'functional',\n",
              " 'functional',\n",
              " 'functional',\n",
              " 'functional',\n",
              " 'functional',\n",
              " 'functional',\n",
              " 'functional',\n",
              " 'functional',\n",
              " 'functional',\n",
              " 'functional',\n",
              " 'functional',\n",
              " 'functional',\n",
              " 'functional',\n",
              " 'functional',\n",
              " 'functional',\n",
              " 'functional',\n",
              " 'functional',\n",
              " 'functional',\n",
              " 'functional',\n",
              " 'functional',\n",
              " 'functional',\n",
              " 'functional',\n",
              " 'functional',\n",
              " 'functional',\n",
              " 'functional',\n",
              " 'functional',\n",
              " 'functional',\n",
              " 'functional',\n",
              " 'functional',\n",
              " 'functional',\n",
              " 'functional',\n",
              " 'functional',\n",
              " 'functional',\n",
              " 'functional',\n",
              " 'functional',\n",
              " 'functional',\n",
              " 'functional',\n",
              " 'functional',\n",
              " 'functional',\n",
              " 'functional',\n",
              " 'functional',\n",
              " 'functional',\n",
              " 'functional',\n",
              " 'functional',\n",
              " 'functional',\n",
              " 'functional',\n",
              " 'functional',\n",
              " 'functional',\n",
              " 'functional',\n",
              " 'functional',\n",
              " 'functional',\n",
              " 'functional',\n",
              " 'functional',\n",
              " 'functional',\n",
              " 'functional',\n",
              " 'functional',\n",
              " 'functional',\n",
              " 'functional',\n",
              " 'functional',\n",
              " 'functional',\n",
              " 'functional',\n",
              " 'functional',\n",
              " 'functional',\n",
              " 'functional',\n",
              " 'functional',\n",
              " 'functional',\n",
              " 'functional',\n",
              " 'functional',\n",
              " 'functional',\n",
              " 'functional',\n",
              " 'functional',\n",
              " 'functional',\n",
              " 'functional',\n",
              " 'functional',\n",
              " 'functional',\n",
              " 'functional',\n",
              " 'functional',\n",
              " 'functional',\n",
              " 'functional',\n",
              " 'functional',\n",
              " 'functional',\n",
              " 'functional',\n",
              " 'functional',\n",
              " 'functional',\n",
              " 'functional',\n",
              " 'functional',\n",
              " 'functional',\n",
              " 'functional',\n",
              " 'functional',\n",
              " 'functional',\n",
              " 'functional',\n",
              " 'functional',\n",
              " 'functional',\n",
              " 'functional',\n",
              " 'functional',\n",
              " 'functional',\n",
              " 'functional',\n",
              " 'functional',\n",
              " 'functional',\n",
              " 'functional',\n",
              " 'functional',\n",
              " 'functional',\n",
              " 'functional',\n",
              " 'functional',\n",
              " 'functional',\n",
              " 'functional',\n",
              " 'functional',\n",
              " 'functional',\n",
              " 'functional',\n",
              " 'functional',\n",
              " 'functional',\n",
              " 'functional',\n",
              " 'functional',\n",
              " 'functional',\n",
              " 'functional',\n",
              " 'functional',\n",
              " 'functional',\n",
              " 'functional',\n",
              " 'functional',\n",
              " 'functional',\n",
              " 'functional',\n",
              " 'functional',\n",
              " 'functional',\n",
              " 'functional',\n",
              " 'functional',\n",
              " 'functional',\n",
              " 'functional',\n",
              " 'functional',\n",
              " 'functional',\n",
              " 'functional',\n",
              " 'functional',\n",
              " 'functional',\n",
              " 'functional',\n",
              " 'functional',\n",
              " 'functional',\n",
              " 'functional',\n",
              " 'functional',\n",
              " 'functional',\n",
              " 'functional',\n",
              " 'functional',\n",
              " 'functional',\n",
              " 'functional',\n",
              " 'functional',\n",
              " 'functional',\n",
              " 'functional',\n",
              " 'functional',\n",
              " 'functional',\n",
              " 'functional',\n",
              " 'functional',\n",
              " 'functional',\n",
              " 'functional',\n",
              " 'functional',\n",
              " 'functional',\n",
              " 'functional',\n",
              " 'functional',\n",
              " 'functional',\n",
              " 'functional',\n",
              " 'functional',\n",
              " 'functional',\n",
              " 'functional',\n",
              " 'functional',\n",
              " 'functional',\n",
              " 'functional',\n",
              " 'functional',\n",
              " 'functional',\n",
              " 'functional',\n",
              " 'functional',\n",
              " 'functional',\n",
              " 'functional',\n",
              " 'functional',\n",
              " 'functional',\n",
              " 'functional',\n",
              " 'functional',\n",
              " 'functional',\n",
              " 'functional',\n",
              " 'functional',\n",
              " 'functional',\n",
              " 'functional',\n",
              " 'functional',\n",
              " 'functional',\n",
              " 'functional',\n",
              " 'functional',\n",
              " 'functional',\n",
              " 'functional',\n",
              " 'functional',\n",
              " 'functional',\n",
              " 'functional',\n",
              " 'functional',\n",
              " 'functional',\n",
              " 'functional',\n",
              " 'functional',\n",
              " 'functional',\n",
              " 'functional',\n",
              " 'functional',\n",
              " 'functional',\n",
              " 'functional',\n",
              " 'functional',\n",
              " 'functional',\n",
              " 'functional',\n",
              " 'functional',\n",
              " 'functional',\n",
              " 'functional',\n",
              " 'functional',\n",
              " 'functional',\n",
              " 'functional',\n",
              " 'functional',\n",
              " 'functional',\n",
              " 'functional',\n",
              " 'functional',\n",
              " 'functional',\n",
              " 'functional',\n",
              " 'functional',\n",
              " 'functional',\n",
              " 'functional',\n",
              " 'functional',\n",
              " 'functional',\n",
              " 'functional',\n",
              " 'functional',\n",
              " 'functional',\n",
              " 'functional',\n",
              " 'functional',\n",
              " 'functional',\n",
              " 'functional',\n",
              " 'functional',\n",
              " 'functional',\n",
              " 'functional',\n",
              " 'functional',\n",
              " 'functional',\n",
              " 'functional',\n",
              " 'functional',\n",
              " 'functional',\n",
              " 'functional',\n",
              " 'functional',\n",
              " 'functional',\n",
              " 'functional',\n",
              " 'functional',\n",
              " 'functional',\n",
              " 'functional',\n",
              " 'functional',\n",
              " 'functional',\n",
              " 'functional',\n",
              " 'functional',\n",
              " 'functional',\n",
              " 'functional',\n",
              " 'functional',\n",
              " 'functional',\n",
              " 'functional',\n",
              " 'functional',\n",
              " 'functional',\n",
              " 'functional',\n",
              " 'functional',\n",
              " 'functional',\n",
              " 'functional',\n",
              " 'functional',\n",
              " 'functional',\n",
              " 'functional',\n",
              " 'functional',\n",
              " 'functional',\n",
              " 'functional',\n",
              " 'functional',\n",
              " 'functional',\n",
              " 'functional',\n",
              " 'functional',\n",
              " 'functional',\n",
              " 'functional',\n",
              " 'functional',\n",
              " 'functional',\n",
              " 'functional',\n",
              " 'functional',\n",
              " 'functional',\n",
              " 'functional',\n",
              " 'functional',\n",
              " 'functional',\n",
              " 'functional',\n",
              " 'functional',\n",
              " 'functional',\n",
              " 'functional',\n",
              " 'functional',\n",
              " 'functional',\n",
              " 'functional',\n",
              " 'functional',\n",
              " 'functional',\n",
              " 'functional',\n",
              " 'functional',\n",
              " 'functional',\n",
              " 'functional',\n",
              " 'functional',\n",
              " 'functional',\n",
              " 'functional',\n",
              " 'functional',\n",
              " 'functional',\n",
              " 'functional',\n",
              " 'functional',\n",
              " 'functional',\n",
              " 'functional',\n",
              " 'functional',\n",
              " 'functional',\n",
              " 'functional',\n",
              " 'functional',\n",
              " 'functional',\n",
              " 'functional',\n",
              " 'functional',\n",
              " 'functional',\n",
              " 'functional',\n",
              " 'functional',\n",
              " 'functional',\n",
              " 'functional',\n",
              " 'functional',\n",
              " 'functional',\n",
              " 'functional',\n",
              " 'functional',\n",
              " 'functional',\n",
              " 'functional',\n",
              " 'functional',\n",
              " 'functional',\n",
              " 'functional',\n",
              " 'functional',\n",
              " 'functional',\n",
              " 'functional',\n",
              " 'functional',\n",
              " 'functional',\n",
              " 'functional',\n",
              " 'functional',\n",
              " 'functional',\n",
              " 'functional',\n",
              " 'functional',\n",
              " 'functional',\n",
              " 'functional',\n",
              " 'functional',\n",
              " 'functional',\n",
              " 'functional',\n",
              " 'functional',\n",
              " 'functional',\n",
              " 'functional',\n",
              " 'functional',\n",
              " 'functional',\n",
              " 'functional',\n",
              " 'functional',\n",
              " 'functional',\n",
              " 'functional',\n",
              " 'functional',\n",
              " 'functional',\n",
              " 'functional',\n",
              " 'functional',\n",
              " 'functional',\n",
              " 'functional',\n",
              " 'functional',\n",
              " 'functional',\n",
              " 'functional',\n",
              " 'functional',\n",
              " 'functional',\n",
              " 'functional',\n",
              " 'functional',\n",
              " 'functional',\n",
              " 'functional',\n",
              " 'functional',\n",
              " 'functional',\n",
              " 'functional',\n",
              " 'functional',\n",
              " 'functional',\n",
              " 'functional',\n",
              " 'functional',\n",
              " 'functional',\n",
              " 'functional',\n",
              " 'functional',\n",
              " 'functional',\n",
              " 'functional',\n",
              " 'functional',\n",
              " 'functional',\n",
              " 'functional',\n",
              " 'functional',\n",
              " 'functional',\n",
              " 'functional',\n",
              " 'functional',\n",
              " 'functional',\n",
              " 'functional',\n",
              " 'functional',\n",
              " 'functional',\n",
              " 'functional',\n",
              " 'functional',\n",
              " 'functional',\n",
              " 'functional',\n",
              " 'functional',\n",
              " 'functional',\n",
              " 'functional',\n",
              " 'functional',\n",
              " 'functional',\n",
              " 'functional',\n",
              " 'functional',\n",
              " 'functional',\n",
              " 'functional',\n",
              " 'functional',\n",
              " 'functional',\n",
              " 'functional',\n",
              " 'functional',\n",
              " 'functional',\n",
              " 'functional',\n",
              " 'functional',\n",
              " 'functional',\n",
              " 'functional',\n",
              " 'functional',\n",
              " 'functional',\n",
              " 'functional',\n",
              " 'functional',\n",
              " 'functional',\n",
              " 'functional',\n",
              " 'functional',\n",
              " 'functional',\n",
              " 'functional',\n",
              " 'functional',\n",
              " 'functional',\n",
              " 'functional',\n",
              " 'functional',\n",
              " 'functional',\n",
              " 'functional',\n",
              " 'functional',\n",
              " 'functional',\n",
              " 'functional',\n",
              " 'functional',\n",
              " 'functional',\n",
              " 'functional',\n",
              " 'functional',\n",
              " 'functional',\n",
              " 'functional',\n",
              " 'functional',\n",
              " 'functional',\n",
              " 'functional',\n",
              " 'functional',\n",
              " 'functional',\n",
              " 'functional',\n",
              " 'functional',\n",
              " 'functional',\n",
              " 'functional',\n",
              " 'functional',\n",
              " 'functional',\n",
              " 'functional',\n",
              " 'functional',\n",
              " 'functional',\n",
              " 'functional',\n",
              " 'functional',\n",
              " 'functional',\n",
              " 'functional',\n",
              " 'functional',\n",
              " 'functional',\n",
              " 'functional',\n",
              " 'functional',\n",
              " 'functional',\n",
              " 'functional',\n",
              " 'functional',\n",
              " 'functional',\n",
              " 'functional',\n",
              " 'functional',\n",
              " 'functional',\n",
              " 'functional',\n",
              " 'functional',\n",
              " 'functional',\n",
              " 'functional',\n",
              " 'functional',\n",
              " 'functional',\n",
              " 'functional',\n",
              " 'functional',\n",
              " 'functional',\n",
              " 'functional',\n",
              " 'functional',\n",
              " 'functional',\n",
              " 'functional',\n",
              " 'functional',\n",
              " 'functional',\n",
              " 'functional',\n",
              " 'functional',\n",
              " 'functional',\n",
              " 'functional',\n",
              " 'functional',\n",
              " 'functional',\n",
              " 'functional',\n",
              " 'functional',\n",
              " 'functional',\n",
              " 'functional',\n",
              " 'functional',\n",
              " 'functional',\n",
              " 'functional',\n",
              " 'functional',\n",
              " 'functional',\n",
              " 'functional',\n",
              " 'functional',\n",
              " 'functional',\n",
              " 'functional',\n",
              " 'functional',\n",
              " 'functional',\n",
              " 'functional',\n",
              " 'functional',\n",
              " 'functional',\n",
              " 'functional',\n",
              " 'functional',\n",
              " 'functional',\n",
              " 'functional',\n",
              " 'functional',\n",
              " 'functional',\n",
              " 'functional',\n",
              " 'functional',\n",
              " 'functional',\n",
              " 'functional',\n",
              " 'functional',\n",
              " 'functional',\n",
              " 'functional',\n",
              " 'functional',\n",
              " 'functional',\n",
              " 'functional',\n",
              " 'functional',\n",
              " 'functional',\n",
              " 'functional',\n",
              " 'functional',\n",
              " 'functional',\n",
              " 'functional',\n",
              " 'functional',\n",
              " 'functional',\n",
              " 'functional',\n",
              " 'functional',\n",
              " 'functional',\n",
              " 'functional',\n",
              " 'functional',\n",
              " 'functional',\n",
              " 'functional',\n",
              " 'functional',\n",
              " 'functional',\n",
              " 'functional',\n",
              " 'functional',\n",
              " 'functional',\n",
              " 'functional',\n",
              " 'functional',\n",
              " 'functional',\n",
              " 'functional',\n",
              " 'functional',\n",
              " 'functional',\n",
              " 'functional',\n",
              " 'functional',\n",
              " 'functional',\n",
              " 'functional',\n",
              " 'functional',\n",
              " 'functional',\n",
              " 'functional',\n",
              " 'functional',\n",
              " 'functional',\n",
              " 'functional',\n",
              " 'functional',\n",
              " 'functional',\n",
              " 'functional',\n",
              " 'functional',\n",
              " 'functional',\n",
              " 'functional',\n",
              " 'functional',\n",
              " 'functional',\n",
              " 'functional',\n",
              " 'functional',\n",
              " 'functional',\n",
              " 'functional',\n",
              " 'functional',\n",
              " 'functional',\n",
              " 'functional',\n",
              " 'functional',\n",
              " 'functional',\n",
              " 'functional',\n",
              " 'functional',\n",
              " 'functional',\n",
              " 'functional',\n",
              " 'functional',\n",
              " 'functional',\n",
              " 'functional',\n",
              " 'functional',\n",
              " 'functional',\n",
              " 'functional',\n",
              " 'functional',\n",
              " 'functional',\n",
              " 'functional',\n",
              " 'functional',\n",
              " 'functional',\n",
              " 'functional',\n",
              " 'functional',\n",
              " 'functional',\n",
              " 'functional',\n",
              " 'functional',\n",
              " 'functional',\n",
              " 'functional',\n",
              " 'functional',\n",
              " 'functional',\n",
              " 'functional',\n",
              " 'functional',\n",
              " 'functional',\n",
              " 'functional',\n",
              " 'functional',\n",
              " 'functional',\n",
              " 'functional',\n",
              " 'functional',\n",
              " 'functional',\n",
              " 'functional',\n",
              " 'functional',\n",
              " 'functional',\n",
              " 'functional',\n",
              " 'functional',\n",
              " 'functional',\n",
              " 'functional',\n",
              " 'functional',\n",
              " 'functional',\n",
              " 'functional',\n",
              " 'functional',\n",
              " 'functional',\n",
              " 'functional',\n",
              " 'functional',\n",
              " 'functional',\n",
              " 'functional',\n",
              " 'functional',\n",
              " 'functional',\n",
              " 'functional',\n",
              " 'functional',\n",
              " 'functional',\n",
              " 'functional',\n",
              " 'functional',\n",
              " 'functional',\n",
              " 'functional',\n",
              " 'functional',\n",
              " 'functional',\n",
              " 'functional',\n",
              " 'functional',\n",
              " 'functional',\n",
              " 'functional',\n",
              " 'functional',\n",
              " 'functional',\n",
              " 'functional',\n",
              " 'functional',\n",
              " 'functional',\n",
              " 'functional',\n",
              " 'functional',\n",
              " 'functional',\n",
              " 'functional',\n",
              " 'functional',\n",
              " ...]"
            ]
          },
          "metadata": {
            "tags": []
          },
          "execution_count": 118
        }
      ]
    },
    {
      "cell_type": "code",
      "metadata": {
        "id": "0D7l2Cowsm_1",
        "colab_type": "code",
        "outputId": "d2487cf2-3569-4aa1-9f50-3dc647c0facc",
        "colab": {
          "base_uri": "https://localhost:8080/",
          "height": 34
        }
      },
      "source": [
        "accuracy_score(y_train, y_pred)"
      ],
      "execution_count": 0,
      "outputs": [
        {
          "output_type": "execute_result",
          "data": {
            "text/plain": [
              "0.542334455667789"
            ]
          },
          "metadata": {
            "tags": []
          },
          "execution_count": 119
        }
      ]
    },
    {
      "cell_type": "code",
      "metadata": {
        "id": "WcBHH4-bswcV",
        "colab_type": "code",
        "outputId": "1e2ad279-bf81-4a1f-9180-260dfa49c349",
        "colab": {
          "base_uri": "https://localhost:8080/",
          "height": 34
        }
      },
      "source": [
        "y_val = val[target]\n",
        "y_pred = [majority]*len(y_val)\n",
        "accuracy_score(y_val, y_pred)"
      ],
      "execution_count": 0,
      "outputs": [
        {
          "output_type": "execute_result",
          "data": {
            "text/plain": [
              "0.5453198653198653"
            ]
          },
          "metadata": {
            "tags": []
          },
          "execution_count": 120
        }
      ]
    },
    {
      "cell_type": "markdown",
      "metadata": {
        "id": "1DRPynIa1aaY",
        "colab_type": "text"
      },
      "source": [
        "Better but not much :("
      ]
    },
    {
      "cell_type": "markdown",
      "metadata": {
        "id": "PMj6VN0geTBv",
        "colab_type": "text"
      },
      "source": [
        "###3. Data Exploration"
      ]
    },
    {
      "cell_type": "code",
      "metadata": {
        "id": "MVGPZdTnkGrl",
        "colab_type": "code",
        "outputId": "1647af47-1144-4b52-a805-2e16f8a47c08",
        "colab": {
          "base_uri": "https://localhost:8080/",
          "height": 396
        }
      },
      "source": [
        "train.describe().T"
      ],
      "execution_count": 0,
      "outputs": [
        {
          "output_type": "execute_result",
          "data": {
            "text/html": [
              "<div>\n",
              "<style scoped>\n",
              "    .dataframe tbody tr th:only-of-type {\n",
              "        vertical-align: middle;\n",
              "    }\n",
              "\n",
              "    .dataframe tbody tr th {\n",
              "        vertical-align: top;\n",
              "    }\n",
              "\n",
              "    .dataframe thead th {\n",
              "        text-align: right;\n",
              "    }\n",
              "</style>\n",
              "<table border=\"1\" class=\"dataframe\">\n",
              "  <thead>\n",
              "    <tr style=\"text-align: right;\">\n",
              "      <th></th>\n",
              "      <th>count</th>\n",
              "      <th>mean</th>\n",
              "      <th>std</th>\n",
              "      <th>min</th>\n",
              "      <th>25%</th>\n",
              "      <th>50%</th>\n",
              "      <th>75%</th>\n",
              "      <th>max</th>\n",
              "    </tr>\n",
              "  </thead>\n",
              "  <tbody>\n",
              "    <tr>\n",
              "      <th>id</th>\n",
              "      <td>44550.0</td>\n",
              "      <td>37087.547744</td>\n",
              "      <td>21436.367755</td>\n",
              "      <td>0.00000</td>\n",
              "      <td>18555.250000</td>\n",
              "      <td>36992.500000</td>\n",
              "      <td>55631.500000</td>\n",
              "      <td>7.424700e+04</td>\n",
              "    </tr>\n",
              "    <tr>\n",
              "      <th>amount_tsh</th>\n",
              "      <td>44550.0</td>\n",
              "      <td>326.361114</td>\n",
              "      <td>3291.640548</td>\n",
              "      <td>0.00000</td>\n",
              "      <td>0.000000</td>\n",
              "      <td>0.000000</td>\n",
              "      <td>20.000000</td>\n",
              "      <td>3.500000e+05</td>\n",
              "    </tr>\n",
              "    <tr>\n",
              "      <th>gps_height</th>\n",
              "      <td>44550.0</td>\n",
              "      <td>668.105926</td>\n",
              "      <td>693.033591</td>\n",
              "      <td>-63.00000</td>\n",
              "      <td>0.000000</td>\n",
              "      <td>369.000000</td>\n",
              "      <td>1320.000000</td>\n",
              "      <td>2.770000e+03</td>\n",
              "    </tr>\n",
              "    <tr>\n",
              "      <th>longitude</th>\n",
              "      <td>44550.0</td>\n",
              "      <td>34.098625</td>\n",
              "      <td>6.530153</td>\n",
              "      <td>0.00000</td>\n",
              "      <td>33.087274</td>\n",
              "      <td>34.914362</td>\n",
              "      <td>37.181498</td>\n",
              "      <td>4.034519e+01</td>\n",
              "    </tr>\n",
              "    <tr>\n",
              "      <th>latitude</th>\n",
              "      <td>44550.0</td>\n",
              "      <td>-5.707581</td>\n",
              "      <td>2.941883</td>\n",
              "      <td>-11.64944</td>\n",
              "      <td>-8.529283</td>\n",
              "      <td>-5.022018</td>\n",
              "      <td>-3.327652</td>\n",
              "      <td>-2.000000e-08</td>\n",
              "    </tr>\n",
              "    <tr>\n",
              "      <th>num_private</th>\n",
              "      <td>44550.0</td>\n",
              "      <td>0.515376</td>\n",
              "      <td>13.633690</td>\n",
              "      <td>0.00000</td>\n",
              "      <td>0.000000</td>\n",
              "      <td>0.000000</td>\n",
              "      <td>0.000000</td>\n",
              "      <td>1.776000e+03</td>\n",
              "    </tr>\n",
              "    <tr>\n",
              "      <th>region_code</th>\n",
              "      <td>44550.0</td>\n",
              "      <td>15.366846</td>\n",
              "      <td>17.696176</td>\n",
              "      <td>1.00000</td>\n",
              "      <td>5.000000</td>\n",
              "      <td>12.000000</td>\n",
              "      <td>17.000000</td>\n",
              "      <td>9.900000e+01</td>\n",
              "    </tr>\n",
              "    <tr>\n",
              "      <th>district_code</th>\n",
              "      <td>44550.0</td>\n",
              "      <td>5.651291</td>\n",
              "      <td>9.690341</td>\n",
              "      <td>0.00000</td>\n",
              "      <td>2.000000</td>\n",
              "      <td>3.000000</td>\n",
              "      <td>5.000000</td>\n",
              "      <td>8.000000e+01</td>\n",
              "    </tr>\n",
              "    <tr>\n",
              "      <th>population</th>\n",
              "      <td>44550.0</td>\n",
              "      <td>178.793333</td>\n",
              "      <td>471.050949</td>\n",
              "      <td>0.00000</td>\n",
              "      <td>0.000000</td>\n",
              "      <td>25.000000</td>\n",
              "      <td>211.750000</td>\n",
              "      <td>3.050000e+04</td>\n",
              "    </tr>\n",
              "    <tr>\n",
              "      <th>construction_year</th>\n",
              "      <td>44550.0</td>\n",
              "      <td>1303.746083</td>\n",
              "      <td>950.647840</td>\n",
              "      <td>0.00000</td>\n",
              "      <td>0.000000</td>\n",
              "      <td>1986.000000</td>\n",
              "      <td>2004.000000</td>\n",
              "      <td>2.013000e+03</td>\n",
              "    </tr>\n",
              "  </tbody>\n",
              "</table>\n",
              "</div>"
            ],
            "text/plain": [
              "                     count          mean  ...           75%           max\n",
              "id                 44550.0  37087.547744  ...  55631.500000  7.424700e+04\n",
              "amount_tsh         44550.0    326.361114  ...     20.000000  3.500000e+05\n",
              "gps_height         44550.0    668.105926  ...   1320.000000  2.770000e+03\n",
              "longitude          44550.0     34.098625  ...     37.181498  4.034519e+01\n",
              "latitude           44550.0     -5.707581  ...     -3.327652 -2.000000e-08\n",
              "num_private        44550.0      0.515376  ...      0.000000  1.776000e+03\n",
              "region_code        44550.0     15.366846  ...     17.000000  9.900000e+01\n",
              "district_code      44550.0      5.651291  ...      5.000000  8.000000e+01\n",
              "population         44550.0    178.793333  ...    211.750000  3.050000e+04\n",
              "construction_year  44550.0   1303.746083  ...   2004.000000  2.013000e+03\n",
              "\n",
              "[10 rows x 8 columns]"
            ]
          },
          "metadata": {
            "tags": []
          },
          "execution_count": 121
        }
      ]
    },
    {
      "cell_type": "markdown",
      "metadata": {
        "id": "nTz_Esdq8nQm",
        "colab_type": "text"
      },
      "source": [
        "#####Heat map of correlation"
      ]
    },
    {
      "cell_type": "markdown",
      "metadata": {
        "id": "r71FcGavsRrk",
        "colab_type": "text"
      },
      "source": [
        "#####Creating a functional category to have something to compare the other features to. "
      ]
    },
    {
      "cell_type": "code",
      "metadata": {
        "id": "9Oaw3I2qXV0y",
        "colab_type": "code",
        "outputId": "5451065b-f561-42be-cf89-e49508067ae2",
        "colab": {
          "base_uri": "https://localhost:8080/",
          "height": 173
        }
      },
      "source": [
        "train['functional'] = (train['status_group'] == 'functional').astype(int)"
      ],
      "execution_count": 0,
      "outputs": [
        {
          "output_type": "stream",
          "text": [
            "/usr/local/lib/python3.6/dist-packages/ipykernel_launcher.py:1: SettingWithCopyWarning:\n",
            "\n",
            "\n",
            "A value is trying to be set on a copy of a slice from a DataFrame.\n",
            "Try using .loc[row_indexer,col_indexer] = value instead\n",
            "\n",
            "See the caveats in the documentation: http://pandas.pydata.org/pandas-docs/stable/user_guide/indexing.html#returning-a-view-versus-a-copy\n",
            "\n"
          ],
          "name": "stderr"
        }
      ]
    },
    {
      "cell_type": "code",
      "metadata": {
        "id": "0ar1_8HY9Sw_",
        "colab_type": "code",
        "outputId": "8e4dcbf2-c1b4-42d3-f28a-08e4faa70a48",
        "colab": {
          "base_uri": "https://localhost:8080/",
          "height": 410
        }
      },
      "source": [
        "train.corr()"
      ],
      "execution_count": 0,
      "outputs": [
        {
          "output_type": "execute_result",
          "data": {
            "text/html": [
              "<div>\n",
              "<style scoped>\n",
              "    .dataframe tbody tr th:only-of-type {\n",
              "        vertical-align: middle;\n",
              "    }\n",
              "\n",
              "    .dataframe tbody tr th {\n",
              "        vertical-align: top;\n",
              "    }\n",
              "\n",
              "    .dataframe thead th {\n",
              "        text-align: right;\n",
              "    }\n",
              "</style>\n",
              "<table border=\"1\" class=\"dataframe\">\n",
              "  <thead>\n",
              "    <tr style=\"text-align: right;\">\n",
              "      <th></th>\n",
              "      <th>id</th>\n",
              "      <th>amount_tsh</th>\n",
              "      <th>gps_height</th>\n",
              "      <th>longitude</th>\n",
              "      <th>latitude</th>\n",
              "      <th>num_private</th>\n",
              "      <th>region_code</th>\n",
              "      <th>district_code</th>\n",
              "      <th>population</th>\n",
              "      <th>construction_year</th>\n",
              "      <th>functional</th>\n",
              "    </tr>\n",
              "  </thead>\n",
              "  <tbody>\n",
              "    <tr>\n",
              "      <th>id</th>\n",
              "      <td>1.000000</td>\n",
              "      <td>-0.006268</td>\n",
              "      <td>-0.006574</td>\n",
              "      <td>-0.002773</td>\n",
              "      <td>0.001188</td>\n",
              "      <td>-0.003426</td>\n",
              "      <td>0.002337</td>\n",
              "      <td>0.000665</td>\n",
              "      <td>-0.004197</td>\n",
              "      <td>-0.003763</td>\n",
              "      <td>-0.005291</td>\n",
              "    </tr>\n",
              "    <tr>\n",
              "      <th>amount_tsh</th>\n",
              "      <td>-0.006268</td>\n",
              "      <td>1.000000</td>\n",
              "      <td>0.071705</td>\n",
              "      <td>0.020448</td>\n",
              "      <td>-0.048519</td>\n",
              "      <td>0.003705</td>\n",
              "      <td>-0.025364</td>\n",
              "      <td>-0.022188</td>\n",
              "      <td>0.015413</td>\n",
              "      <td>0.063068</td>\n",
              "      <td>0.048601</td>\n",
              "    </tr>\n",
              "    <tr>\n",
              "      <th>gps_height</th>\n",
              "      <td>-0.006574</td>\n",
              "      <td>0.071705</td>\n",
              "      <td>1.000000</td>\n",
              "      <td>0.145863</td>\n",
              "      <td>-0.035940</td>\n",
              "      <td>0.007725</td>\n",
              "      <td>-0.184572</td>\n",
              "      <td>-0.172556</td>\n",
              "      <td>0.134991</td>\n",
              "      <td>0.655597</td>\n",
              "      <td>0.115510</td>\n",
              "    </tr>\n",
              "    <tr>\n",
              "      <th>longitude</th>\n",
              "      <td>-0.002773</td>\n",
              "      <td>0.020448</td>\n",
              "      <td>0.145863</td>\n",
              "      <td>1.000000</td>\n",
              "      <td>-0.425408</td>\n",
              "      <td>0.023121</td>\n",
              "      <td>0.037655</td>\n",
              "      <td>0.153283</td>\n",
              "      <td>0.086403</td>\n",
              "      <td>0.397087</td>\n",
              "      <td>0.030059</td>\n",
              "    </tr>\n",
              "    <tr>\n",
              "      <th>latitude</th>\n",
              "      <td>0.001188</td>\n",
              "      <td>-0.048519</td>\n",
              "      <td>-0.035940</td>\n",
              "      <td>-0.425408</td>\n",
              "      <td>1.000000</td>\n",
              "      <td>0.009563</td>\n",
              "      <td>-0.224758</td>\n",
              "      <td>-0.204002</td>\n",
              "      <td>-0.022094</td>\n",
              "      <td>-0.247484</td>\n",
              "      <td>0.002754</td>\n",
              "    </tr>\n",
              "    <tr>\n",
              "      <th>num_private</th>\n",
              "      <td>-0.003426</td>\n",
              "      <td>0.003705</td>\n",
              "      <td>0.007725</td>\n",
              "      <td>0.023121</td>\n",
              "      <td>0.009563</td>\n",
              "      <td>1.000000</td>\n",
              "      <td>-0.022961</td>\n",
              "      <td>-0.005821</td>\n",
              "      <td>0.004107</td>\n",
              "      <td>0.025855</td>\n",
              "      <td>0.007191</td>\n",
              "    </tr>\n",
              "    <tr>\n",
              "      <th>region_code</th>\n",
              "      <td>0.002337</td>\n",
              "      <td>-0.025364</td>\n",
              "      <td>-0.184572</td>\n",
              "      <td>0.037655</td>\n",
              "      <td>-0.224758</td>\n",
              "      <td>-0.022961</td>\n",
              "      <td>1.000000</td>\n",
              "      <td>0.679010</td>\n",
              "      <td>0.092005</td>\n",
              "      <td>0.034776</td>\n",
              "      <td>-0.102557</td>\n",
              "    </tr>\n",
              "    <tr>\n",
              "      <th>district_code</th>\n",
              "      <td>0.000665</td>\n",
              "      <td>-0.022188</td>\n",
              "      <td>-0.172556</td>\n",
              "      <td>0.153283</td>\n",
              "      <td>-0.204002</td>\n",
              "      <td>-0.005821</td>\n",
              "      <td>0.679010</td>\n",
              "      <td>1.000000</td>\n",
              "      <td>0.057128</td>\n",
              "      <td>0.051090</td>\n",
              "      <td>-0.054617</td>\n",
              "    </tr>\n",
              "    <tr>\n",
              "      <th>population</th>\n",
              "      <td>-0.004197</td>\n",
              "      <td>0.015413</td>\n",
              "      <td>0.134991</td>\n",
              "      <td>0.086403</td>\n",
              "      <td>-0.022094</td>\n",
              "      <td>0.004107</td>\n",
              "      <td>0.092005</td>\n",
              "      <td>0.057128</td>\n",
              "      <td>1.000000</td>\n",
              "      <td>0.258460</td>\n",
              "      <td>0.014925</td>\n",
              "    </tr>\n",
              "    <tr>\n",
              "      <th>construction_year</th>\n",
              "      <td>-0.003763</td>\n",
              "      <td>0.063068</td>\n",
              "      <td>0.655597</td>\n",
              "      <td>0.397087</td>\n",
              "      <td>-0.247484</td>\n",
              "      <td>0.025855</td>\n",
              "      <td>0.034776</td>\n",
              "      <td>0.051090</td>\n",
              "      <td>0.258460</td>\n",
              "      <td>1.000000</td>\n",
              "      <td>0.052543</td>\n",
              "    </tr>\n",
              "    <tr>\n",
              "      <th>functional</th>\n",
              "      <td>-0.005291</td>\n",
              "      <td>0.048601</td>\n",
              "      <td>0.115510</td>\n",
              "      <td>0.030059</td>\n",
              "      <td>0.002754</td>\n",
              "      <td>0.007191</td>\n",
              "      <td>-0.102557</td>\n",
              "      <td>-0.054617</td>\n",
              "      <td>0.014925</td>\n",
              "      <td>0.052543</td>\n",
              "      <td>1.000000</td>\n",
              "    </tr>\n",
              "  </tbody>\n",
              "</table>\n",
              "</div>"
            ],
            "text/plain": [
              "                         id  amount_tsh  ...  construction_year  functional\n",
              "id                 1.000000   -0.006268  ...          -0.003763   -0.005291\n",
              "amount_tsh        -0.006268    1.000000  ...           0.063068    0.048601\n",
              "gps_height        -0.006574    0.071705  ...           0.655597    0.115510\n",
              "longitude         -0.002773    0.020448  ...           0.397087    0.030059\n",
              "latitude           0.001188   -0.048519  ...          -0.247484    0.002754\n",
              "num_private       -0.003426    0.003705  ...           0.025855    0.007191\n",
              "region_code        0.002337   -0.025364  ...           0.034776   -0.102557\n",
              "district_code      0.000665   -0.022188  ...           0.051090   -0.054617\n",
              "population        -0.004197    0.015413  ...           0.258460    0.014925\n",
              "construction_year -0.003763    0.063068  ...           1.000000    0.052543\n",
              "functional        -0.005291    0.048601  ...           0.052543    1.000000\n",
              "\n",
              "[11 rows x 11 columns]"
            ]
          },
          "metadata": {
            "tags": []
          },
          "execution_count": 123
        }
      ]
    },
    {
      "cell_type": "code",
      "metadata": {
        "id": "G8b3xoq381F9",
        "colab_type": "code",
        "outputId": "9ebb5d75-ea55-448f-d159-9b0542cae53c",
        "colab": {
          "base_uri": "https://localhost:8080/",
          "height": 675
        }
      },
      "source": [
        "plt.figure(figsize=(12,10))\n",
        "sns.heatmap(data = train.corr(), annot=True)\n",
        "\n",
        "#https://github.com/mwaskom/seaborn/issues/1773\n",
        "# fix for mpl bug that cuts off top/bottom of seaborn viz\n",
        "b, t = plt.ylim() # discover the values for bottom and top\n",
        "b += 0.5 # Add 0.5 to the bottom\n",
        "t -= 0.5 # Subtract 0.5 from the top\n",
        "plt.ylim(b, t) # update the ylim(bottom, top) values\n",
        "plt.show();"
      ],
      "execution_count": 0,
      "outputs": [
        {
          "output_type": "display_data",
          "data": {
            "image/png": "[encoded data removed]",
            "text/plain": [
              "<Figure size 864x720 with 2 Axes>"
            ]
          },
          "metadata": {
            "tags": []
          }
        }
      ]
    },
    {
      "cell_type": "markdown",
      "metadata": {
        "id": "OTzzC-uS207s",
        "colab_type": "text"
      },
      "source": [
        "#####Looking at categorical features to encode"
      ]
    },
    {
      "cell_type": "code",
      "metadata": {
        "id": "8CBhErH7kNIc",
        "colab_type": "code",
        "outputId": "297cfa61-df74-43a6-db11-01e9271f5470",
        "colab": {
          "base_uri": "https://localhost:8080/",
          "height": 1000
        }
      },
      "source": [
        "#Can sort by number of unique values, this way it'll be easier to decide which features to onehotencode\n",
        "train.describe(exclude='number').T.sort_values(by='unique')"
      ],
      "execution_count": 0,
      "outputs": [
        {
          "output_type": "execute_result",
          "data": {
            "text/html": [
              "<div>\n",
              "<style scoped>\n",
              "    .dataframe tbody tr th:only-of-type {\n",
              "        vertical-align: middle;\n",
              "    }\n",
              "\n",
              "    .dataframe tbody tr th {\n",
              "        vertical-align: top;\n",
              "    }\n",
              "\n",
              "    .dataframe thead th {\n",
              "        text-align: right;\n",
              "    }\n",
              "</style>\n",
              "<table border=\"1\" class=\"dataframe\">\n",
              "  <thead>\n",
              "    <tr style=\"text-align: right;\">\n",
              "      <th></th>\n",
              "      <th>count</th>\n",
              "      <th>unique</th>\n",
              "      <th>top</th>\n",
              "      <th>freq</th>\n",
              "    </tr>\n",
              "  </thead>\n",
              "  <tbody>\n",
              "    <tr>\n",
              "      <th>recorded_by</th>\n",
              "      <td>44550</td>\n",
              "      <td>1</td>\n",
              "      <td>GeoData Consultants Ltd</td>\n",
              "      <td>44550</td>\n",
              "    </tr>\n",
              "    <tr>\n",
              "      <th>public_meeting</th>\n",
              "      <td>42025</td>\n",
              "      <td>2</td>\n",
              "      <td>True</td>\n",
              "      <td>38180</td>\n",
              "    </tr>\n",
              "    <tr>\n",
              "      <th>permit</th>\n",
              "      <td>42265</td>\n",
              "      <td>2</td>\n",
              "      <td>True</td>\n",
              "      <td>29078</td>\n",
              "    </tr>\n",
              "    <tr>\n",
              "      <th>status_group</th>\n",
              "      <td>44550</td>\n",
              "      <td>3</td>\n",
              "      <td>functional</td>\n",
              "      <td>24161</td>\n",
              "    </tr>\n",
              "    <tr>\n",
              "      <th>source_class</th>\n",
              "      <td>44550</td>\n",
              "      <td>3</td>\n",
              "      <td>groundwater</td>\n",
              "      <td>34358</td>\n",
              "    </tr>\n",
              "    <tr>\n",
              "      <th>quantity_group</th>\n",
              "      <td>44550</td>\n",
              "      <td>5</td>\n",
              "      <td>enough</td>\n",
              "      <td>24885</td>\n",
              "    </tr>\n",
              "    <tr>\n",
              "      <th>quantity</th>\n",
              "      <td>44550</td>\n",
              "      <td>5</td>\n",
              "      <td>enough</td>\n",
              "      <td>24885</td>\n",
              "    </tr>\n",
              "    <tr>\n",
              "      <th>management_group</th>\n",
              "      <td>44550</td>\n",
              "      <td>5</td>\n",
              "      <td>user-group</td>\n",
              "      <td>39392</td>\n",
              "    </tr>\n",
              "    <tr>\n",
              "      <th>quality_group</th>\n",
              "      <td>44550</td>\n",
              "      <td>6</td>\n",
              "      <td>good</td>\n",
              "      <td>38064</td>\n",
              "    </tr>\n",
              "    <tr>\n",
              "      <th>waterpoint_type_group</th>\n",
              "      <td>44550</td>\n",
              "      <td>6</td>\n",
              "      <td>communal standpipe</td>\n",
              "      <td>25884</td>\n",
              "    </tr>\n",
              "    <tr>\n",
              "      <th>waterpoint_type</th>\n",
              "      <td>44550</td>\n",
              "      <td>7</td>\n",
              "      <td>communal standpipe</td>\n",
              "      <td>21353</td>\n",
              "    </tr>\n",
              "    <tr>\n",
              "      <th>payment_type</th>\n",
              "      <td>44550</td>\n",
              "      <td>7</td>\n",
              "      <td>never pay</td>\n",
              "      <td>19062</td>\n",
              "    </tr>\n",
              "    <tr>\n",
              "      <th>extraction_type_class</th>\n",
              "      <td>44550</td>\n",
              "      <td>7</td>\n",
              "      <td>gravity</td>\n",
              "      <td>19966</td>\n",
              "    </tr>\n",
              "    <tr>\n",
              "      <th>source_type</th>\n",
              "      <td>44550</td>\n",
              "      <td>7</td>\n",
              "      <td>spring</td>\n",
              "      <td>12686</td>\n",
              "    </tr>\n",
              "    <tr>\n",
              "      <th>payment</th>\n",
              "      <td>44550</td>\n",
              "      <td>7</td>\n",
              "      <td>never pay</td>\n",
              "      <td>19062</td>\n",
              "    </tr>\n",
              "    <tr>\n",
              "      <th>water_quality</th>\n",
              "      <td>44550</td>\n",
              "      <td>8</td>\n",
              "      <td>soft</td>\n",
              "      <td>38064</td>\n",
              "    </tr>\n",
              "    <tr>\n",
              "      <th>basin</th>\n",
              "      <td>44550</td>\n",
              "      <td>9</td>\n",
              "      <td>Lake Victoria</td>\n",
              "      <td>7663</td>\n",
              "    </tr>\n",
              "    <tr>\n",
              "      <th>source</th>\n",
              "      <td>44550</td>\n",
              "      <td>10</td>\n",
              "      <td>spring</td>\n",
              "      <td>12686</td>\n",
              "    </tr>\n",
              "    <tr>\n",
              "      <th>scheme_management</th>\n",
              "      <td>41628</td>\n",
              "      <td>12</td>\n",
              "      <td>VWC</td>\n",
              "      <td>27632</td>\n",
              "    </tr>\n",
              "    <tr>\n",
              "      <th>management</th>\n",
              "      <td>44550</td>\n",
              "      <td>12</td>\n",
              "      <td>vwc</td>\n",
              "      <td>30414</td>\n",
              "    </tr>\n",
              "    <tr>\n",
              "      <th>extraction_type_group</th>\n",
              "      <td>44550</td>\n",
              "      <td>13</td>\n",
              "      <td>gravity</td>\n",
              "      <td>19966</td>\n",
              "    </tr>\n",
              "    <tr>\n",
              "      <th>extraction_type</th>\n",
              "      <td>44550</td>\n",
              "      <td>18</td>\n",
              "      <td>gravity</td>\n",
              "      <td>19966</td>\n",
              "    </tr>\n",
              "    <tr>\n",
              "      <th>region</th>\n",
              "      <td>44550</td>\n",
              "      <td>21</td>\n",
              "      <td>Iringa</td>\n",
              "      <td>3991</td>\n",
              "    </tr>\n",
              "    <tr>\n",
              "      <th>lga</th>\n",
              "      <td>44550</td>\n",
              "      <td>125</td>\n",
              "      <td>Njombe</td>\n",
              "      <td>1877</td>\n",
              "    </tr>\n",
              "    <tr>\n",
              "      <th>date_recorded</th>\n",
              "      <td>44550</td>\n",
              "      <td>349</td>\n",
              "      <td>2011-03-15</td>\n",
              "      <td>443</td>\n",
              "    </tr>\n",
              "    <tr>\n",
              "      <th>funder</th>\n",
              "      <td>41859</td>\n",
              "      <td>1644</td>\n",
              "      <td>Government Of Tanzania</td>\n",
              "      <td>6777</td>\n",
              "    </tr>\n",
              "    <tr>\n",
              "      <th>installer</th>\n",
              "      <td>41850</td>\n",
              "      <td>1860</td>\n",
              "      <td>DWE</td>\n",
              "      <td>13081</td>\n",
              "    </tr>\n",
              "    <tr>\n",
              "      <th>ward</th>\n",
              "      <td>44550</td>\n",
              "      <td>2071</td>\n",
              "      <td>Igosi</td>\n",
              "      <td>230</td>\n",
              "    </tr>\n",
              "    <tr>\n",
              "      <th>scheme_name</th>\n",
              "      <td>23418</td>\n",
              "      <td>2494</td>\n",
              "      <td>K</td>\n",
              "      <td>502</td>\n",
              "    </tr>\n",
              "    <tr>\n",
              "      <th>subvillage</th>\n",
              "      <td>44268</td>\n",
              "      <td>16671</td>\n",
              "      <td>Shuleni</td>\n",
              "      <td>384</td>\n",
              "    </tr>\n",
              "    <tr>\n",
              "      <th>wpt_name</th>\n",
              "      <td>44550</td>\n",
              "      <td>29076</td>\n",
              "      <td>none</td>\n",
              "      <td>2688</td>\n",
              "    </tr>\n",
              "  </tbody>\n",
              "</table>\n",
              "</div>"
            ],
            "text/plain": [
              "                       count unique                      top   freq\n",
              "recorded_by            44550      1  GeoData Consultants Ltd  44550\n",
              "public_meeting         42025      2                     True  38180\n",
              "permit                 42265      2                     True  29078\n",
              "status_group           44550      3               functional  24161\n",
              "source_class           44550      3              groundwater  34358\n",
              "quantity_group         44550      5                   enough  24885\n",
              "quantity               44550      5                   enough  24885\n",
              "management_group       44550      5               user-group  39392\n",
              "quality_group          44550      6                     good  38064\n",
              "waterpoint_type_group  44550      6       communal standpipe  25884\n",
              "waterpoint_type        44550      7       communal standpipe  21353\n",
              "payment_type           44550      7                never pay  19062\n",
              "extraction_type_class  44550      7                  gravity  19966\n",
              "source_type            44550      7                   spring  12686\n",
              "payment                44550      7                never pay  19062\n",
              "water_quality          44550      8                     soft  38064\n",
              "basin                  44550      9            Lake Victoria   7663\n",
              "source                 44550     10                   spring  12686\n",
              "scheme_management      41628     12                      VWC  27632\n",
              "management             44550     12                      vwc  30414\n",
              "extraction_type_group  44550     13                  gravity  19966\n",
              "extraction_type        44550     18                  gravity  19966\n",
              "region                 44550     21                   Iringa   3991\n",
              "lga                    44550    125                   Njombe   1877\n",
              "date_recorded          44550    349               2011-03-15    443\n",
              "funder                 41859   1644   Government Of Tanzania   6777\n",
              "installer              41850   1860                      DWE  13081\n",
              "ward                   44550   2071                    Igosi    230\n",
              "scheme_name            23418   2494                        K    502\n",
              "subvillage             44268  16671                  Shuleni    384\n",
              "wpt_name               44550  29076                     none   2688"
            ]
          },
          "metadata": {
            "tags": []
          },
          "execution_count": 125
        }
      ]
    },
    {
      "cell_type": "markdown",
      "metadata": {
        "id": "MqvgjnFL-Kbi",
        "colab_type": "text"
      },
      "source": [
        "#####* Will look at all without high cardinality <20\n",
        "#####* What are the unique values in these categories?"
      ]
    },
    {
      "cell_type": "markdown",
      "metadata": {
        "id": "QrEA6tLF3lp2",
        "colab_type": "text"
      },
      "source": [
        "######quantity"
      ]
    },
    {
      "cell_type": "code",
      "metadata": {
        "id": "Bk7ocuO-3kqm",
        "colab_type": "code",
        "outputId": "605bb5d1-888e-4f0e-c478-0967c8a8b44e",
        "colab": {
          "base_uri": "https://localhost:8080/",
          "height": 119
        }
      },
      "source": [
        "train['quantity'].value_counts()"
      ],
      "execution_count": 0,
      "outputs": [
        {
          "output_type": "execute_result",
          "data": {
            "text/plain": [
              "enough          24885\n",
              "insufficient    11334\n",
              "dry              4726\n",
              "seasonal         3014\n",
              "unknown           591\n",
              "Name: quantity, dtype: int64"
            ]
          },
          "metadata": {
            "tags": []
          },
          "execution_count": 126
        }
      ]
    },
    {
      "cell_type": "markdown",
      "metadata": {
        "id": "o4SvK5O83n6H",
        "colab_type": "text"
      },
      "source": [
        "######basin"
      ]
    },
    {
      "cell_type": "code",
      "metadata": {
        "id": "GrItD_d54hOI",
        "colab_type": "code",
        "outputId": "dd6f4a2d-46b9-4aeb-e06d-80f958d48dde",
        "colab": {
          "base_uri": "https://localhost:8080/",
          "height": 187
        }
      },
      "source": [
        "train['basin'].value_counts()"
      ],
      "execution_count": 0,
      "outputs": [
        {
          "output_type": "execute_result",
          "data": {
            "text/plain": [
              "Lake Victoria              7663\n",
              "Pangani                    6692\n",
              "Rufiji                     5974\n",
              "Internal                   5847\n",
              "Lake Tanganyika            4848\n",
              "Wami / Ruvu                4518\n",
              "Lake Nyasa                 3741\n",
              "Ruvuma / Southern Coast    3400\n",
              "Lake Rukwa                 1867\n",
              "Name: basin, dtype: int64"
            ]
          },
          "metadata": {
            "tags": []
          },
          "execution_count": 127
        }
      ]
    },
    {
      "cell_type": "markdown",
      "metadata": {
        "id": "a2NCrlFy3qcD",
        "colab_type": "text"
      },
      "source": [
        "######extraction_type_class"
      ]
    },
    {
      "cell_type": "code",
      "metadata": {
        "id": "k0_TvtH64hkR",
        "colab_type": "code",
        "outputId": "3b072e6f-710e-4c63-dfcc-169366ef5801",
        "colab": {
          "base_uri": "https://localhost:8080/",
          "height": 153
        }
      },
      "source": [
        "train['extraction_type_class'].value_counts()"
      ],
      "execution_count": 0,
      "outputs": [
        {
          "output_type": "execute_result",
          "data": {
            "text/plain": [
              "gravity         19966\n",
              "handpump        12412\n",
              "other            4824\n",
              "submersible      4672\n",
              "motorpump        2243\n",
              "rope pump         352\n",
              "wind-powered       81\n",
              "Name: extraction_type_class, dtype: int64"
            ]
          },
          "metadata": {
            "tags": []
          },
          "execution_count": 128
        }
      ]
    },
    {
      "cell_type": "markdown",
      "metadata": {
        "id": "0-xAUMDo4iZH",
        "colab_type": "text"
      },
      "source": [
        "######source_class, source_type, source"
      ]
    },
    {
      "cell_type": "code",
      "metadata": {
        "id": "Npk2EcuH4lVX",
        "colab_type": "code",
        "outputId": "64020609-887e-479b-8ea9-f5b59b04b57d",
        "colab": {
          "base_uri": "https://localhost:8080/",
          "height": 85
        }
      },
      "source": [
        "train['source_class'].value_counts()"
      ],
      "execution_count": 0,
      "outputs": [
        {
          "output_type": "execute_result",
          "data": {
            "text/plain": [
              "groundwater    34358\n",
              "surface         9967\n",
              "unknown          225\n",
              "Name: source_class, dtype: int64"
            ]
          },
          "metadata": {
            "tags": []
          },
          "execution_count": 129
        }
      ]
    },
    {
      "cell_type": "code",
      "metadata": {
        "id": "eQcIwygO6aR9",
        "colab_type": "code",
        "outputId": "54a3b5d5-a854-4dff-c2b6-f96f2f40f9e1",
        "colab": {
          "base_uri": "https://localhost:8080/",
          "height": 153
        }
      },
      "source": [
        "train['source_type'].value_counts()"
      ],
      "execution_count": 0,
      "outputs": [
        {
          "output_type": "execute_result",
          "data": {
            "text/plain": [
              "spring                  12686\n",
              "shallow well            12681\n",
              "borehole                 8991\n",
              "river/lake               7790\n",
              "rainwater harvesting     1701\n",
              "dam                       476\n",
              "other                     225\n",
              "Name: source_type, dtype: int64"
            ]
          },
          "metadata": {
            "tags": []
          },
          "execution_count": 130
        }
      ]
    },
    {
      "cell_type": "markdown",
      "metadata": {
        "id": "uN8v-SpB6vq-",
        "colab_type": "text"
      },
      "source": [
        "######waterpoint_type_group"
      ]
    },
    {
      "cell_type": "code",
      "metadata": {
        "id": "jtlM6GfC7nw7",
        "colab_type": "code",
        "outputId": "9d31f5bc-524a-4530-e1a6-fa5dab5e1e5a",
        "colab": {
          "base_uri": "https://localhost:8080/",
          "height": 153
        }
      },
      "source": [
        "train['waterpoint_type'].value_counts()"
      ],
      "execution_count": 0,
      "outputs": [
        {
          "output_type": "execute_result",
          "data": {
            "text/plain": [
              "communal standpipe             21353\n",
              "hand pump                      13192\n",
              "other                           4785\n",
              "communal standpipe multiple     4531\n",
              "improved spring                  598\n",
              "cattle trough                     88\n",
              "dam                                3\n",
              "Name: waterpoint_type, dtype: int64"
            ]
          },
          "metadata": {
            "tags": []
          },
          "execution_count": 131
        }
      ]
    },
    {
      "cell_type": "markdown",
      "metadata": {
        "id": "olCp6YCr6zHn",
        "colab_type": "text"
      },
      "source": [
        "######management"
      ]
    },
    {
      "cell_type": "code",
      "metadata": {
        "id": "8PdaY8C56-8b",
        "colab_type": "code",
        "outputId": "aa378e2b-b28c-45ad-ac28-40953e85045d",
        "colab": {
          "base_uri": "https://localhost:8080/",
          "height": 238
        }
      },
      "source": [
        "train['management'].value_counts()"
      ],
      "execution_count": 0,
      "outputs": [
        {
          "output_type": "execute_result",
          "data": {
            "text/plain": [
              "vwc                 30414\n",
              "wug                  4888\n",
              "water board          2176\n",
              "wua                  1914\n",
              "private operator     1479\n",
              "parastatal           1312\n",
              "water authority       674\n",
              "other                 637\n",
              "company               483\n",
              "unknown               434\n",
              "other - school         79\n",
              "trust                  60\n",
              "Name: management, dtype: int64"
            ]
          },
          "metadata": {
            "tags": []
          },
          "execution_count": 132
        }
      ]
    },
    {
      "cell_type": "markdown",
      "metadata": {
        "id": "aMw8Yuu__Q46",
        "colab_type": "text"
      },
      "source": [
        "######water_quality"
      ]
    },
    {
      "cell_type": "code",
      "metadata": {
        "id": "w9CSTXaa93tT",
        "colab_type": "code",
        "outputId": "b9b27c0d-00c1-40c5-aeb2-6c9f1d9a094f",
        "colab": {
          "base_uri": "https://localhost:8080/",
          "height": 170
        }
      },
      "source": [
        "train['water_quality'].value_counts()"
      ],
      "execution_count": 0,
      "outputs": [
        {
          "output_type": "execute_result",
          "data": {
            "text/plain": [
              "soft                  38064\n",
              "salty                  3674\n",
              "unknown                1398\n",
              "milky                   620\n",
              "coloured                373\n",
              "salty abandoned         249\n",
              "fluoride                159\n",
              "fluoride abandoned       13\n",
              "Name: water_quality, dtype: int64"
            ]
          },
          "metadata": {
            "tags": []
          },
          "execution_count": 133
        }
      ]
    },
    {
      "cell_type": "markdown",
      "metadata": {
        "id": "Y9r_mdD6_no6",
        "colab_type": "text"
      },
      "source": [
        "######payment"
      ]
    },
    {
      "cell_type": "code",
      "metadata": {
        "id": "l_vhEksu_1FP",
        "colab_type": "code",
        "outputId": "27ba00fa-19c9-41b8-8002-5e1e80111bf2",
        "colab": {
          "base_uri": "https://localhost:8080/",
          "height": 153
        }
      },
      "source": [
        "train['payment'].value_counts()"
      ],
      "execution_count": 0,
      "outputs": [
        {
          "output_type": "execute_result",
          "data": {
            "text/plain": [
              "never pay                19062\n",
              "pay per bucket            6778\n",
              "pay monthly               6144\n",
              "unknown                   6108\n",
              "pay when scheme fails     2960\n",
              "pay annually              2710\n",
              "other                      788\n",
              "Name: payment, dtype: int64"
            ]
          },
          "metadata": {
            "tags": []
          },
          "execution_count": 134
        }
      ]
    },
    {
      "cell_type": "markdown",
      "metadata": {
        "id": "Y-QDnpCg_9ad",
        "colab_type": "text"
      },
      "source": [
        "#####How does this affect target?"
      ]
    },
    {
      "cell_type": "code",
      "metadata": {
        "id": "Mq-2Hiwg_9Dq",
        "colab_type": "code",
        "outputId": "bb9757d5-3b82-4887-ff85-786311c026a0",
        "colab": {
          "base_uri": "https://localhost:8080/",
          "height": 1000
        }
      },
      "source": [
        "features = ['quantity', 'basin', 'extraction_type', 'source', 'waterpoint_type_group', 'management', 'water_quality', 'payment']\n",
        "\n",
        "for feature in features:\n",
        "\n",
        "  #Looking at categorical features against target\n",
        "  compare = train.groupby(feature)['status_group'].value_counts(normalize =True)\n",
        "  print(compare, '\\n')\n",
        "\n",
        "  #Creating graph to visualize how categorical data against functional target\n",
        "  sns.catplot(x=feature, y= 'functional', kind = 'bar', data=train);\n",
        "  plt.xticks(rotation=90);\n",
        "  plt.show();\n",
        "\n",
        "  print('\\n')"
      ],
      "execution_count": 0,
      "outputs": [
        {
          "output_type": "stream",
          "text": [
            "quantity      status_group           \n",
            "dry           non functional             0.968684\n",
            "              functional                 0.025391\n",
            "              functional needs repair    0.005925\n",
            "enough        functional                 0.652602\n",
            "              non functional             0.274623\n",
            "              functional needs repair    0.072775\n",
            "insufficient  functional                 0.524793\n",
            "              non functional             0.380095\n",
            "              functional needs repair    0.095112\n",
            "seasonal      functional                 0.565030\n",
            "              non functional             0.330126\n",
            "              functional needs repair    0.104844\n",
            "unknown       non functional             0.729272\n",
            "              functional                 0.253807\n",
            "              functional needs repair    0.016920\n",
            "Name: status_group, dtype: float64 \n",
            "\n"
          ],
          "name": "stdout"
        },
        {
          "output_type": "execute_result",
          "data": {
            "text/plain": [
              "<seaborn.axisgrid.FacetGrid at 0x7f6c1e855358>"
            ]
          },
          "metadata": {
            "tags": []
          },
          "execution_count": 135
        },
        {
          "output_type": "execute_result",
          "data": {
            "text/plain": [
              "(array([0, 1, 2, 3, 4]), <a list of 5 Text xticklabel objects>)"
            ]
          },
          "metadata": {
            "tags": []
          },
          "execution_count": 135
        },
        {
          "output_type": "display_data",
          "data": {
            "image/png": "[encoded data removed]",
            "text/plain": [
              "<Figure size 360x360 with 1 Axes>"
            ]
          },
          "metadata": {
            "tags": []
          }
        },
        {
          "output_type": "stream",
          "text": [
            "\n",
            "\n",
            "basin                    status_group           \n",
            "Internal                 functional                 0.580640\n",
            "                         non functional             0.347529\n",
            "                         functional needs repair    0.071832\n",
            "Lake Nyasa               functional                 0.648490\n",
            "                         non functional             0.301524\n",
            "                         functional needs repair    0.049987\n",
            "Lake Rukwa               non functional             0.485806\n",
            "                         functional                 0.402785\n",
            "                         functional needs repair    0.111409\n",
            "Lake Tanganyika          functional                 0.483086\n",
            "                         non functional             0.400371\n",
            "                         functional needs repair    0.116543\n",
            "Lake Victoria            functional                 0.493410\n",
            "                         non functional             0.406499\n",
            "                         functional needs repair    0.100091\n",
            "Pangani                  functional                 0.603706\n",
            "                         non functional             0.344889\n",
            "                         functional needs repair    0.051405\n",
            "Rufiji                   functional                 0.634416\n",
            "                         non functional             0.313358\n",
            "                         functional needs repair    0.052226\n",
            "Ruvuma / Southern Coast  non functional             0.557647\n",
            "                         functional                 0.373824\n",
            "                         functional needs repair    0.068529\n",
            "Wami / Ruvu              functional                 0.523240\n",
            "                         non functional             0.430943\n",
            "                         functional needs repair    0.045817\n",
            "Name: status_group, dtype: float64 \n",
            "\n"
          ],
          "name": "stdout"
        },
        {
          "output_type": "execute_result",
          "data": {
            "text/plain": [
              "<seaborn.axisgrid.FacetGrid at 0x7f6c24eaca58>"
            ]
          },
          "metadata": {
            "tags": []
          },
          "execution_count": 135
        },
        {
          "output_type": "execute_result",
          "data": {
            "text/plain": [
              "(array([0, 1, 2, 3, 4, 5, 6, 7, 8]), <a list of 9 Text xticklabel objects>)"
            ]
          },
          "metadata": {
            "tags": []
          },
          "execution_count": 135
        },
        {
          "output_type": "display_data",
          "data": {
            "image/png": "[encoded data removed]",
            "text/plain": [
              "<Figure size 360x360 with 1 Axes>"
            ]
          },
          "metadata": {
            "tags": []
          }
        },
        {
          "output_type": "stream",
          "text": [
            "\n",
            "\n",
            "extraction_type            status_group           \n",
            "afridev                    functional                 0.673929\n",
            "                           non functional             0.302029\n",
            "                           functional needs repair    0.024042\n",
            "cemo                       functional                 0.552239\n",
            "                           non functional             0.358209\n",
            "                           functional needs repair    0.089552\n",
            "climax                     non functional             0.730769\n",
            "                           functional                 0.269231\n",
            "gravity                    functional                 0.598217\n",
            "                           non functional             0.301663\n",
            "                           functional needs repair    0.100120\n",
            "india mark ii              functional                 0.603096\n",
            "                           non functional             0.363184\n",
            "                           functional needs repair    0.033720\n",
            "india mark iii             non functional             0.500000\n",
            "                           functional                 0.484375\n",
            "                           functional needs repair    0.015625\n",
            "ksb                        functional                 0.502901\n",
            "                           non functional             0.477756\n",
            "                           functional needs repair    0.019342\n",
            "mono                       non functional             0.575349\n",
            "                           functional                 0.379535\n",
            "                           functional needs repair    0.045116\n",
            "nira/tanira                functional                 0.665100\n",
            "                           non functional             0.254861\n",
            "                           functional needs repair    0.080039\n",
            "other                      non functional             0.807836\n",
            "                           functional                 0.159619\n",
            "                           functional needs repair    0.032546\n",
            "other - mkulima/shinyanga  non functional             1.000000\n",
            "other - play pump          non functional             0.617647\n",
            "                           functional                 0.367647\n",
            "                           functional needs repair    0.014706\n",
            "other - rope pump          functional                 0.644886\n",
            "                           non functional             0.318182\n",
            "                           functional needs repair    0.036932\n",
            "other - swn 81             functional                 0.542169\n",
            "                           non functional             0.427711\n",
            "                           functional needs repair    0.030120\n",
            "submersible                functional                 0.548928\n",
            "                           non functional             0.405168\n",
            "                           functional needs repair    0.045904\n",
            "swn 80                     functional                 0.561232\n",
            "                           non functional             0.376812\n",
            "                           functional needs repair    0.061957\n",
            "walimi                     functional                 0.475000\n",
            "                           functional needs repair    0.300000\n",
            "                           non functional             0.225000\n",
            "windmill                   non functional             0.469136\n",
            "                           functional                 0.444444\n",
            "                           functional needs repair    0.086420\n",
            "Name: status_group, dtype: float64 \n",
            "\n"
          ],
          "name": "stdout"
        },
        {
          "output_type": "execute_result",
          "data": {
            "text/plain": [
              "<seaborn.axisgrid.FacetGrid at 0x7f6c1f0026a0>"
            ]
          },
          "metadata": {
            "tags": []
          },
          "execution_count": 135
        },
        {
          "output_type": "execute_result",
          "data": {
            "text/plain": [
              "(array([ 0,  1,  2,  3,  4,  5,  6,  7,  8,  9, 10, 11, 12, 13, 14, 15, 16,\n",
              "        17]), <a list of 18 Text xticklabel objects>)"
            ]
          },
          "metadata": {
            "tags": []
          },
          "execution_count": 135
        },
        {
          "output_type": "display_data",
          "data": {
            "image/png": "[encoded data removed]",
            "text/plain": [
              "<Figure size 360x360 with 1 Axes>"
            ]
          },
          "metadata": {
            "tags": []
          }
        },
        {
          "output_type": "stream",
          "text": [
            "\n",
            "\n",
            "source                status_group           \n",
            "dam                   non functional             0.586134\n",
            "                      functional                 0.371849\n",
            "                      functional needs repair    0.042017\n",
            "hand dtw              functional                 0.560606\n",
            "                      non functional             0.419697\n",
            "                      functional needs repair    0.019697\n",
            "lake                  non functional             0.776801\n",
            "                      functional                 0.210896\n",
            "                      functional needs repair    0.012302\n",
            "machine dbh           functional                 0.493218\n",
            "                      non functional             0.463210\n",
            "                      functional needs repair    0.043572\n",
            "other                 functional                 0.589595\n",
            "                      non functional             0.404624\n",
            "                      functional needs repair    0.005780\n",
            "rainwater harvesting  functional                 0.598471\n",
            "                      non functional             0.259259\n",
            "                      functional needs repair    0.142269\n",
            "river                 functional                 0.563218\n",
            "                      non functional             0.311591\n",
            "                      functional needs repair    0.125190\n",
            "shallow well          functional                 0.493810\n",
            "                      non functional             0.447047\n",
            "                      functional needs repair    0.059144\n",
            "spring                functional                 0.623680\n",
            "                      non functional             0.302223\n",
            "                      functional needs repair    0.074097\n",
            "unknown               non functional             0.480769\n",
            "                      functional                 0.461538\n",
            "                      functional needs repair    0.057692\n",
            "Name: status_group, dtype: float64 \n",
            "\n"
          ],
          "name": "stdout"
        },
        {
          "output_type": "execute_result",
          "data": {
            "text/plain": [
              "<seaborn.axisgrid.FacetGrid at 0x7f6c1e486748>"
            ]
          },
          "metadata": {
            "tags": []
          },
          "execution_count": 135
        },
        {
          "output_type": "execute_result",
          "data": {
            "text/plain": [
              "(array([0, 1, 2, 3, 4, 5, 6, 7, 8, 9]), <a list of 10 Text xticklabel objects>)"
            ]
          },
          "metadata": {
            "tags": []
          },
          "execution_count": 135
        },
        {
          "output_type": "display_data",
          "data": {
            "image/png": "[encoded data removed]",
            "text/plain": [
              "<Figure size 360x360 with 1 Axes>"
            ]
          },
          "metadata": {
            "tags": []
          }
        },
        {
          "output_type": "stream",
          "text": [
            "\n",
            "\n",
            "waterpoint_type_group  status_group           \n",
            "cattle trough          functional                 0.750000\n",
            "                       non functional             0.238636\n",
            "                       functional needs repair    0.011364\n",
            "communal standpipe     functional                 0.576727\n",
            "                       non functional             0.340442\n",
            "                       functional needs repair    0.082831\n",
            "dam                    functional                 0.666667\n",
            "                       non functional             0.333333\n",
            "hand pump              functional                 0.615828\n",
            "                       non functional             0.323378\n",
            "                       functional needs repair    0.060794\n",
            "improved spring        functional                 0.702341\n",
            "                       non functional             0.178930\n",
            "                       functional needs repair    0.118729\n",
            "other                  non functional             0.823197\n",
            "                       functional                 0.129781\n",
            "                       functional needs repair    0.047022\n",
            "Name: status_group, dtype: float64 \n",
            "\n"
          ],
          "name": "stdout"
        },
        {
          "output_type": "execute_result",
          "data": {
            "text/plain": [
              "<seaborn.axisgrid.FacetGrid at 0x7f6c1e344d68>"
            ]
          },
          "metadata": {
            "tags": []
          },
          "execution_count": 135
        },
        {
          "output_type": "execute_result",
          "data": {
            "text/plain": [
              "(array([0, 1, 2, 3, 4, 5]), <a list of 6 Text xticklabel objects>)"
            ]
          },
          "metadata": {
            "tags": []
          },
          "execution_count": 135
        },
        {
          "output_type": "display_data",
          "data": {
            "image/png": "[encoded data removed]",
            "text/plain": [
              "<Figure size 360x360 with 1 Axes>"
            ]
          },
          "metadata": {
            "tags": []
          }
        },
        {
          "output_type": "stream",
          "text": [
            "\n",
            "\n",
            "management        status_group           \n",
            "company           non functional             0.575569\n",
            "                  functional                 0.403727\n",
            "                  functional needs repair    0.020704\n",
            "other             functional                 0.607535\n",
            "                  non functional             0.323391\n",
            "                  functional needs repair    0.069074\n",
            "other - school    non functional             0.746835\n",
            "                  functional                 0.240506\n",
            "                  functional needs repair    0.012658\n",
            "parastatal        functional                 0.577744\n",
            "                  non functional             0.300305\n",
            "                  functional needs repair    0.121951\n",
            "private operator  functional                 0.753212\n",
            "                  non functional             0.222448\n",
            "                  functional needs repair    0.024341\n",
            "trust             functional                 0.550000\n",
            "                  non functional             0.350000\n",
            "                  functional needs repair    0.100000\n",
            "unknown           non functional             0.550691\n",
            "                  functional                 0.396313\n",
            "                  functional needs repair    0.052995\n",
            "vwc               functional                 0.504011\n",
            "                  non functional             0.427303\n",
            "                  functional needs repair    0.068685\n",
            "water authority   functional                 0.476261\n",
            "                  non functional             0.468843\n",
            "                  functional needs repair    0.054896\n",
            "water board       functional                 0.740809\n",
            "                  non functional             0.169577\n",
            "                  functional needs repair    0.089614\n",
            "wua               functional                 0.684431\n",
            "                  non functional             0.237722\n",
            "                  functional needs repair    0.077847\n",
            "wug               functional                 0.595540\n",
            "                  non functional             0.303601\n",
            "                  functional needs repair    0.100859\n",
            "Name: status_group, dtype: float64 \n",
            "\n"
          ],
          "name": "stdout"
        },
        {
          "output_type": "execute_result",
          "data": {
            "text/plain": [
              "<seaborn.axisgrid.FacetGrid at 0x7f6c1e344e80>"
            ]
          },
          "metadata": {
            "tags": []
          },
          "execution_count": 135
        },
        {
          "output_type": "execute_result",
          "data": {
            "text/plain": [
              "(array([ 0,  1,  2,  3,  4,  5,  6,  7,  8,  9, 10, 11]),\n",
              " <a list of 12 Text xticklabel objects>)"
            ]
          },
          "metadata": {
            "tags": []
          },
          "execution_count": 135
        },
        {
          "output_type": "display_data",
          "data": {
            "image/png": "[encoded data removed]",
            "text/plain": [
              "<Figure size 360x360 with 1 Axes>"
            ]
          },
          "metadata": {
            "tags": []
          }
        },
        {
          "output_type": "stream",
          "text": [
            "\n",
            "\n",
            "water_quality       status_group           \n",
            "coloured            functional                 0.512064\n",
            "                    non functional             0.391421\n",
            "                    functional needs repair    0.096515\n",
            "fluoride            functional                 0.773585\n",
            "                    non functional             0.157233\n",
            "                    functional needs repair    0.069182\n",
            "fluoride abandoned  non functional             0.615385\n",
            "                    functional                 0.384615\n",
            "milky               functional                 0.543548\n",
            "                    non functional             0.435484\n",
            "                    functional needs repair    0.020968\n",
            "salty               non functional             0.495645\n",
            "                    functional                 0.456723\n",
            "                    functional needs repair    0.047632\n",
            "salty abandoned     functional                 0.506024\n",
            "                    non functional             0.281124\n",
            "                    functional needs repair    0.212851\n",
            "soft                functional                 0.565364\n",
            "                    non functional             0.357661\n",
            "                    functional needs repair    0.076976\n",
            "unknown             non functional             0.852647\n",
            "                    functional                 0.129471\n",
            "                    functional needs repair    0.017883\n",
            "Name: status_group, dtype: float64 \n",
            "\n"
          ],
          "name": "stdout"
        },
        {
          "output_type": "execute_result",
          "data": {
            "text/plain": [
              "<seaborn.axisgrid.FacetGrid at 0x7f6c1e776358>"
            ]
          },
          "metadata": {
            "tags": []
          },
          "execution_count": 135
        },
        {
          "output_type": "execute_result",
          "data": {
            "text/plain": [
              "(array([0, 1, 2, 3, 4, 5, 6, 7]), <a list of 8 Text xticklabel objects>)"
            ]
          },
          "metadata": {
            "tags": []
          },
          "execution_count": 135
        },
        {
          "output_type": "display_data",
          "data": {
            "image/png": "[encoded data removed]",
            "text/plain": [
              "<Figure size 360x360 with 1 Axes>"
            ]
          },
          "metadata": {
            "tags": []
          }
        },
        {
          "output_type": "stream",
          "text": [
            "\n",
            "\n",
            "payment                status_group           \n",
            "never pay              non functional             0.476917\n",
            "                       functional                 0.447907\n",
            "                       functional needs repair    0.075176\n",
            "other                  functional                 0.583756\n",
            "                       non functional             0.303299\n",
            "                       functional needs repair    0.112944\n",
            "pay annually           functional                 0.749446\n",
            "                       non functional             0.181919\n",
            "                       functional needs repair    0.068635\n",
            "pay monthly            functional                 0.662109\n",
            "                       non functional             0.226888\n",
            "                       functional needs repair    0.111003\n",
            "pay per bucket         functional                 0.677781\n",
            "                       non functional             0.277515\n",
            "                       functional needs repair    0.044703\n",
            "pay when scheme fails  functional                 0.619595\n",
            "                       non functional             0.306419\n",
            "                       functional needs repair    0.073986\n",
            "unknown                non functional             0.514244\n",
            "                       functional                 0.431565\n",
            "                       functional needs repair    0.054191\n",
            "Name: status_group, dtype: float64 \n",
            "\n"
          ],
          "name": "stdout"
        },
        {
          "output_type": "execute_result",
          "data": {
            "text/plain": [
              "<seaborn.axisgrid.FacetGrid at 0x7f6c1e344d68>"
            ]
          },
          "metadata": {
            "tags": []
          },
          "execution_count": 135
        },
        {
          "output_type": "execute_result",
          "data": {
            "text/plain": [
              "(array([0, 1, 2, 3, 4, 5, 6]), <a list of 7 Text xticklabel objects>)"
            ]
          },
          "metadata": {
            "tags": []
          },
          "execution_count": 135
        },
        {
          "output_type": "display_data",
          "data": {
            "image/png": "[encoded data removed]",
            "text/plain": [
              "<Figure size 360x360 with 1 Axes>"
            ]
          },
          "metadata": {
            "tags": []
          }
        },
        {
          "output_type": "stream",
          "text": [
            "\n",
            "\n"
          ],
          "name": "stdout"
        }
      ]
    },
    {
      "cell_type": "markdown",
      "metadata": {
        "id": "-9mpAacyXhoW",
        "colab_type": "text"
      },
      "source": [
        "Scatterplot was not as informative as I would like so, I need to encode status_group, at least functional into a number on it's own so that I could plot."
      ]
    },
    {
      "cell_type": "markdown",
      "metadata": {
        "id": "4gM8U9V9khyD",
        "colab_type": "text"
      },
      "source": [
        "###4. . Use scikit-learn for logistic regression/ feature scaling"
      ]
    },
    {
      "cell_type": "markdown",
      "metadata": {
        "id": "2u73hUrgowDb",
        "colab_type": "text"
      },
      "source": [
        "#####**Logistic Regression**"
      ]
    },
    {
      "cell_type": "code",
      "metadata": {
        "id": "aYNVk-CR1Vtw",
        "colab_type": "code",
        "colab": {}
      },
      "source": [
        "#not dropping id here because I need to drop it from both the train and validation sets\n",
        "train = train.drop(['functional'], axis=1)"
      ],
      "execution_count": 0,
      "outputs": []
    },
    {
      "cell_type": "code",
      "metadata": {
        "id": "R5oSfMUr2Iua",
        "colab_type": "code",
        "outputId": "26510662-e736-4608-bb79-a4f7e84a9979",
        "colab": {
          "base_uri": "https://localhost:8080/",
          "height": 394
        }
      },
      "source": [
        "train.head()"
      ],
      "execution_count": 0,
      "outputs": [
        {
          "output_type": "execute_result",
          "data": {
            "text/html": [
              "<div>\n",
              "<style scoped>\n",
              "    .dataframe tbody tr th:only-of-type {\n",
              "        vertical-align: middle;\n",
              "    }\n",
              "\n",
              "    .dataframe tbody tr th {\n",
              "        vertical-align: top;\n",
              "    }\n",
              "\n",
              "    .dataframe thead th {\n",
              "        text-align: right;\n",
              "    }\n",
              "</style>\n",
              "<table border=\"1\" class=\"dataframe\">\n",
              "  <thead>\n",
              "    <tr style=\"text-align: right;\">\n",
              "      <th></th>\n",
              "      <th>id</th>\n",
              "      <th>amount_tsh</th>\n",
              "      <th>date_recorded</th>\n",
              "      <th>funder</th>\n",
              "      <th>gps_height</th>\n",
              "      <th>installer</th>\n",
              "      <th>longitude</th>\n",
              "      <th>latitude</th>\n",
              "      <th>wpt_name</th>\n",
              "      <th>num_private</th>\n",
              "      <th>basin</th>\n",
              "      <th>subvillage</th>\n",
              "      <th>region</th>\n",
              "      <th>region_code</th>\n",
              "      <th>district_code</th>\n",
              "      <th>lga</th>\n",
              "      <th>ward</th>\n",
              "      <th>population</th>\n",
              "      <th>public_meeting</th>\n",
              "      <th>recorded_by</th>\n",
              "      <th>scheme_management</th>\n",
              "      <th>scheme_name</th>\n",
              "      <th>permit</th>\n",
              "      <th>construction_year</th>\n",
              "      <th>extraction_type</th>\n",
              "      <th>extraction_type_group</th>\n",
              "      <th>extraction_type_class</th>\n",
              "      <th>management</th>\n",
              "      <th>management_group</th>\n",
              "      <th>payment</th>\n",
              "      <th>payment_type</th>\n",
              "      <th>water_quality</th>\n",
              "      <th>quality_group</th>\n",
              "      <th>quantity</th>\n",
              "      <th>quantity_group</th>\n",
              "      <th>source</th>\n",
              "      <th>source_type</th>\n",
              "      <th>source_class</th>\n",
              "      <th>waterpoint_type</th>\n",
              "      <th>waterpoint_type_group</th>\n",
              "      <th>status_group</th>\n",
              "    </tr>\n",
              "  </thead>\n",
              "  <tbody>\n",
              "    <tr>\n",
              "      <th>24947</th>\n",
              "      <td>33935</td>\n",
              "      <td>20.0</td>\n",
              "      <td>2011-03-08</td>\n",
              "      <td>Government Of Tanzania</td>\n",
              "      <td>330</td>\n",
              "      <td>Ce</td>\n",
              "      <td>38.123839</td>\n",
              "      <td>-6.087137e+00</td>\n",
              "      <td>Ccm</td>\n",
              "      <td>0</td>\n",
              "      <td>Wami / Ruvu</td>\n",
              "      <td>Kilangawageni</td>\n",
              "      <td>Pwani</td>\n",
              "      <td>6</td>\n",
              "      <td>1</td>\n",
              "      <td>Bagamoyo</td>\n",
              "      <td>Mbwewe</td>\n",
              "      <td>80</td>\n",
              "      <td>True</td>\n",
              "      <td>GeoData Consultants Ltd</td>\n",
              "      <td>VWC</td>\n",
              "      <td>Kwaruhombo wa</td>\n",
              "      <td>True</td>\n",
              "      <td>1972</td>\n",
              "      <td>ksb</td>\n",
              "      <td>submersible</td>\n",
              "      <td>submersible</td>\n",
              "      <td>vwc</td>\n",
              "      <td>user-group</td>\n",
              "      <td>pay per bucket</td>\n",
              "      <td>per bucket</td>\n",
              "      <td>salty</td>\n",
              "      <td>salty</td>\n",
              "      <td>insufficient</td>\n",
              "      <td>insufficient</td>\n",
              "      <td>machine dbh</td>\n",
              "      <td>borehole</td>\n",
              "      <td>groundwater</td>\n",
              "      <td>communal standpipe</td>\n",
              "      <td>communal standpipe</td>\n",
              "      <td>non functional</td>\n",
              "    </tr>\n",
              "    <tr>\n",
              "      <th>22630</th>\n",
              "      <td>49654</td>\n",
              "      <td>0.0</td>\n",
              "      <td>2013-02-16</td>\n",
              "      <td>Dwsp</td>\n",
              "      <td>0</td>\n",
              "      <td>DWE</td>\n",
              "      <td>0.000000</td>\n",
              "      <td>-2.000000e-08</td>\n",
              "      <td>Mwamahonza</td>\n",
              "      <td>0</td>\n",
              "      <td>Lake Victoria</td>\n",
              "      <td>Mwamahala</td>\n",
              "      <td>Mwanza</td>\n",
              "      <td>17</td>\n",
              "      <td>1</td>\n",
              "      <td>Magu</td>\n",
              "      <td>Nkungulu</td>\n",
              "      <td>0</td>\n",
              "      <td>NaN</td>\n",
              "      <td>GeoData Consultants Ltd</td>\n",
              "      <td>WUG</td>\n",
              "      <td>NaN</td>\n",
              "      <td>False</td>\n",
              "      <td>0</td>\n",
              "      <td>nira/tanira</td>\n",
              "      <td>nira/tanira</td>\n",
              "      <td>handpump</td>\n",
              "      <td>wug</td>\n",
              "      <td>user-group</td>\n",
              "      <td>unknown</td>\n",
              "      <td>unknown</td>\n",
              "      <td>soft</td>\n",
              "      <td>good</td>\n",
              "      <td>enough</td>\n",
              "      <td>enough</td>\n",
              "      <td>shallow well</td>\n",
              "      <td>shallow well</td>\n",
              "      <td>groundwater</td>\n",
              "      <td>hand pump</td>\n",
              "      <td>hand pump</td>\n",
              "      <td>functional</td>\n",
              "    </tr>\n",
              "    <tr>\n",
              "      <th>13789</th>\n",
              "      <td>39287</td>\n",
              "      <td>0.0</td>\n",
              "      <td>2011-08-13</td>\n",
              "      <td>Dasip</td>\n",
              "      <td>0</td>\n",
              "      <td>DASIP</td>\n",
              "      <td>33.312321</td>\n",
              "      <td>-2.814100e+00</td>\n",
              "      <td>Chanongu</td>\n",
              "      <td>0</td>\n",
              "      <td>Lake Victoria</td>\n",
              "      <td>Chanongu</td>\n",
              "      <td>Mwanza</td>\n",
              "      <td>19</td>\n",
              "      <td>4</td>\n",
              "      <td>Kwimba</td>\n",
              "      <td>Wala</td>\n",
              "      <td>0</td>\n",
              "      <td>True</td>\n",
              "      <td>GeoData Consultants Ltd</td>\n",
              "      <td>VWC</td>\n",
              "      <td>NaN</td>\n",
              "      <td>True</td>\n",
              "      <td>0</td>\n",
              "      <td>india mark ii</td>\n",
              "      <td>india mark ii</td>\n",
              "      <td>handpump</td>\n",
              "      <td>vwc</td>\n",
              "      <td>user-group</td>\n",
              "      <td>never pay</td>\n",
              "      <td>never pay</td>\n",
              "      <td>soft</td>\n",
              "      <td>good</td>\n",
              "      <td>enough</td>\n",
              "      <td>enough</td>\n",
              "      <td>machine dbh</td>\n",
              "      <td>borehole</td>\n",
              "      <td>groundwater</td>\n",
              "      <td>hand pump</td>\n",
              "      <td>hand pump</td>\n",
              "      <td>functional</td>\n",
              "    </tr>\n",
              "    <tr>\n",
              "      <th>15697</th>\n",
              "      <td>60510</td>\n",
              "      <td>0.0</td>\n",
              "      <td>2013-01-20</td>\n",
              "      <td>Government Of Tanzania</td>\n",
              "      <td>1542</td>\n",
              "      <td>GOVERNMENT</td>\n",
              "      <td>34.783049</td>\n",
              "      <td>-4.842093e+00</td>\n",
              "      <td>Zahanati</td>\n",
              "      <td>0</td>\n",
              "      <td>Internal</td>\n",
              "      <td>Mungumaji</td>\n",
              "      <td>Singida</td>\n",
              "      <td>13</td>\n",
              "      <td>4</td>\n",
              "      <td>Singida Urban</td>\n",
              "      <td>Mungumaji</td>\n",
              "      <td>23</td>\n",
              "      <td>True</td>\n",
              "      <td>GeoData Consultants Ltd</td>\n",
              "      <td>WUA</td>\n",
              "      <td>NaN</td>\n",
              "      <td>True</td>\n",
              "      <td>2010</td>\n",
              "      <td>gravity</td>\n",
              "      <td>gravity</td>\n",
              "      <td>gravity</td>\n",
              "      <td>wua</td>\n",
              "      <td>user-group</td>\n",
              "      <td>never pay</td>\n",
              "      <td>never pay</td>\n",
              "      <td>soft</td>\n",
              "      <td>good</td>\n",
              "      <td>seasonal</td>\n",
              "      <td>seasonal</td>\n",
              "      <td>rainwater harvesting</td>\n",
              "      <td>rainwater harvesting</td>\n",
              "      <td>surface</td>\n",
              "      <td>communal standpipe</td>\n",
              "      <td>communal standpipe</td>\n",
              "      <td>functional</td>\n",
              "    </tr>\n",
              "    <tr>\n",
              "      <th>22613</th>\n",
              "      <td>24259</td>\n",
              "      <td>0.0</td>\n",
              "      <td>2013-09-03</td>\n",
              "      <td>World Bank</td>\n",
              "      <td>523</td>\n",
              "      <td>Government</td>\n",
              "      <td>34.660944</td>\n",
              "      <td>-1.070733e+01</td>\n",
              "      <td>Kwa Mzee Charles</td>\n",
              "      <td>0</td>\n",
              "      <td>Lake Nyasa</td>\n",
              "      <td>Tumba</td>\n",
              "      <td>Ruvuma</td>\n",
              "      <td>10</td>\n",
              "      <td>3</td>\n",
              "      <td>Mbinga</td>\n",
              "      <td>Mbaha</td>\n",
              "      <td>1</td>\n",
              "      <td>NaN</td>\n",
              "      <td>GeoData Consultants Ltd</td>\n",
              "      <td>VWC</td>\n",
              "      <td>Government</td>\n",
              "      <td>True</td>\n",
              "      <td>2013</td>\n",
              "      <td>gravity</td>\n",
              "      <td>gravity</td>\n",
              "      <td>gravity</td>\n",
              "      <td>vwc</td>\n",
              "      <td>user-group</td>\n",
              "      <td>unknown</td>\n",
              "      <td>unknown</td>\n",
              "      <td>soft</td>\n",
              "      <td>good</td>\n",
              "      <td>dry</td>\n",
              "      <td>dry</td>\n",
              "      <td>spring</td>\n",
              "      <td>spring</td>\n",
              "      <td>groundwater</td>\n",
              "      <td>communal standpipe</td>\n",
              "      <td>communal standpipe</td>\n",
              "      <td>non functional</td>\n",
              "    </tr>\n",
              "  </tbody>\n",
              "</table>\n",
              "</div>"
            ],
            "text/plain": [
              "          id  amount_tsh  ... waterpoint_type_group    status_group\n",
              "24947  33935        20.0  ...    communal standpipe  non functional\n",
              "22630  49654         0.0  ...             hand pump      functional\n",
              "13789  39287         0.0  ...             hand pump      functional\n",
              "15697  60510         0.0  ...    communal standpipe      functional\n",
              "22613  24259         0.0  ...    communal standpipe  non functional\n",
              "\n",
              "[5 rows x 41 columns]"
            ]
          },
          "metadata": {
            "tags": []
          },
          "execution_count": 137
        }
      ]
    },
    {
      "cell_type": "code",
      "metadata": {
        "id": "xv8e_7LdovpU",
        "colab_type": "code",
        "outputId": "b463d19c-7fcc-415e-d301-b8ff10c4a9a6",
        "colab": {
          "base_uri": "https://localhost:8080/",
          "height": 190
        }
      },
      "source": [
        "#LOGISTIC REGRESSIOn\n",
        "\n",
        "#Select Feature and Target\n",
        "target = 'status_group'\n",
        "numeric_features = train.select_dtypes('number').columns.drop('id').tolist()\n",
        "categorical_features = ['quantity', 'basin', 'extraction_type', 'source', 'waterpoint_type_group', 'management', 'water_quality', 'payment']\n",
        "use_features = categorical_features + numeric_features\n",
        "\n",
        "#Arrange x features matrices and y target vectors\n",
        "# Training\n",
        "X_train = train[use_features]\n",
        "y_train = train[target]\n",
        "\n",
        "#Validaion\n",
        "X_val = val[use_features]\n",
        "y_val = val[target]\n",
        "\n",
        "#OneHotEncoder - encoding categorical data\n",
        "encoder = ce.OneHotEncoder(use_cat_names=True)\n",
        "X_train_encoded = encoder.fit_transform(X_train)\n",
        "X_val_encoded = encoder.transform(X_val)\n",
        "# X_train_encoded.head()\n",
        "\n",
        "#Imputing the model for any columns that have null values \n",
        "#I don't think I have any data to impute but it doesn't hurt \n",
        "imputer = SimpleImputer()\n",
        "X_train_imputed = imputer.fit_transform(X_train_encoded)\n",
        "X_val_imputed = imputer.transform(X_val_encoded)\n",
        "\n",
        "#Scaling the model\n",
        "scaler = StandardScaler()\n",
        "X_train_scaled = scaler.fit_transform(X_train_imputed)\n",
        "X_val_scaled = scaler.transform(X_val_imputed)\n",
        "\n",
        "#Logistic Regression\n",
        "#Fit the model\n",
        "model = LogisticRegression(solver='lbfgs', random_state=42)\n",
        "model.fit(X_train_scaled, y_train)\n",
        "\n",
        "#Accuracy\n",
        "print('Validation Accuracy', model.score(X_val_scaled,y_val))"
      ],
      "execution_count": 0,
      "outputs": [
        {
          "output_type": "stream",
          "text": [
            "/usr/local/lib/python3.6/dist-packages/sklearn/linear_model/logistic.py:469: FutureWarning:\n",
            "\n",
            "Default multi_class will be changed to 'auto' in 0.22. Specify the multi_class option to silence this warning.\n",
            "\n"
          ],
          "name": "stderr"
        },
        {
          "output_type": "execute_result",
          "data": {
            "text/plain": [
              "LogisticRegression(C=1.0, class_weight=None, dual=False, fit_intercept=True,\n",
              "                   intercept_scaling=1, l1_ratio=None, max_iter=100,\n",
              "                   multi_class='warn', n_jobs=None, penalty='l2',\n",
              "                   random_state=42, solver='lbfgs', tol=0.0001, verbose=0,\n",
              "                   warm_start=False)"
            ]
          },
          "metadata": {
            "tags": []
          },
          "execution_count": 142
        },
        {
          "output_type": "stream",
          "text": [
            "Validation Accuracy 0.7276094276094276\n"
          ],
          "name": "stdout"
        }
      ]
    },
    {
      "cell_type": "markdown",
      "metadata": {
        "id": "KpX0CNgf6TKy",
        "colab_type": "text"
      },
      "source": [
        "My model is an improvement from the baseline of 0.542334 to 0.7276094276094276"
      ]
    },
    {
      "cell_type": "markdown",
      "metadata": {
        "id": "Dv0ZO5dnlD7x",
        "colab_type": "text"
      },
      "source": [
        "### 5. Get and plot your coefficients."
      ]
    },
    {
      "cell_type": "code",
      "metadata": {
        "id": "dmF7z2CI5gxE",
        "colab_type": "code",
        "outputId": "1eb3e9a8-e8aa-4245-8af1-80468bcac3e4",
        "colab": {
          "base_uri": "https://localhost:8080/",
          "height": 883
        }
      },
      "source": [
        "coefficients = pd.Series(\n",
        "    model.coef_[0], \n",
        "    X_train_encoded.columns\n",
        "    )\n",
        "\n",
        "plt.figure(figsize = (15,15))\n",
        "coefficients.sort_values().plot.barh();"
      ],
      "execution_count": 0,
      "outputs": [
        {
          "output_type": "display_data",
          "data": {
            "image/png": "[encoded data removed]",
            "text/plain": [
              "<Figure size 1080x1080 with 1 Axes>"
            ]
          },
          "metadata": {
            "tags": []
          }
        }
      ]
    },
    {
      "cell_type": "markdown",
      "metadata": {
        "id": "EVy_JrNP6HHf",
        "colab_type": "text"
      },
      "source": [
        "### Just for fun\n",
        "* because there are longitude and latitude plots\n",
        "\n"
      ]
    },
    {
      "cell_type": "code",
      "metadata": {
        "id": "vATupyeZ607o",
        "colab_type": "code",
        "outputId": "7b17fe1e-1a88-4b62-e1cf-3694afa2ec08",
        "colab": {
          "base_uri": "https://localhost:8080/",
          "height": 497
        }
      },
      "source": [
        "plt.figure(figsize=(8,8))\n",
        "sns.scatterplot(x='longitude',\n",
        "                y= 'latitude',\n",
        "                hue = 'status_group',\n",
        "                data = train\n",
        "                );"
      ],
      "execution_count": 0,
      "outputs": [
        {
          "output_type": "display_data",
          "data": {
            "image/png": "[encoded data removed]",
            "text/plain": [
              "<Figure size 576x576 with 1 Axes>"
            ]
          },
          "metadata": {
            "tags": []
          }
        }
      ]
    },
    {
      "cell_type": "markdown",
      "metadata": {
        "id": "W-Nh_3V57bDZ",
        "colab_type": "text"
      },
      "source": [
        "#####For further exploration - how does longitude and latitude correlate to the status_group. \n",
        "* Creating bins to see relations."
      ]
    },
    {
      "cell_type": "markdown",
      "metadata": {
        "id": "bnnP2Q7-BB6L",
        "colab_type": "text"
      },
      "source": [
        "##### Using pd.cut"
      ]
    },
    {
      "cell_type": "code",
      "metadata": {
        "id": "O578z8Ms7n-g",
        "colab_type": "code",
        "colab": {}
      },
      "source": [
        "train['lat_bins'] = pd.cut(train['latitude'], bins=6, labels = [1,2,3,4,5,6])\n",
        "train['long_bins'] = pd.cut(train['longitude'], bins=6, labels = [1,2,3,4,5,6])"
      ],
      "execution_count": 0,
      "outputs": []
    },
    {
      "cell_type": "code",
      "metadata": {
        "id": "pehS71wWHs9l",
        "colab_type": "code",
        "outputId": "1242a06a-b4ac-4bae-c74d-2b07666673ee",
        "colab": {
          "base_uri": "https://localhost:8080/",
          "height": 663
        }
      },
      "source": [
        "train.groupby(['lat_bins','long_bins'])['status_group'].value_counts(normalize=True)"
      ],
      "execution_count": 0,
      "outputs": [
        {
          "output_type": "execute_result",
          "data": {
            "text/plain": [
              "lat_bins  long_bins  status_group           \n",
              "1         6          non functional             0.487723\n",
              "                     functional                 0.454241\n",
              "                     functional needs repair    0.058036\n",
              "2         5          functional                 0.468400\n",
              "                     non functional             0.436127\n",
              "                     functional needs repair    0.095473\n",
              "          6          functional                 0.641576\n",
              "                     non functional             0.305645\n",
              "                     functional needs repair    0.052779\n",
              "3         5          non functional             0.501529\n",
              "                     functional                 0.396024\n",
              "                     functional needs repair    0.102446\n",
              "          6          functional                 0.537808\n",
              "                     non functional             0.417842\n",
              "                     functional needs repair    0.044350\n",
              "4         5          functional                 0.455403\n",
              "                     non functional             0.403957\n",
              "                     functional needs repair    0.140639\n",
              "          6          functional                 0.531458\n",
              "                     non functional             0.398774\n",
              "                     functional needs repair    0.069767\n",
              "5         5          functional                 0.540064\n",
              "                     non functional             0.403045\n",
              "                     functional needs repair    0.056891\n",
              "          6          functional                 0.638922\n",
              "                     non functional             0.294372\n",
              "                     functional needs repair    0.066706\n",
              "6         1          functional                 0.473488\n",
              "                     non functional             0.303211\n",
              "                     functional needs repair    0.223301\n",
              "          5          functional                 0.466447\n",
              "                     non functional             0.426974\n",
              "                     functional needs repair    0.106579\n",
              "          6          non functional             0.490446\n",
              "                     functional                 0.472247\n",
              "                     functional needs repair    0.037307\n",
              "Name: status_group, dtype: float64"
            ]
          },
          "metadata": {
            "tags": []
          },
          "execution_count": 160
        }
      ]
    },
    {
      "cell_type": "markdown",
      "metadata": {
        "id": "yMmqewqHH_E8",
        "colab_type": "text"
      },
      "source": [
        "I am unsure what happened to long_bins 2-4"
      ]
    },
    {
      "cell_type": "code",
      "metadata": {
        "id": "AGusaFKRIp5O",
        "colab_type": "code",
        "outputId": "6cc52724-3c42-4e3d-a40e-768e7b9fb0d0",
        "colab": {
          "base_uri": "https://localhost:8080/",
          "height": 136
        }
      },
      "source": [
        "train.long_bins.value_counts()"
      ],
      "execution_count": 0,
      "outputs": [
        {
          "output_type": "execute_result",
          "data": {
            "text/plain": [
              "6    30529\n",
              "5    12682\n",
              "1     1339\n",
              "4        0\n",
              "3        0\n",
              "2        0\n",
              "Name: long_bins, dtype: int64"
            ]
          },
          "metadata": {
            "tags": []
          },
          "execution_count": 164
        }
      ]
    },
    {
      "cell_type": "code",
      "metadata": {
        "id": "42hDfCsAIy1h",
        "colab_type": "code",
        "outputId": "7e12a6e7-8c5c-4c33-f390-f504a5e15ff1",
        "colab": {
          "base_uri": "https://localhost:8080/",
          "height": 136
        }
      },
      "source": [
        "train.lat_bins.value_counts()"
      ],
      "execution_count": 0,
      "outputs": [
        {
          "output_type": "execute_result",
          "data": {
            "text/plain": [
              "5    11708\n",
              "2     9033\n",
              "4     8832\n",
              "3     6539\n",
              "1     4480\n",
              "6     3958\n",
              "Name: lat_bins, dtype: int64"
            ]
          },
          "metadata": {
            "tags": []
          },
          "execution_count": 165
        }
      ]
    },
    {
      "cell_type": "markdown",
      "metadata": {
        "id": "dh5xTxiSKKBe",
        "colab_type": "text"
      },
      "source": [
        "Might try KClusters "
      ]
    }
  ]
}